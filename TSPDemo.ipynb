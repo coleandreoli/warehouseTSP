{
 "cells": [
  {
   "cell_type": "markdown",
   "metadata": {},
   "source": [
    "# Warehouse TSP"
   ]
  },
  {
   "cell_type": "code",
   "execution_count": 5,
   "metadata": {},
   "outputs": [],
   "source": [
    "from warehousetsp.warehousetsp import Grid\n",
    "import numpy as np\n",
    "import matplotlib.pyplot as plt\n",
    "import pandas as pd\n",
    "import os"
   ]
  },
  {
   "cell_type": "code",
   "execution_count": 7,
   "metadata": {},
   "outputs": [],
   "source": [
    "df = pd.read_csv(\"static/fruits.csv\")\n",
    "grid = np.loadtxt(\"static/fruteria.csv\", delimiter=\",\", dtype=int)\n",
    "wh = pd.read_csv(\"static/warehouse.csv\")"
   ]
  },
  {
   "cell_type": "code",
   "execution_count": null,
   "metadata": {},
   "outputs": [],
   "source": [
    "df[\"bin\"] = np.random.randint(1, n_bins, df.shape[0])"
   ]
  },
  {
   "cell_type": "code",
   "execution_count": null,
   "metadata": {},
   "outputs": [],
   "source": []
  },
  {
   "cell_type": "code",
   "execution_count": null,
   "metadata": {},
   "outputs": [],
   "source": [
    "# Generate work orders\n",
    "wos = 150\n",
    "\n",
    "# Check if wos file is already generated\n",
    "if f\"static/wos_{wos}.parquet\" in os.listdir():\n",
    "    df_wo = pd.read_parquet(f\"static/wos_{wos}.parquet\")\n",
    "    print(f\"Loaded {df_wo.shape[0]} work orders\")\n",
    "else:\n",
    "    print(f\"Generating {wos} work orders\")\n",
    "    df_wo = pd.DataFrame(columns=df.columns)\n",
    "    for _ in range(wos):\n",
    "        random_row = df.sample()\n",
    "        df_wo = pd.concat([df_wo, random_row], ignore_index=True)\n",
    "    df_wo.to_parquet(f\"static/wos_{wos}.parquet\")\n",
    "df_wo.head()"
   ]
  },
  {
   "cell_type": "code",
   "execution_count": null,
   "metadata": {},
   "outputs": [],
   "source": [
    "waypoint_nodes = wh[\"node\"].to_list()\n",
    "Grid"
   ]
  }
 ],
 "metadata": {
  "kernelspec": {
   "display_name": "Python 3",
   "language": "python",
   "name": "python3"
  },
  "language_info": {
   "codemirror_mode": {
    "name": "ipython",
    "version": 3
   },
   "file_extension": ".py",
   "mimetype": "text/x-python",
   "name": "python",
   "nbconvert_exporter": "python",
   "pygments_lexer": "ipython3",
   "version": "3.10.12"
  }
 },
 "nbformat": 4,
 "nbformat_minor": 2
}
