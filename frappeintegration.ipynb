{
 "cells": [
  {
   "cell_type": "markdown",
   "metadata": {},
   "source": [
    "# Interact with ERPNEXT database"
   ]
  },
  {
   "cell_type": "code",
   "execution_count": 1,
   "metadata": {},
   "outputs": [],
   "source": [
    "site_dir = \"/home/cole/madrid/sites\"\n",
    "db_name = \"cole\"\n",
    "db = \"test\""
   ]
  },
  {
   "cell_type": "code",
   "execution_count": 2,
   "metadata": {},
   "outputs": [],
   "source": [
    "import os\n",
    "\n",
    "current_dir = os.getcwd()\n",
    "os.chdir(site_dir)\n",
    "\n",
    "import frappe\n",
    "\n",
    "frappe.connect(db, db_name=db_name)"
   ]
  },
  {
   "cell_type": "code",
   "execution_count": 3,
   "metadata": {},
   "outputs": [],
   "source": [
    "import sys\n",
    "\n",
    "sys.path.append(\"/home/cole/madrid/apps/inventory_tools/inventory_tools\")\n",
    "from inventory_tools.inventory_tools.doctype.warehouse_plan import warehouse_plan"
   ]
  },
  {
   "cell_type": "markdown",
   "metadata": {},
   "source": [
    "# Explore"
   ]
  },
  {
   "cell_type": "code",
   "execution_count": 1,
   "metadata": {},
   "outputs": [
    {
     "ename": "NameError",
     "evalue": "name 'frappe' is not defined",
     "output_type": "error",
     "traceback": [
      "\u001b[0;31m---------------------------------------------------------------------------\u001b[0m",
      "\u001b[0;31mNameError\u001b[0m                                 Traceback (most recent call last)",
      "Cell \u001b[0;32mIn[1], line 1\u001b[0m\n\u001b[0;32m----> 1\u001b[0m pl \u001b[38;5;241m=\u001b[39m \u001b[43mfrappe\u001b[49m\u001b[38;5;241m.\u001b[39mget_doc(\u001b[38;5;124m\"\u001b[39m\u001b[38;5;124mPick List\u001b[39m\u001b[38;5;124m\"\u001b[39m, \u001b[38;5;124m\"\u001b[39m\u001b[38;5;124mSTO-PICK-2025-00001\u001b[39m\u001b[38;5;124m\"\u001b[39m)\u001b[38;5;241m.\u001b[39mas_dict()\n\u001b[1;32m      2\u001b[0m pl\n",
      "\u001b[0;31mNameError\u001b[0m: name 'frappe' is not defined"
     ]
    }
   ],
   "source": [
    "pl = frappe.get_doc(\"Pick List\", \"STO-PICK-2025-00001\").as_dict()\n",
    "pl"
   ]
  },
  {
   "cell_type": "code",
   "execution_count": null,
   "metadata": {},
   "outputs": [
    {
     "data": {
      "text/plain": [
       "['Flour', 'Butter', 'Sugar', 'Bayberry']"
      ]
     },
     "execution_count": 5,
     "metadata": {},
     "output_type": "execute_result"
    }
   ],
   "source": [
    "# get items in pick list doc\n",
    "[item[\"item_code\"] for item in pl[\"locations\"]]"
   ]
  },
  {
   "cell_type": "code",
   "execution_count": null,
   "metadata": {},
   "outputs": [
    {
     "data": {
      "text/plain": [
       "{'name': 'Boysenberry',\n",
       " 'owner': 'Administrator',\n",
       " 'creation': datetime.datetime(2025, 3, 11, 8, 59, 27, 874138),\n",
       " 'modified': datetime.datetime(2025, 3, 11, 8, 59, 27, 925458),\n",
       " 'modified_by': 'Administrator',\n",
       " 'docstatus': 0,\n",
       " 'idx': 0,\n",
       " 'naming_series': 'STO-ITEM-.YYYY.-',\n",
       " 'item_code': 'Boysenberry',\n",
       " 'item_name': 'Boysenberry',\n",
       " 'item_group': 'Ingredients',\n",
       " 'stock_uom': 'Pound',\n",
       " 'disabled': 0,\n",
       " 'allow_alternative_item': 0,\n",
       " 'is_stock_item': 1,\n",
       " 'has_variants': 0,\n",
       " 'opening_stock': 0.0,\n",
       " 'valuation_rate': 0.0,\n",
       " 'standard_rate': 0.0,\n",
       " 'is_fixed_asset': 0,\n",
       " 'auto_create_assets': 0,\n",
       " 'is_grouped_asset': 0,\n",
       " 'asset_category': None,\n",
       " 'asset_naming_series': None,\n",
       " 'over_delivery_receipt_allowance': 0.0,\n",
       " 'over_billing_allowance': 0.0,\n",
       " 'image': None,\n",
       " 'description': 'A juicy, dark purple berry with a balance of tartness and sweetness.',\n",
       " 'brand': 'Ambrosia Pie Co',\n",
       " 'shelf_life_in_days': 7,\n",
       " 'end_of_life': datetime.date(2099, 12, 31),\n",
       " 'default_material_request_type': 'Purchase',\n",
       " 'valuation_method': 'Moving Average',\n",
       " 'warranty_period': None,\n",
       " 'weight_per_unit': 5.5,\n",
       " 'weight_uom': 'Pound',\n",
       " 'allow_negative_stock': 0,\n",
       " 'has_batch_no': 0,\n",
       " 'create_new_batch': 0,\n",
       " 'batch_number_series': None,\n",
       " 'has_expiry_date': 0,\n",
       " 'retain_sample': 0,\n",
       " 'sample_quantity': 0,\n",
       " 'has_serial_no': 0,\n",
       " 'serial_no_series': None,\n",
       " 'variant_of': None,\n",
       " 'variant_based_on': 'Item Attribute',\n",
       " 'enable_deferred_expense': 0,\n",
       " 'no_of_months_exp': 0,\n",
       " 'enable_deferred_revenue': 0,\n",
       " 'no_of_months': 0,\n",
       " 'purchase_uom': None,\n",
       " 'min_order_qty': 0.0,\n",
       " 'safety_stock': 0.0,\n",
       " 'is_purchase_item': 1,\n",
       " 'lead_time_days': 0,\n",
       " 'last_purchase_rate': 0.0,\n",
       " 'is_customer_provided_item': 0,\n",
       " 'customer': None,\n",
       " 'delivered_by_supplier': 0,\n",
       " 'country_of_origin': None,\n",
       " 'customs_tariff_number': None,\n",
       " 'sales_uom': 'Pound',\n",
       " 'grant_commission': 1,\n",
       " 'is_sales_item': 1,\n",
       " 'max_discount': 0.0,\n",
       " 'inspection_required_before_purchase': 0,\n",
       " 'quality_inspection_template': None,\n",
       " 'inspection_required_before_delivery': 0,\n",
       " 'include_item_in_manufacturing': 1,\n",
       " 'is_sub_contracted_item': 0,\n",
       " 'default_bom': None,\n",
       " 'customer_code': '',\n",
       " 'default_item_manufacturer': None,\n",
       " 'default_manufacturer_part_no': None,\n",
       " 'published_in_website': 1,\n",
       " 'total_projected_qty': 0.0,\n",
       " 'doctype': 'Item',\n",
       " 'item_defaults': [{'name': 'lckbi9s90h',\n",
       "   'owner': 'Administrator',\n",
       "   'creation': datetime.datetime(2025, 3, 11, 8, 59, 27, 874138),\n",
       "   'modified': datetime.datetime(2025, 3, 11, 8, 59, 27, 874138),\n",
       "   'modified_by': 'Administrator',\n",
       "   'docstatus': 0,\n",
       "   'idx': 1,\n",
       "   'company': 'Ambrosia Pie Company',\n",
       "   'default_warehouse': 'Refrigerator - APC',\n",
       "   'default_price_list': None,\n",
       "   'default_discount_account': None,\n",
       "   'buying_cost_center': None,\n",
       "   'default_supplier': None,\n",
       "   'expense_account': None,\n",
       "   'default_provisional_account': None,\n",
       "   'selling_cost_center': None,\n",
       "   'income_account': None,\n",
       "   'deferred_expense_account': None,\n",
       "   'deferred_revenue_account': None,\n",
       "   'parent': 'Boysenberry',\n",
       "   'parentfield': 'item_defaults',\n",
       "   'parenttype': 'Item',\n",
       "   'doctype': 'Item Default'}],\n",
       " 'uoms': [{'name': '23plqphepj',\n",
       "   'owner': 'Administrator',\n",
       "   'creation': datetime.datetime(2025, 3, 11, 8, 59, 27, 883026),\n",
       "   'modified': datetime.datetime(2025, 3, 11, 8, 59, 27, 883026),\n",
       "   'modified_by': 'Administrator',\n",
       "   'docstatus': 0,\n",
       "   'idx': 1,\n",
       "   'uom': 'Pound',\n",
       "   'conversion_factor': 1.0,\n",
       "   'parent': 'Boysenberry',\n",
       "   'parentfield': 'uoms',\n",
       "   'parenttype': 'Item',\n",
       "   'doctype': 'UOM Conversion Detail'}],\n",
       " 'supplier_items': [{'name': 'tkfn5frrpt',\n",
       "   'owner': 'Administrator',\n",
       "   'creation': datetime.datetime(2025, 3, 11, 8, 59, 27, 874138),\n",
       "   'modified': datetime.datetime(2025, 3, 11, 8, 59, 27, 874138),\n",
       "   'modified_by': 'Administrator',\n",
       "   'docstatus': 0,\n",
       "   'idx': 1,\n",
       "   'supplier': 'Chelsea Fruit Co',\n",
       "   'supplier_part_no': None,\n",
       "   'requires_rfq': 0,\n",
       "   'parent': 'Boysenberry',\n",
       "   'parentfield': 'supplier_items',\n",
       "   'parenttype': 'Item',\n",
       "   'doctype': 'Item Supplier'},\n",
       "  {'name': 'lsnf6cr1gj',\n",
       "   'owner': 'Administrator',\n",
       "   'creation': datetime.datetime(2025, 3, 11, 8, 59, 27, 874138),\n",
       "   'modified': datetime.datetime(2025, 3, 11, 8, 59, 27, 874138),\n",
       "   'modified_by': 'Administrator',\n",
       "   'docstatus': 0,\n",
       "   'idx': 2,\n",
       "   'supplier': 'Southern Fruit Supply',\n",
       "   'supplier_part_no': None,\n",
       "   'requires_rfq': 0,\n",
       "   'parent': 'Boysenberry',\n",
       "   'parentfield': 'supplier_items',\n",
       "   'parenttype': 'Item',\n",
       "   'doctype': 'Item Supplier'}],\n",
       " 'barcodes': [],\n",
       " 'attributes': [],\n",
       " 'customer_items': [],\n",
       " 'reorder_levels': [],\n",
       " 'taxes': []}"
      ]
     },
     "execution_count": 6,
     "metadata": {},
     "output_type": "execute_result"
    }
   ],
   "source": [
    "frappe.get_doc(\"Item\", \"Boysenberry\").as_dict()"
   ]
  },
  {
   "cell_type": "code",
   "execution_count": null,
   "metadata": {},
   "outputs": [
    {
     "data": {
      "text/plain": [
       "{'name': 'All Warehouses - APC',\n",
       " 'owner': 'Administrator',\n",
       " 'creation': datetime.datetime(2025, 3, 11, 8, 58, 51, 919967),\n",
       " 'modified': datetime.datetime(2025, 3, 11, 8, 58, 51, 919967),\n",
       " 'modified_by': 'Administrator',\n",
       " 'docstatus': 0,\n",
       " 'idx': 0,\n",
       " 'disabled': 0,\n",
       " 'warehouse_path': None,\n",
       " 'warehouse_name': 'All Warehouses',\n",
       " 'is_group': 1,\n",
       " 'parent_warehouse': '',\n",
       " 'is_rejected_warehouse': 0,\n",
       " 'account': None,\n",
       " 'company': 'Ambrosia Pie Company',\n",
       " 'email_id': None,\n",
       " 'phone_no': None,\n",
       " 'mobile_no': None,\n",
       " 'address_line_1': None,\n",
       " 'address_line_2': None,\n",
       " 'city': None,\n",
       " 'state': None,\n",
       " 'pin': None,\n",
       " 'warehouse_type': None,\n",
       " 'default_in_transit_warehouse': None,\n",
       " 'lft': 1,\n",
       " 'rgt': 20,\n",
       " 'old_parent': '',\n",
       " 'warehouse_plan': None,\n",
       " 'warehouse_plan_coordinates': None,\n",
       " 'rotation': 0,\n",
       " 'accessible_path_x': 0,\n",
       " 'accessible_path_y': 0,\n",
       " 'doctype': 'Warehouse'}"
      ]
     },
     "execution_count": 7,
     "metadata": {},
     "output_type": "execute_result"
    }
   ],
   "source": [
    "item_warehouses = frappe.get_all(\n",
    "    \"Bin\", fields=[\"warehouse\"], filters={\"item_code\": \"Boysenberry\"}\n",
    ")\n",
    "for wh in item_warehouses:\n",
    "    x = frappe.get_doc(\"Warehouse\", wh[\"warehouse\"]).as_dict()[\"parent_warehouse\"]\n",
    "frappe.get_doc(\"Warehouse\", \"All Warehouses - APC\").as_dict()\n",
    "\n",
    "# 'parent_warehouse' == ''"
   ]
  },
  {
   "cell_type": "code",
   "execution_count": null,
   "metadata": {},
   "outputs": [
    {
     "data": {
      "text/plain": [
       "['All Warehouses - CFC']"
      ]
     },
     "execution_count": 8,
     "metadata": {},
     "output_type": "execute_result"
    }
   ],
   "source": [
    "[wh[\"name\"] for wh in frappe.get_all(\"Warehouse Plan\")]"
   ]
  },
  {
   "cell_type": "code",
   "execution_count": null,
   "metadata": {},
   "outputs": [],
   "source": [
    "# def get_root_warehouse(warehouse):\n",
    "#     # Finds closest parent parent warehouse with a walkable floor plan, otherwise returns None\n",
    "#     wh_plans = [wh[\"name\"] for wh in frappe.get_all(\"Warehouse Plan\")]\n",
    "#     if warehouse in wh_plans:\n",
    "#         if frappe.get_doc(\"Warehouse Plan\", warehouse).as_dict()[\"matrix\"] is not None:\n",
    "#             return warehouse\n",
    "#     parent_warehouse = frappe.get_doc(\"Warehouse\", warehouse).as_dict()[\"parent_warehouse\"]\n",
    "#     if parent_warehouse == \"\":\n",
    "#         return None\n",
    "#     return get_root_warehouse(parent_warehouse)\n",
    "\n",
    "# # Example usage:\n",
    "# item_warehouses = frappe.get_all(\"Bin\", fields=[\"warehouse\"], filters={\"item_code\": \"Boysenberry\"})\n",
    "# for wh in item_warehouses:\n",
    "#     root_warehouse = get_root_warehouse(wh[\"warehouse\"])\n",
    "#     print(f\"Root warehouse for {wh['warehouse']}: {root_warehouse}\")"
   ]
  },
  {
   "cell_type": "code",
   "execution_count": null,
   "metadata": {},
   "outputs": [],
   "source": [
    "# def get_root_warehouse(warehouse):\n",
    "#     warehouse_doc = frappe.get_doc(\"Warehouse\", warehouse).as_dict()\n",
    "#     if warehouse_doc[\"parent_warehouse\"] == \"\":\n",
    "#         return warehouse_doc[\"name\"]\n",
    "#     return get_root_warehouse(warehouse_doc[\"parent_warehouse\"])"
   ]
  },
  {
   "cell_type": "markdown",
   "metadata": {},
   "source": [
    "## Pick List Functions"
   ]
  },
  {
   "cell_type": "code",
   "execution_count": null,
   "metadata": {},
   "outputs": [],
   "source": [
    "def get_root_warehouse(warehouse):\n",
    "    # Finds closest parent warehouse with a walkable floor plan; otherwise returns None\n",
    "    wh_plans = [wh[\"name\"] for wh in frappe.get_all(\"Warehouse Plan\")]\n",
    "    if warehouse in wh_plans:\n",
    "        wp_doc = frappe.get_doc(\"Warehouse Plan\", warehouse)\n",
    "        if wp_doc.as_dict()[\"matrix\"] is not None:\n",
    "            return warehouse\n",
    "    parent_warehouse = frappe.get_doc(\"Warehouse\", warehouse).as_dict()[\n",
    "        \"parent_warehouse\"\n",
    "    ]\n",
    "    if parent_warehouse == \"\":\n",
    "        return None\n",
    "    return get_root_warehouse(parent_warehouse)\n",
    "\n",
    "\n",
    "def get_all_warehouses(items):\n",
    "    result = []\n",
    "    for item_code in items:\n",
    "        bins = frappe.get_all(\n",
    "            \"Bin\", fields=[\"warehouse\"], filters={\"item_code\": item_code}\n",
    "        )\n",
    "        for b in bins:\n",
    "            result.append(\n",
    "                {\n",
    "                    \"item_code\": item_code,\n",
    "                    \"item_warehouses\": b[\"warehouse\"],\n",
    "                    \"root_warehouse\": get_root_warehouse(b[\"warehouse\"]),\n",
    "                }\n",
    "            )\n",
    "    return result\n",
    "\n",
    "\n",
    "def get_item_qty(item_code, warehouse):\n",
    "    qty = frappe.db.get_value(\n",
    "        \"Bin\", {\"item_code\": item_code, \"warehouse\": warehouse}, \"actual_qty\"\n",
    "    )\n",
    "    return qty if qty else 0\n",
    "\n",
    "\n",
    "def get_node(doc, method):\n",
    "    # Get root warehouse for all items in doc\n",
    "    items = [item[\"item_code\"] for item in doc[\"locations\"]]\n",
    "    root_warehouses = [get_root_warehouse(w[\"warehouse\"]) for w in doc[\"locations\"]]\n",
    "    all_same = all(wh == root_warehouses[0] for wh in root_warehouses)\n",
    "    if all_same is True:\n",
    "        root_warehouse = root_warehouses[0]\n",
    "\n",
    "    # Get all item locations for items in doctype\n",
    "    # Filter by root warehouse\n",
    "    item_wh_list = list(\n",
    "        filter(\n",
    "            lambda d: d[\"root_warehouse\"] == root_warehouse, get_all_warehouses(items)\n",
    "        )\n",
    "    )\n",
    "    # Item, Warehouse (in root), Qty, When Created (individial or most recent modify?)\n",
    "    item_wh_qty_list = list(\n",
    "        map(\n",
    "            lambda d: {\n",
    "                \"item\": d[\"item\"],\n",
    "                \"warehouse\": d[\"item_warehouses\"],\n",
    "                \"qty\": get_item_qty(d[\"item\"], d[\"item_warehouses\"]),\n",
    "            },\n",
    "            item_wh_list,\n",
    "        )\n",
    "    )\n",
    "\n",
    "    if method == \"FIFO\":\n",
    "        pass\n",
    "    elif method == \"LIFO\":\n",
    "        pass\n",
    "    elif method == \"Deplete maximum number of Bins\":\n",
    "        pass\n",
    "    elif method == \"Deplete minimum number of Bins\":\n",
    "        pass\n",
    "    elif method == \"Shortest Path\":\n",
    "        pass\n",
    "    return 1"
   ]
  },
  {
   "cell_type": "code",
   "execution_count": null,
   "metadata": {},
   "outputs": [
    {
     "data": {
      "text/plain": [
       "[{'item_code': 'Water',\n",
       "  'warehouse': 'Refrigerated Display - APC',\n",
       "  'qty': 50.0},\n",
       " {'item_code': 'Water',\n",
       "  'warehouse': 'Refrigerated Display - APC',\n",
       "  'qty': 15.0},\n",
       " {'item_code': 'Water',\n",
       "  'warehouse': 'Refrigerated Display - APC',\n",
       "  'qty': 100.0}]"
      ]
     },
     "execution_count": 42,
     "metadata": {},
     "output_type": "execute_result"
    }
   ],
   "source": [
    "from erpnext.stock.report.stock_ageing.stock_ageing import FIFOSlots\n",
    "from frappe.utils.data import nowdate\n",
    "\n",
    "\n",
    "def get_root_warehouse(warehouse):\n",
    "    # Finds closest parent warehouse with a walkable floor plan; otherwise returns None\n",
    "    wh_plans = [wh[\"name\"] for wh in frappe.get_all(\"Warehouse Plan\")]\n",
    "    if warehouse in wh_plans:\n",
    "        wp_doc = frappe.get_doc(\"Warehouse Plan\", warehouse)\n",
    "        if wp_doc.as_dict()[\"matrix\"] is not None:\n",
    "            return warehouse\n",
    "    parent_warehouse = frappe.get_doc(\"Warehouse\", warehouse).as_dict()[\n",
    "        \"parent_warehouse\"\n",
    "    ]\n",
    "    if parent_warehouse == \"\":\n",
    "        return None\n",
    "    return get_root_warehouse(parent_warehouse)\n",
    "\n",
    "\n",
    "def get_all_warehouses(item_code):\n",
    "    \"\"\"Return all warehouses for a single item, including its root warehouse.\"\"\"\n",
    "    bins = frappe.get_all(\"Bin\", fields=[\"warehouse\"], filters={\"item_code\": item_code})\n",
    "    return [\n",
    "        {\n",
    "            \"item_code\": item_code,\n",
    "            \"warehouse\": b[\"warehouse\"],\n",
    "            \"root_warehouse\": get_root_warehouse(b[\"warehouse\"]),\n",
    "        }\n",
    "        for b in bins\n",
    "    ]\n",
    "\n",
    "\n",
    "def get_item_qty(item_code, warehouse):\n",
    "    \"\"\"Return the actual quantity for the given item and warehouse.\"\"\"\n",
    "    qty = frappe.db.get_value(\n",
    "        \"Bin\", {\"item_code\": item_code, \"warehouse\": warehouse}, \"actual_qty\"\n",
    "    )\n",
    "    return qty or 0\n",
    "\n",
    "\n",
    "def get_bin_modified(item_code, warehouse):\n",
    "    return frappe.db.get_value(\n",
    "        \"Bin\",\n",
    "        {\"item_code\": \"Boysenberry\", \"warehouse\": \"Refrigerator - APC\"},\n",
    "        \"modified\",\n",
    "    )\n",
    "\n",
    "\n",
    "def get_node(doc, method):\n",
    "    company = doc[\"company\"]\n",
    "    # Extract item codes and root warehouses from document locations\n",
    "    itemdict = {}\n",
    "    for loc in doc[\"locations\"]:\n",
    "        if itemdict.get(loc[\"item_code\"]):\n",
    "            itemdict[loc[\"item_code\"]][\"qty\"] += loc[\"qty\"]\n",
    "        else:\n",
    "            itemdict[loc[\"item_code\"]] = {\"qty\": loc[\"qty\"]}\n",
    "\n",
    "    # Ensure all locations share the same root warehouse\n",
    "    root_warehouses = [get_root_warehouse(loc[\"warehouse\"]) for loc in doc[\"locations\"]]\n",
    "    if not all(wh == root_warehouses[0] for wh in root_warehouses):\n",
    "        # Handle the case where the root warehouses differ as needed.\n",
    "        return\n",
    "    root_warehouse = root_warehouses[0]\n",
    "\n",
    "    itemdict = {\"Water\": {\"qty\": 1000}}\n",
    "\n",
    "    if method == \"FIFO\":\n",
    "\n",
    "        nodes = []\n",
    "        for item in itemdict:\n",
    "            qty_req = itemdict[item][\"qty\"]\n",
    "            filters = {\n",
    "                \"item_code\": item,\n",
    "                \"company\": company,\n",
    "                \"to_date\": nowdate(),\n",
    "            }\n",
    "            fifoque = FIFOSlots(filters=filters).generate()\n",
    "            qty_obt = 0\n",
    "            for wh_entry_qty in fifoque[item][\"fifo_queue\"]:\n",
    "                if (\n",
    "                    get_root_warehouse(fifoque[item][\"details\"][\"warehouse\"])\n",
    "                    != root_warehouse\n",
    "                ):\n",
    "                    continue\n",
    "\n",
    "                if wh_entry_qty[0] > (qty_req - qty_obt):\n",
    "                    nodes.append(\n",
    "                        {\n",
    "                            \"item_code\": item,\n",
    "                            \"warehouse\": fifoque[item][\"details\"][\"warehouse\"],\n",
    "                            \"qty\": qty_req - qty_obt,\n",
    "                        }\n",
    "                    )\n",
    "                    break\n",
    "                else:\n",
    "                    nodes.append(\n",
    "                        {\n",
    "                            \"item_code\": item,\n",
    "                            \"warehouse\": fifoque[item][\"details\"][\"warehouse\"],\n",
    "                            \"qty\": wh_entry_qty[0],\n",
    "                        }\n",
    "                    )\n",
    "    return nodes\n",
    "\n",
    "\n",
    "get_node(pl, \"FIFO\")"
   ]
  },
  {
   "cell_type": "code",
   "execution_count": null,
   "metadata": {},
   "outputs": [
    {
     "data": {
      "text/plain": [
       "{'name': 'STO-PICK-2025-00001',\n",
       " 'owner': 'Administrator',\n",
       " 'creation': datetime.datetime(2025, 2, 27, 4, 5, 23, 785966),\n",
       " 'modified': datetime.datetime(2025, 2, 27, 4, 5, 23, 984758),\n",
       " 'modified_by': 'Administrator',\n",
       " 'docstatus': 0,\n",
       " 'idx': 0,\n",
       " 'naming_series': 'STO-PICK-.YYYY.-',\n",
       " 'company': 'Ambrosia Pie Company',\n",
       " 'purpose': 'Delivery',\n",
       " 'customer': 'Sand Street Deli',\n",
       " 'customer_name': 'Sand Street Deli',\n",
       " 'work_order': None,\n",
       " 'material_request': None,\n",
       " 'for_qty': 0.0,\n",
       " 'parent_warehouse': None,\n",
       " 'consider_rejected_warehouses': 0,\n",
       " 'pick_manually': 0,\n",
       " 'ignore_pricing_rule': 0,\n",
       " 'scan_barcode': None,\n",
       " 'scan_mode': 0,\n",
       " 'prompt_qty': 0,\n",
       " 'amended_from': None,\n",
       " 'group_same_items': 0,\n",
       " 'status': 'Draft',\n",
       " 'doctype': 'Pick List',\n",
       " 'locations': [{'name': 'vt8i09idg5',\n",
       "   'owner': 'Administrator',\n",
       "   'creation': datetime.datetime(2025, 2, 27, 4, 5, 23, 785966),\n",
       "   'modified': datetime.datetime(2025, 2, 27, 4, 5, 23, 785966),\n",
       "   'modified_by': 'Administrator',\n",
       "   'docstatus': 0,\n",
       "   'idx': 1,\n",
       "   'item_code': 'Boysenberry',\n",
       "   'item_name': 'Boysenberry',\n",
       "   'description': 'A juicy, dark purple berry with a balance of tartness and sweetness.',\n",
       "   'item_group': 'Ingredients',\n",
       "   'warehouse': 'Refrigerator - APC',\n",
       "   'qty': 6.0,\n",
       "   'stock_qty': 6.0,\n",
       "   'picked_qty': 0.0,\n",
       "   'stock_reserved_qty': 0.0,\n",
       "   'uom': 'Pound',\n",
       "   'conversion_factor': 1.0,\n",
       "   'stock_uom': 'Pound',\n",
       "   'serial_and_batch_bundle': None,\n",
       "   'use_serial_batch_fields': 1,\n",
       "   'serial_no': None,\n",
       "   'batch_no': None,\n",
       "   'sales_order': 'SAL-ORD-2025-00012',\n",
       "   'sales_order_item': 'hbj41jmh18',\n",
       "   'product_bundle_item': None,\n",
       "   'material_request': None,\n",
       "   'material_request_item': None,\n",
       "   'parent': 'STO-PICK-2025-00001',\n",
       "   'parentfield': 'locations',\n",
       "   'parenttype': 'Pick List',\n",
       "   'doctype': 'Pick List Item'},\n",
       "  {'name': 'l56ggp8nsu',\n",
       "   'owner': 'Administrator',\n",
       "   'creation': datetime.datetime(2025, 2, 27, 4, 5, 23, 785966),\n",
       "   'modified': datetime.datetime(2025, 2, 27, 4, 5, 23, 785966),\n",
       "   'modified_by': 'Administrator',\n",
       "   'docstatus': 0,\n",
       "   'idx': 2,\n",
       "   'item_code': 'Kakadu Lime',\n",
       "   'item_name': 'Kakadu Lime',\n",
       "   'description': 'An Australian citrus fruit packed with tart juice and intense aroma.',\n",
       "   'item_group': 'Ingredients',\n",
       "   'warehouse': 'Refrigerator - APC',\n",
       "   'qty': 6.0,\n",
       "   'stock_qty': 6.0,\n",
       "   'picked_qty': 0.0,\n",
       "   'stock_reserved_qty': 0.0,\n",
       "   'uom': 'Pound',\n",
       "   'conversion_factor': 1.0,\n",
       "   'stock_uom': 'Pound',\n",
       "   'serial_and_batch_bundle': None,\n",
       "   'use_serial_batch_fields': 1,\n",
       "   'serial_no': None,\n",
       "   'batch_no': None,\n",
       "   'sales_order': 'SAL-ORD-2025-00012',\n",
       "   'sales_order_item': 'drfr91qnfg',\n",
       "   'product_bundle_item': None,\n",
       "   'material_request': None,\n",
       "   'material_request_item': None,\n",
       "   'parent': 'STO-PICK-2025-00001',\n",
       "   'parentfield': 'locations',\n",
       "   'parenttype': 'Pick List',\n",
       "   'doctype': 'Pick List Item'},\n",
       "  {'name': 'orvt42fdbv',\n",
       "   'owner': 'Administrator',\n",
       "   'creation': datetime.datetime(2025, 2, 27, 4, 5, 23, 785966),\n",
       "   'modified': datetime.datetime(2025, 2, 27, 4, 5, 23, 785966),\n",
       "   'modified_by': 'Administrator',\n",
       "   'docstatus': 0,\n",
       "   'idx': 3,\n",
       "   'item_code': 'Triphasia Brassii',\n",
       "   'item_name': 'Triphasia Brassii',\n",
       "   'description': 'A citrus relative with tiny, aromatic fruits used in preserves.',\n",
       "   'item_group': 'Ingredients',\n",
       "   'warehouse': 'Refrigerator - APC',\n",
       "   'qty': 6.0,\n",
       "   'stock_qty': 6.0,\n",
       "   'picked_qty': 0.0,\n",
       "   'stock_reserved_qty': 0.0,\n",
       "   'uom': 'Pound',\n",
       "   'conversion_factor': 1.0,\n",
       "   'stock_uom': 'Pound',\n",
       "   'serial_and_batch_bundle': None,\n",
       "   'use_serial_batch_fields': 1,\n",
       "   'serial_no': None,\n",
       "   'batch_no': None,\n",
       "   'sales_order': 'SAL-ORD-2025-00012',\n",
       "   'sales_order_item': 'cgjnle7117',\n",
       "   'product_bundle_item': None,\n",
       "   'material_request': None,\n",
       "   'material_request_item': None,\n",
       "   'parent': 'STO-PICK-2025-00001',\n",
       "   'parentfield': 'locations',\n",
       "   'parenttype': 'Pick List',\n",
       "   'doctype': 'Pick List Item'},\n",
       "  {'name': '2568hh3fpq',\n",
       "   'owner': 'Administrator',\n",
       "   'creation': datetime.datetime(2025, 2, 27, 4, 5, 23, 785966),\n",
       "   'modified': datetime.datetime(2025, 2, 27, 4, 5, 23, 785966),\n",
       "   'modified_by': 'Administrator',\n",
       "   'docstatus': 0,\n",
       "   'idx': 4,\n",
       "   'item_code': 'Kakadu Lime',\n",
       "   'item_name': 'Kakadu Lime',\n",
       "   'description': 'An Australian citrus fruit packed with tart juice and intense aroma.',\n",
       "   'item_group': 'Ingredients',\n",
       "   'warehouse': 'Refrigerator - APC',\n",
       "   'qty': 7.0,\n",
       "   'stock_qty': 7.0,\n",
       "   'picked_qty': 0.0,\n",
       "   'stock_reserved_qty': 0.0,\n",
       "   'uom': 'Pound',\n",
       "   'conversion_factor': 1.0,\n",
       "   'stock_uom': 'Pound',\n",
       "   'serial_and_batch_bundle': None,\n",
       "   'use_serial_batch_fields': 1,\n",
       "   'serial_no': None,\n",
       "   'batch_no': None,\n",
       "   'sales_order': 'SAL-ORD-2025-00012',\n",
       "   'sales_order_item': 'g98ncc0gc2',\n",
       "   'product_bundle_item': None,\n",
       "   'material_request': None,\n",
       "   'material_request_item': None,\n",
       "   'parent': 'STO-PICK-2025-00001',\n",
       "   'parentfield': 'locations',\n",
       "   'parenttype': 'Pick List',\n",
       "   'doctype': 'Pick List Item'},\n",
       "  {'name': '61bsc2sgaj',\n",
       "   'owner': 'Administrator',\n",
       "   'creation': datetime.datetime(2025, 2, 27, 4, 5, 23, 785966),\n",
       "   'modified': datetime.datetime(2025, 2, 27, 4, 5, 23, 785966),\n",
       "   'modified_by': 'Administrator',\n",
       "   'docstatus': 0,\n",
       "   'idx': 5,\n",
       "   'item_code': 'Bilberry',\n",
       "   'item_name': 'Bilberry',\n",
       "   'description': 'A small, deep-blue berry with a tart flavor, perfect for jams and desserts.',\n",
       "   'item_group': 'Ingredients',\n",
       "   'warehouse': 'Refrigerator - APC',\n",
       "   'qty': 5.0,\n",
       "   'stock_qty': 5.0,\n",
       "   'picked_qty': 0.0,\n",
       "   'stock_reserved_qty': 0.0,\n",
       "   'uom': 'Pound',\n",
       "   'conversion_factor': 1.0,\n",
       "   'stock_uom': 'Pound',\n",
       "   'serial_and_batch_bundle': None,\n",
       "   'use_serial_batch_fields': 1,\n",
       "   'serial_no': None,\n",
       "   'batch_no': None,\n",
       "   'sales_order': 'SAL-ORD-2025-00012',\n",
       "   'sales_order_item': 'gfatul56dq',\n",
       "   'product_bundle_item': None,\n",
       "   'material_request': None,\n",
       "   'material_request_item': None,\n",
       "   'parent': 'STO-PICK-2025-00001',\n",
       "   'parentfield': 'locations',\n",
       "   'parenttype': 'Pick List',\n",
       "   'doctype': 'Pick List Item'}]}"
      ]
     },
     "execution_count": 43,
     "metadata": {},
     "output_type": "execute_result"
    }
   ],
   "source": [
    "pl"
   ]
  },
  {
   "cell_type": "code",
   "execution_count": null,
   "metadata": {},
   "outputs": [],
   "source": [
    "# items = [item[\"item_code\"] for item in pl[\"locations\"]]\n",
    "\n",
    "itemdict = {}\n",
    "for loc in pl[\"locations\"]:\n",
    "    if itemdict.get(loc[\"item_code\"]):\n",
    "        itemdict[loc[\"item_code\"]][\"qty\"] += loc[\"qty\"]\n",
    "    else:\n",
    "        itemdict[loc[\"item_code\"]] = {\"qty\": loc[\"qty\"]}\n",
    "# list(itemdict.keys())"
   ]
  },
  {
   "cell_type": "markdown",
   "metadata": {},
   "source": [
    "# Filter List"
   ]
  },
  {
   "cell_type": "code",
   "execution_count": 45,
   "metadata": {},
   "outputs": [
    {
     "data": {
      "text/plain": [
       "True"
      ]
     },
     "execution_count": 45,
     "metadata": {},
     "output_type": "execute_result"
    }
   ],
   "source": [
    "root_warehouses = [get_root_warehouse(loc[\"warehouse\"]) for loc in pl[\"locations\"]]\n",
    "all_same = all(wh == root_warehouses[0] for wh in root_warehouses)\n",
    "root_warehouse = root_warehouses[0]\n",
    "all_same"
   ]
  },
  {
   "cell_type": "code",
   "execution_count": 46,
   "metadata": {},
   "outputs": [
    {
     "data": {
      "text/plain": [
       "94.0"
      ]
     },
     "execution_count": 46,
     "metadata": {},
     "output_type": "execute_result"
    }
   ],
   "source": [
    "frappe.db.get_value(\n",
    "    \"Bin\", {\"item_code\": \"Boysenberry\", \"warehouse\": \"Refrigerator - APC\"}, \"actual_qty\"\n",
    ")"
   ]
  },
  {
   "cell_type": "code",
   "execution_count": 47,
   "metadata": {},
   "outputs": [
    {
     "data": {
      "text/plain": [
       "{'name': 'k1p03s9jno',\n",
       " 'owner': 'Administrator',\n",
       " 'creation': datetime.datetime(2025, 2, 26, 5, 56, 11, 395279),\n",
       " 'modified': datetime.datetime(2025, 2, 26, 5, 56, 11, 402750),\n",
       " 'modified_by': 'Administrator',\n",
       " 'docstatus': 0,\n",
       " 'idx': 0,\n",
       " 'item_code': 'Double Plum Pie Filling',\n",
       " 'warehouse': 'Refrigerator - APC',\n",
       " 'actual_qty': 0.0,\n",
       " 'planned_qty': 0.0,\n",
       " 'indented_qty': 0.0,\n",
       " 'ordered_qty': 0.0,\n",
       " 'projected_qty': -120.0,\n",
       " 'reserved_qty': 0.0,\n",
       " 'reserved_qty_for_production': 120.0,\n",
       " 'reserved_qty_for_sub_contract': 0.0,\n",
       " 'reserved_qty_for_production_plan': 0.0,\n",
       " 'reserved_stock': 0.0,\n",
       " 'stock_uom': 'Cup',\n",
       " 'valuation_rate': 0.0,\n",
       " 'stock_value': 0.0,\n",
       " 'doctype': 'Bin'}"
      ]
     },
     "execution_count": 47,
     "metadata": {},
     "output_type": "execute_result"
    }
   ],
   "source": [
    "frappe.get_doc(\"Bin\", \"k1p03s9jno\").as_dict()"
   ]
  },
  {
   "cell_type": "code",
   "execution_count": 48,
   "metadata": {},
   "outputs": [],
   "source": [
    "# Add modified\n",
    "def get_warehouse_modified(item_code, warehouse):\n",
    "    return frappe.db.get_value(\n",
    "        \"Bin\",\n",
    "        {\"item_code\": \"Boysenberry\", \"warehouse\": \"Refrigerator - APC\"},\n",
    "        \"modified\",\n",
    "    )"
   ]
  },
  {
   "cell_type": "markdown",
   "metadata": {},
   "source": [
    "# Methods"
   ]
  },
  {
   "cell_type": "markdown",
   "metadata": {},
   "source": [
    "## Max Bins"
   ]
  },
  {
   "cell_type": "code",
   "execution_count": null,
   "metadata": {},
   "outputs": [
    {
     "data": {
      "text/plain": [
       "[{'actual_qty': 15.0,\n",
       "  'posting_date': datetime.date(2025, 1, 1),\n",
       "  'creation': datetime.datetime(2025, 2, 26, 5, 56, 20, 717796),\n",
       "  'warehouse': 'Kitchen - APC'},\n",
       " {'actual_qty': 50.0,\n",
       "  'posting_date': datetime.date(2025, 1, 1),\n",
       "  'creation': datetime.datetime(2025, 2, 26, 5, 55, 55, 475215),\n",
       "  'warehouse': 'Kitchen - APC'},\n",
       " {'actual_qty': 100.0,\n",
       "  'posting_date': datetime.date(2025, 3, 6),\n",
       "  'creation': datetime.datetime(2025, 3, 6, 7, 8, 13, 312590),\n",
       "  'warehouse': 'Refrigerated Display - APC'}]"
      ]
     },
     "execution_count": 50,
     "metadata": {},
     "output_type": "execute_result"
    }
   ],
   "source": [
    "sle = frappe.get_all(\n",
    "    \"Stock Ledger Entry\",\n",
    "    fields=[\"actual_qty\", \"posting_date\", \"creation\", \"warehouse\"],\n",
    "    filters={\n",
    "        \"item_code\": \"Water\",\n",
    "        \"company\": \"Ambrosia Pie Company\",\n",
    "        \"posting_date\": [\"<=\", nowdate()],\n",
    "        \"is_cancelled\": 0,\n",
    "        \"actual_qty\": [\">\", 0],\n",
    "    },\n",
    "    order_by=\"actual_qty, posting_date, creation\",\n",
    ")\n",
    "sle"
   ]
  },
  {
   "cell_type": "markdown",
   "metadata": {},
   "source": [
    "## FIFO Scratch"
   ]
  },
  {
   "cell_type": "code",
   "execution_count": null,
   "metadata": {},
   "outputs": [
    {
     "data": {
      "text/plain": [
       "{'Water': {'details': {'name': 'Water',\n",
       "   'item_name': 'Water',\n",
       "   'item_group': 'Ingredients',\n",
       "   'brand': 'Ambrosia Pie Co',\n",
       "   'description': 'Water',\n",
       "   'stock_uom': 'Cup',\n",
       "   'has_serial_no': 0,\n",
       "   'actual_qty': 100.0,\n",
       "   'posting_date': datetime.date(2025, 3, 6),\n",
       "   'voucher_type': 'Stock Entry',\n",
       "   'voucher_no': 'MAT-STE-2025-00005',\n",
       "   'serial_no': None,\n",
       "   'batch_no': None,\n",
       "   'qty_after_transaction': 100.0,\n",
       "   'serial_and_batch_bundle': None,\n",
       "   'warehouse': 'Refrigerated Display - APC'},\n",
       "  'fifo_queue': [[50.0, datetime.date(2025, 1, 1)],\n",
       "   [15.0, datetime.date(2025, 1, 1)],\n",
       "   [100.0, datetime.date(2025, 3, 6)]],\n",
       "  'qty_after_transaction': 165.0,\n",
       "  'total_qty': 165.0,\n",
       "  'has_serial_no': 0}}"
      ]
     },
     "execution_count": 51,
     "metadata": {},
     "output_type": "execute_result"
    }
   ],
   "source": [
    "from erpnext.stock.report.stock_ageing.stock_ageing import FIFOSlots\n",
    "from frappe.utils.data import nowdate\n",
    "\n",
    "filters = {\n",
    "    \"item_code\": \"Water\",\n",
    "    \"company\": \"Ambrosia Pie Company\",\n",
    "    \"to_date\": nowdate(),\n",
    "}\n",
    "\n",
    "\n",
    "fifoque = FIFOSlots(filters=filters).generate()\n",
    "fifoque\n",
    "# print(fifoque)\n",
    "# fifoque[\"Kakadu Lime\"][\"fifo_queue\"][0][0]\n",
    "# fifoque[\"Kakadu Lime\"][\"details\"][\"warehouse\"]"
   ]
  },
  {
   "cell_type": "code",
   "execution_count": null,
   "metadata": {},
   "outputs": [
    {
     "data": {
      "text/plain": [
       "{'details': {'name': 'Water',\n",
       "  'item_name': 'Water',\n",
       "  'item_group': 'Ingredients',\n",
       "  'brand': 'Ambrosia Pie Co',\n",
       "  'description': 'Water',\n",
       "  'stock_uom': 'Cup',\n",
       "  'has_serial_no': 0,\n",
       "  'valuation_method': 'Moving Average',\n",
       "  'actual_qty': 100.0,\n",
       "  'stock_value_difference': 100.0,\n",
       "  'valuation_rate': 1.0,\n",
       "  'posting_date': datetime.date(2025, 3, 6),\n",
       "  'voucher_type': 'Stock Entry',\n",
       "  'voucher_no': 'MAT-STE-2025-00005',\n",
       "  'serial_no': None,\n",
       "  'batch_no': None,\n",
       "  'qty_after_transaction': 100.0,\n",
       "  'serial_and_batch_bundle': None,\n",
       "  'warehouse': 'Refrigerated Display - APC'},\n",
       " 'fifo_queue': [[50.0, datetime.date(2025, 1, 1)],\n",
       "  [15.0, datetime.date(2025, 1, 1)],\n",
       "  [100.0, datetime.date(2025, 3, 6)]],\n",
       " 'qty_after_transaction': 165.0,\n",
       " 'total_qty': 165.0,\n",
       " 'has_serial_no': 0}"
      ]
     },
     "execution_count": 52,
     "metadata": {},
     "output_type": "execute_result"
    }
   ],
   "source": [
    "from frappe.utils import nowdate, get_datetime\n",
    "import frappe\n",
    "from erpnext.stock.report.stock_ageing.stock_ageing import FIFOSlots\n",
    "\n",
    "# Define your filters\n",
    "filters = {\n",
    "    \"item_code\": \"Water\",\n",
    "    \"company\": \"Ambrosia Pie Company\",\n",
    "    \"to_date\": nowdate(),  # Today's date, for example\n",
    "}\n",
    "\n",
    "# Build a query for Stock Ledger Entries using frappe.qb\n",
    "sle = frappe.qb.DocType(\"Stock Ledger Entry\")\n",
    "item = frappe.qb.DocType(\"Item\")\n",
    "to_date = get_datetime(filters.get(\"to_date\") + \" 23:59:59\")\n",
    "\n",
    "query = (\n",
    "    frappe.qb.from_(sle)\n",
    "    .from_(item)\n",
    "    .select(\n",
    "        item.name,\n",
    "        item.item_name,\n",
    "        item.item_group,\n",
    "        item.brand,\n",
    "        item.description,\n",
    "        item.stock_uom,\n",
    "        item.has_serial_no,\n",
    "        item.valuation_method,\n",
    "        sle.actual_qty,\n",
    "        sle.stock_value_difference,\n",
    "        sle.valuation_rate,\n",
    "        sle.posting_date,\n",
    "        sle.voucher_type,\n",
    "        sle.voucher_no,\n",
    "        sle.serial_no,\n",
    "        sle.batch_no,\n",
    "        sle.qty_after_transaction,\n",
    "        sle.serial_and_batch_bundle,\n",
    "        sle.warehouse,\n",
    "    )\n",
    "    .where(\n",
    "        (sle.item_code == item.name)\n",
    "        & (sle.company == filters.get(\"company\"))\n",
    "        & (sle.posting_datetime <= to_date)\n",
    "        & (sle.is_cancelled != 1)\n",
    "    )\n",
    ")\n",
    "\n",
    "# Execute the query and get SLEs as a list of dictionaries\n",
    "results = query.run(as_dict=True)\n",
    "\n",
    "# Pass the SLE results to FIFOSlots\n",
    "fifoque = FIFOSlots(filters=filters, sle=results).generate()\n",
    "fifoque[\"Water\"]"
   ]
  },
  {
   "cell_type": "code",
   "execution_count": null,
   "metadata": {},
   "outputs": [
    {
     "data": {
      "text/plain": [
       "{'Refrigerator - APC': {'Kandis': 0.0,\n",
       "  'Batuan': 0.0,\n",
       "  'Eugenia Uniflora': 0.0,\n",
       "  'Bacuri': 0.0,\n",
       "  'White Currant': 0.0,\n",
       "  'Sultana': 0.0,\n",
       "  'Durian': 0.0,\n",
       "  'Banana': 0.0,\n",
       "  'Bayberry Pie Filling': 0.0,\n",
       "  'Hackberry': 0.0,\n",
       "  'Date': 0.0,\n",
       "  'European Blueberry': 0.0,\n",
       "  'Bilimbi': 0.0,\n",
       "  'Cryptocarya Alba': 0.0,\n",
       "  'Bearberry': 0.0,\n",
       "  'Kahikatea': 0.0,\n",
       "  'Redcurrant': 0.0,\n",
       "  'Lime': 0.0,\n",
       "  'Photinia': 0.0,\n",
       "  'Triphasia Brassii': 0.0,\n",
       "  'Raisin': 0.0,\n",
       "  'Olallieberry': 0.0,\n",
       "  'Candlenut': 0.0,\n",
       "  'Cowberry': 0.0,\n",
       "  'Fragaria': 0.0,\n",
       "  'Mini Watermelon': 0.0,\n",
       "  'Black Cherry': 0.0,\n",
       "  'Raspberry': 0.0,\n",
       "  'Empetrum': 0.0,\n",
       "  'Louvi': 0.0,\n",
       "  'Gooseberry Pie Filling': 0.0,\n",
       "  'Barbados Cherry': 0.0,\n",
       "  'Highbush Cranberry': 0.0,\n",
       "  'Cloudberry': 0.0,\n",
       "  'Kaduka Lime': 0.0,\n",
       "  'Guava': 0.0,\n",
       "  'Jostaberry': 0.0,\n",
       "  'Dabai': 0.0,\n",
       "  'Black Apple': 0.0,\n",
       "  'Huckleberry': 0.0,\n",
       "  'Bacupari': 0.0,\n",
       "  'Midyim': 0.0,\n",
       "  'Boquila': 0.0,\n",
       "  'Goji': 0.0,\n",
       "  'Kapok': 0.0,\n",
       "  'Bitter Melon': 0.0,\n",
       "  'Desert Banana': 0.0,\n",
       "  'Clementine': 0.0,\n",
       "  'Horned Melon': 0.0,\n",
       "  'Bael': 0.0,\n",
       "  'Bilberry': 0.0,\n",
       "  'Black Raspberry': 0.0,\n",
       "  'Desert Lime': 0.0,\n",
       "  'Boysenberry': 0.0,\n",
       "  'Cocky Apple': 0.0,\n",
       "  'Genip': 0.0,\n",
       "  'Berberis Vulgaris': 0.0,\n",
       "  'Ambrosia Pie Filling': 0.0,\n",
       "  'Biriba': 0.0,\n",
       "  'Limequat': 0.0,\n",
       "  'Damson Plum': 0.0,\n",
       "  'Coconut': 0.0,\n",
       "  'Chokeberry': 0.0,\n",
       "  'Canary Melon': 0.0,\n",
       "  'Hippophae': 0.0,\n",
       "  'Double Plum Pie Filling': 0.0,\n",
       "  'Giant Granadilla': 0.0,\n",
       "  'Cocoplum': 0.0,\n",
       "  'Jaltomata Procumbens': 0.0,\n",
       "  'Loquat': 0.0,\n",
       "  'Doubah': 0.0,\n",
       "  'Tayberry': 0.0,\n",
       "  'Kepel': 0.0,\n",
       "  'Kiwifruit': 0.0,\n",
       "  'Coffee': 0.0,\n",
       "  'Butter': 0.0,\n",
       "  'Camu Camu': 0.0,\n",
       "  'Tomatillo': 0.0,\n",
       "  'Kabosu': 0.0,\n",
       "  'Blood Orange': 0.0,\n",
       "  'Youngberry': 0.0,\n",
       "  'Lawton Blackberry': 0.0,\n",
       "  'Karonda': 0.0,\n",
       "  'Physalis': 0.0,\n",
       "  'Bayberry': 0.0,\n",
       "  'Blue Tongue': 0.0,\n",
       "  'Kakadu Lime': 0.0,\n",
       "  'Citron': 0.0,\n",
       "  'Pie Crust': 0.0,\n",
       "  'Melon Pear': 0.0,\n",
       "  'Seedless Watermelon': 0.0,\n",
       "  'Edible Honeysuckle': 0.0,\n",
       "  'European Raspberry': 0.0,\n",
       "  'Ice Water': 0.5,\n",
       "  'Gooseberry': 0.0,\n",
       "  'Kaffir Lime': 0.0,\n",
       "  'Sambucus': 0.0,\n",
       "  'Cranberry': 0.0,\n",
       "  'Lychee': 0.0,\n",
       "  'Whinberry': 0.0,\n",
       "  'Myrciaria Floribunda': 0.0,\n",
       "  'Gac': 0.0,\n",
       "  'Coco Plum': 0.0,\n",
       "  'Beach Plum': 0.0,\n",
       "  'Calamondin': 0.0,\n",
       "  'Kaduka Key Lime Pie Filling': 0.0},\n",
       " 'Storeroom - APC': {'Cornstarch': 0.0,\n",
       "  'Hairless Rambutan': 0.0,\n",
       "  'Flour': 0.0,\n",
       "  'Sugar': 0.0,\n",
       "  'Parchment Paper': 0.0,\n",
       "  'Pie Tin': 0.0,\n",
       "  'Pie Box': 0.0,\n",
       "  'Salt': 0.0},\n",
       " 'Refrigerated Display - APC': {'Gooseberry Pie Filling': 0.0,\n",
       "  'Bayberry Pie Filling': 0.0,\n",
       "  'Kaduka Key Lime Pie': 0.0,\n",
       "  'Tower of Bay-bel': 0.0,\n",
       "  'Ambrosia Pie Filling': 0.0,\n",
       "  'Bayberry Pocket': 0.0,\n",
       "  'Water': 100.0,\n",
       "  'Kaduka Key Lime Pie Filling': 0.0,\n",
       "  'Double Plum Pie': 0.0,\n",
       "  'Bayberry Popper': 0.0,\n",
       "  'Bayberry Pie': 0.0,\n",
       "  'Double Plum Pie Filling': 0.0,\n",
       "  'Gooseberry Pie': 0.0,\n",
       "  'Ambrosia Pie': 0.0,\n",
       "  'Pocketful of Bay': 0.0,\n",
       "  'Pie Crust': 0.0},\n",
       " 'Stores - CFC': {'Damson Plum': 0.0,\n",
       "  'Cocoplum': 0.0,\n",
       "  'Kaduka Lime': 0.0,\n",
       "  'Hairless Rambutan': 0.0,\n",
       "  'Bayberry': 0.0,\n",
       "  'Limequat': 0.0,\n",
       "  'Tayberry': 0.0,\n",
       "  'Gooseberry': 0.0},\n",
       " 'Kitchen - APC': {'Water': 2.5}}"
      ]
     },
     "execution_count": 53,
     "metadata": {},
     "output_type": "execute_result"
    }
   ],
   "source": [
    "from erpnext.stock.utils import get_latest_stock_qty, get_latest_stock_balance\n",
    "\n",
    "get_latest_stock_balance()"
   ]
  },
  {
   "cell_type": "code",
   "execution_count": null,
   "metadata": {},
   "outputs": [
    {
     "name": "stdout",
     "output_type": "stream",
     "text": [
      "FIFO Allocation: [{'item_code': 'Water', 'qty': 50.0, 'warehouse': 'Kitchen - APC'}, {'item_code': 'Water', 'qty': 15.0, 'warehouse': 'Kitchen - APC'}, {'item_code': 'Water', 'qty': 85.0, 'warehouse': 'Refrigerated Display - APC'}]\n"
     ]
    }
   ],
   "source": [
    "import frappe\n",
    "from frappe.utils import nowdate\n",
    "\n",
    "\n",
    "def get_fifo_allocation(\n",
    "    item_code: str, company: str, to_date: str, required_qty: float\n",
    "):\n",
    "    \"\"\"\n",
    "    Returns FIFO allocation for a given item as a list of dicts:\n",
    "    Each dict contains:\n",
    "        - 'item_code'\n",
    "        - 'qty' : quantity taken from that FIFO bin\n",
    "        - 'warehouse' : warehouse from which stock was allocated\n",
    "\n",
    "    Uses frappe.get_all to fetch SLE records in FIFO order.\n",
    "    \"\"\"\n",
    "    # Query positive (incoming) SLE records for the given item using the ORM\n",
    "    bins = frappe.get_all(\n",
    "        \"Stock Ledger Entry\",\n",
    "        fields=[\n",
    "            \"actual_qty\",\n",
    "            \"valuation_rate\",\n",
    "            \"posting_date\",\n",
    "            \"creation\",\n",
    "            \"warehouse\",\n",
    "        ],\n",
    "        filters={\n",
    "            \"item_code\": item_code,\n",
    "            \"company\": company,\n",
    "            \"posting_date\": [\"<=\", to_date],\n",
    "            \"is_cancelled\": 0,\n",
    "            \"actual_qty\": [\">\", 0],\n",
    "        },\n",
    "        order_by=\"posting_date, creation\",\n",
    "    )\n",
    "\n",
    "    allocation = []\n",
    "    remaining = required_qty\n",
    "\n",
    "    # Process each incoming stock bin in FIFO order\n",
    "    for bin in bins:\n",
    "        if remaining <= 0:\n",
    "            break\n",
    "\n",
    "        available = bin.get(\"actual_qty\", 0)\n",
    "        allocated_qty = min(available, remaining)\n",
    "        allocation.append(\n",
    "            {\n",
    "                \"item_code\": item_code,\n",
    "                \"qty\": allocated_qty,\n",
    "                \"warehouse\": bin.get(\"warehouse\"),\n",
    "            }\n",
    "        )\n",
    "        remaining -= allocated_qty\n",
    "\n",
    "    if remaining > 0:\n",
    "        frappe.msgprint(f\"Warning: Not enough stock. Short by {remaining}\")\n",
    "\n",
    "    return allocation\n",
    "\n",
    "\n",
    "# --- Example Usage ---\n",
    "item_code = \"Water\"\n",
    "company = \"Ambrosia Pie Company\"\n",
    "to_date = nowdate()  # or specify a date string (e.g., \"2025-03-06\")\n",
    "required_qty = 150  # specify the consumption quantity\n",
    "\n",
    "fifo_allocation = get_fifo_allocation(item_code, company, to_date, required_qty)\n",
    "print(\"FIFO Allocation:\", fifo_allocation)"
   ]
  },
  {
   "cell_type": "code",
   "execution_count": null,
   "metadata": {},
   "outputs": [
    {
     "data": {
      "text/plain": [
       "[{'actual_qty': 50.0,\n",
       "  'posting_date': datetime.date(2025, 1, 1),\n",
       "  'creation': datetime.datetime(2025, 2, 26, 5, 55, 55, 475215),\n",
       "  'warehouse': 'Kitchen - APC'},\n",
       " {'actual_qty': 15.0,\n",
       "  'posting_date': datetime.date(2025, 1, 1),\n",
       "  'creation': datetime.datetime(2025, 2, 26, 5, 56, 20, 717796),\n",
       "  'warehouse': 'Kitchen - APC'},\n",
       " {'actual_qty': 100.0,\n",
       "  'posting_date': datetime.date(2025, 3, 6),\n",
       "  'creation': datetime.datetime(2025, 3, 6, 7, 8, 13, 312590),\n",
       "  'warehouse': 'Refrigerated Display - APC'}]"
      ]
     },
     "execution_count": 55,
     "metadata": {},
     "output_type": "execute_result"
    }
   ],
   "source": [
    "# v2 final final final\n",
    "\n",
    "sle = frappe.get_all(\n",
    "    \"Stock Ledger Entry\",\n",
    "    fields=[\"actual_qty\", \"posting_date\", \"creation\", \"warehouse\"],\n",
    "    filters={\n",
    "        \"item_code\": \"Water\",\n",
    "        \"company\": \"Ambrosia Pie Company\",\n",
    "        \"posting_date\": [\"<=\", nowdate()],\n",
    "        \"is_cancelled\": 0,\n",
    "        \"actual_qty\": [\">\", 0],\n",
    "    },\n",
    "    order_by=\"posting_date, creation\",\n",
    ")\n",
    "sle"
   ]
  },
  {
   "cell_type": "markdown",
   "metadata": {},
   "source": [
    "## FIFO final final v2"
   ]
  },
  {
   "cell_type": "code",
   "execution_count": null,
   "metadata": {},
   "outputs": [],
   "source": [
    "class Rules:\n",
    "    @staticmethod\n",
    "    def _process_entries(item_code, qty, company, order_by, root_warehouse, to_date):\n",
    "        # Retrieve stock ledger entries with the provided filters and ordering.\n",
    "        sle = frappe.get_all(\n",
    "            \"Stock Ledger Entry\",\n",
    "            fields=[\"actual_qty\", \"posting_date\", \"creation\", \"warehouse\"],\n",
    "            filters={\n",
    "                \"item_code\": item_code,\n",
    "                \"company\": company,\n",
    "                \"posting_date\": [\"<=\", to_date],\n",
    "                \"is_cancelled\": 0,\n",
    "                \"actual_qty\": [\">\", 0],\n",
    "            },\n",
    "            order_by=order_by,\n",
    "        )\n",
    "\n",
    "        newsle = []\n",
    "        qty_obtained = 0\n",
    "\n",
    "        # Process each entry until the required quantity is fulfilled.\n",
    "        for entry in sle:\n",
    "            # If a root warehouse is specified, ensure the entry belongs to it.\n",
    "            if (\n",
    "                root_warehouse\n",
    "                and get_root_warehouse(entry[\"warehouse\"]) != root_warehouse\n",
    "            ):\n",
    "                continue\n",
    "\n",
    "            remaining_qty = qty - qty_obtained\n",
    "\n",
    "            if entry[\"actual_qty\"] > remaining_qty:\n",
    "                newsle.append(\n",
    "                    {\n",
    "                        \"item_code\": item_code,\n",
    "                        \"warehouse\": entry[\"warehouse\"],\n",
    "                        \"qty\": remaining_qty,\n",
    "                    }\n",
    "                )\n",
    "                qty_obtained += remaining_qty\n",
    "                break\n",
    "            else:\n",
    "                newsle.append(\n",
    "                    {\n",
    "                        \"item_code\": item_code,\n",
    "                        \"warehouse\": entry[\"warehouse\"],\n",
    "                        \"qty\": entry[\"actual_qty\"],\n",
    "                    }\n",
    "                )\n",
    "                qty_obtained += entry[\"actual_qty\"]\n",
    "\n",
    "        # If the accumulated quantity doesn't match the requested quantity, raise an error.\n",
    "        if (qty - qty_obtained) != 0:\n",
    "            raise frappe.ValidationError(\"Not enough items in root warehouse\")\n",
    "        return newsle\n",
    "\n",
    "    @staticmethod\n",
    "    def FIFO(item_code, qty, company, root_warehouse=None, to_date=nowdate()):\n",
    "        # FIFO: Order by posting_date and creation in ascending order.\n",
    "        return Rules._process_entries(\n",
    "            item_code, qty, company, \"posting_date, creation\", root_warehouse, to_date\n",
    "        )\n",
    "\n",
    "    @staticmethod\n",
    "    def LIFO(item_code, qty, company, root_warehouse=None, to_date=nowdate()):\n",
    "        # LIFO: Order by posting_date and creation in descending order.\n",
    "        return Rules._process_entries(\n",
    "            item_code,\n",
    "            qty,\n",
    "            company,\n",
    "            \"posting_date desc, creation desc\",\n",
    "            root_warehouse,\n",
    "            to_date,\n",
    "        )"
   ]
  },
  {
   "cell_type": "code",
   "execution_count": null,
   "metadata": {},
   "outputs": [
    {
     "data": {
      "text/plain": [
       "[{'item_code': 'Water', 'warehouse': 'Kitchen - APC', 'qty': 50.0},\n",
       " {'item_code': 'Water', 'warehouse': 'Kitchen - APC', 'qty': 15.0},\n",
       " {'item_code': 'Water',\n",
       "  'warehouse': 'Refrigerated Display - APC',\n",
       "  'qty': 35.0}]"
      ]
     },
     "execution_count": 57,
     "metadata": {},
     "output_type": "execute_result"
    }
   ],
   "source": [
    "Rules.FIFO(\"Water\", 100, \"Ambrosia Pie Company\", \"All Warehouses - APC\")"
   ]
  },
  {
   "cell_type": "code",
   "execution_count": null,
   "metadata": {},
   "outputs": [
    {
     "data": {
      "text/plain": [
       "{'name': 'STO-PICK-2025-00001',\n",
       " 'owner': 'Administrator',\n",
       " 'creation': datetime.datetime(2025, 2, 27, 4, 5, 23, 785966),\n",
       " 'modified': datetime.datetime(2025, 2, 27, 4, 5, 23, 984758),\n",
       " 'modified_by': 'Administrator',\n",
       " 'docstatus': 0,\n",
       " 'idx': 0,\n",
       " 'naming_series': 'STO-PICK-.YYYY.-',\n",
       " 'company': 'Ambrosia Pie Company',\n",
       " 'purpose': 'Delivery',\n",
       " 'customer': 'Sand Street Deli',\n",
       " 'customer_name': 'Sand Street Deli',\n",
       " 'work_order': None,\n",
       " 'material_request': None,\n",
       " 'for_qty': 0.0,\n",
       " 'parent_warehouse': None,\n",
       " 'consider_rejected_warehouses': 0,\n",
       " 'pick_manually': 0,\n",
       " 'ignore_pricing_rule': 0,\n",
       " 'scan_barcode': None,\n",
       " 'scan_mode': 0,\n",
       " 'prompt_qty': 0,\n",
       " 'amended_from': None,\n",
       " 'group_same_items': 0,\n",
       " 'status': 'Draft',\n",
       " 'doctype': 'Pick List',\n",
       " 'locations': [{'name': 'vt8i09idg5',\n",
       "   'owner': 'Administrator',\n",
       "   'creation': datetime.datetime(2025, 2, 27, 4, 5, 23, 785966),\n",
       "   'modified': datetime.datetime(2025, 2, 27, 4, 5, 23, 785966),\n",
       "   'modified_by': 'Administrator',\n",
       "   'docstatus': 0,\n",
       "   'idx': 1,\n",
       "   'item_code': 'Boysenberry',\n",
       "   'item_name': 'Boysenberry',\n",
       "   'description': 'A juicy, dark purple berry with a balance of tartness and sweetness.',\n",
       "   'item_group': 'Ingredients',\n",
       "   'warehouse': 'Refrigerator - APC',\n",
       "   'qty': 6.0,\n",
       "   'stock_qty': 6.0,\n",
       "   'picked_qty': 0.0,\n",
       "   'stock_reserved_qty': 0.0,\n",
       "   'uom': 'Pound',\n",
       "   'conversion_factor': 1.0,\n",
       "   'stock_uom': 'Pound',\n",
       "   'serial_and_batch_bundle': None,\n",
       "   'use_serial_batch_fields': 1,\n",
       "   'serial_no': None,\n",
       "   'batch_no': None,\n",
       "   'sales_order': 'SAL-ORD-2025-00012',\n",
       "   'sales_order_item': 'hbj41jmh18',\n",
       "   'product_bundle_item': None,\n",
       "   'material_request': None,\n",
       "   'material_request_item': None,\n",
       "   'parent': 'STO-PICK-2025-00001',\n",
       "   'parentfield': 'locations',\n",
       "   'parenttype': 'Pick List',\n",
       "   'doctype': 'Pick List Item'},\n",
       "  {'name': 'l56ggp8nsu',\n",
       "   'owner': 'Administrator',\n",
       "   'creation': datetime.datetime(2025, 2, 27, 4, 5, 23, 785966),\n",
       "   'modified': datetime.datetime(2025, 2, 27, 4, 5, 23, 785966),\n",
       "   'modified_by': 'Administrator',\n",
       "   'docstatus': 0,\n",
       "   'idx': 2,\n",
       "   'item_code': 'Kakadu Lime',\n",
       "   'item_name': 'Kakadu Lime',\n",
       "   'description': 'An Australian citrus fruit packed with tart juice and intense aroma.',\n",
       "   'item_group': 'Ingredients',\n",
       "   'warehouse': 'Refrigerator - APC',\n",
       "   'qty': 6.0,\n",
       "   'stock_qty': 6.0,\n",
       "   'picked_qty': 0.0,\n",
       "   'stock_reserved_qty': 0.0,\n",
       "   'uom': 'Pound',\n",
       "   'conversion_factor': 1.0,\n",
       "   'stock_uom': 'Pound',\n",
       "   'serial_and_batch_bundle': None,\n",
       "   'use_serial_batch_fields': 1,\n",
       "   'serial_no': None,\n",
       "   'batch_no': None,\n",
       "   'sales_order': 'SAL-ORD-2025-00012',\n",
       "   'sales_order_item': 'drfr91qnfg',\n",
       "   'product_bundle_item': None,\n",
       "   'material_request': None,\n",
       "   'material_request_item': None,\n",
       "   'parent': 'STO-PICK-2025-00001',\n",
       "   'parentfield': 'locations',\n",
       "   'parenttype': 'Pick List',\n",
       "   'doctype': 'Pick List Item'},\n",
       "  {'name': 'orvt42fdbv',\n",
       "   'owner': 'Administrator',\n",
       "   'creation': datetime.datetime(2025, 2, 27, 4, 5, 23, 785966),\n",
       "   'modified': datetime.datetime(2025, 2, 27, 4, 5, 23, 785966),\n",
       "   'modified_by': 'Administrator',\n",
       "   'docstatus': 0,\n",
       "   'idx': 3,\n",
       "   'item_code': 'Triphasia Brassii',\n",
       "   'item_name': 'Triphasia Brassii',\n",
       "   'description': 'A citrus relative with tiny, aromatic fruits used in preserves.',\n",
       "   'item_group': 'Ingredients',\n",
       "   'warehouse': 'Refrigerator - APC',\n",
       "   'qty': 6.0,\n",
       "   'stock_qty': 6.0,\n",
       "   'picked_qty': 0.0,\n",
       "   'stock_reserved_qty': 0.0,\n",
       "   'uom': 'Pound',\n",
       "   'conversion_factor': 1.0,\n",
       "   'stock_uom': 'Pound',\n",
       "   'serial_and_batch_bundle': None,\n",
       "   'use_serial_batch_fields': 1,\n",
       "   'serial_no': None,\n",
       "   'batch_no': None,\n",
       "   'sales_order': 'SAL-ORD-2025-00012',\n",
       "   'sales_order_item': 'cgjnle7117',\n",
       "   'product_bundle_item': None,\n",
       "   'material_request': None,\n",
       "   'material_request_item': None,\n",
       "   'parent': 'STO-PICK-2025-00001',\n",
       "   'parentfield': 'locations',\n",
       "   'parenttype': 'Pick List',\n",
       "   'doctype': 'Pick List Item'},\n",
       "  {'name': '2568hh3fpq',\n",
       "   'owner': 'Administrator',\n",
       "   'creation': datetime.datetime(2025, 2, 27, 4, 5, 23, 785966),\n",
       "   'modified': datetime.datetime(2025, 2, 27, 4, 5, 23, 785966),\n",
       "   'modified_by': 'Administrator',\n",
       "   'docstatus': 0,\n",
       "   'idx': 4,\n",
       "   'item_code': 'Kakadu Lime',\n",
       "   'item_name': 'Kakadu Lime',\n",
       "   'description': 'An Australian citrus fruit packed with tart juice and intense aroma.',\n",
       "   'item_group': 'Ingredients',\n",
       "   'warehouse': 'Refrigerator - APC',\n",
       "   'qty': 7.0,\n",
       "   'stock_qty': 7.0,\n",
       "   'picked_qty': 0.0,\n",
       "   'stock_reserved_qty': 0.0,\n",
       "   'uom': 'Pound',\n",
       "   'conversion_factor': 1.0,\n",
       "   'stock_uom': 'Pound',\n",
       "   'serial_and_batch_bundle': None,\n",
       "   'use_serial_batch_fields': 1,\n",
       "   'serial_no': None,\n",
       "   'batch_no': None,\n",
       "   'sales_order': 'SAL-ORD-2025-00012',\n",
       "   'sales_order_item': 'g98ncc0gc2',\n",
       "   'product_bundle_item': None,\n",
       "   'material_request': None,\n",
       "   'material_request_item': None,\n",
       "   'parent': 'STO-PICK-2025-00001',\n",
       "   'parentfield': 'locations',\n",
       "   'parenttype': 'Pick List',\n",
       "   'doctype': 'Pick List Item'},\n",
       "  {'name': '61bsc2sgaj',\n",
       "   'owner': 'Administrator',\n",
       "   'creation': datetime.datetime(2025, 2, 27, 4, 5, 23, 785966),\n",
       "   'modified': datetime.datetime(2025, 2, 27, 4, 5, 23, 785966),\n",
       "   'modified_by': 'Administrator',\n",
       "   'docstatus': 0,\n",
       "   'idx': 5,\n",
       "   'item_code': 'Bilberry',\n",
       "   'item_name': 'Bilberry',\n",
       "   'description': 'A small, deep-blue berry with a tart flavor, perfect for jams and desserts.',\n",
       "   'item_group': 'Ingredients',\n",
       "   'warehouse': 'Refrigerator - APC',\n",
       "   'qty': 5.0,\n",
       "   'stock_qty': 5.0,\n",
       "   'picked_qty': 0.0,\n",
       "   'stock_reserved_qty': 0.0,\n",
       "   'uom': 'Pound',\n",
       "   'conversion_factor': 1.0,\n",
       "   'stock_uom': 'Pound',\n",
       "   'serial_and_batch_bundle': None,\n",
       "   'use_serial_batch_fields': 1,\n",
       "   'serial_no': None,\n",
       "   'batch_no': None,\n",
       "   'sales_order': 'SAL-ORD-2025-00012',\n",
       "   'sales_order_item': 'gfatul56dq',\n",
       "   'product_bundle_item': None,\n",
       "   'material_request': None,\n",
       "   'material_request_item': None,\n",
       "   'parent': 'STO-PICK-2025-00001',\n",
       "   'parentfield': 'locations',\n",
       "   'parenttype': 'Pick List',\n",
       "   'doctype': 'Pick List Item'}]}"
      ]
     },
     "execution_count": 58,
     "metadata": {},
     "output_type": "execute_result"
    }
   ],
   "source": [
    "pl"
   ]
  },
  {
   "cell_type": "markdown",
   "metadata": {},
   "source": [
    "# Testing"
   ]
  },
  {
   "cell_type": "code",
   "execution_count": 4,
   "metadata": {},
   "outputs": [
    {
     "name": "stdout",
     "output_type": "stream",
     "text": [
      "Method: FIFO\n",
      "[{'item_code': 'Bayberry', 'qty': 17.0, 'warehouse': 'Fruit Storage 11 - CFC'},\n",
      " {'item_code': 'Lychee', 'qty': 3.0, 'warehouse': 'Fruit Storage 49 - CFC'},\n",
      " {'item_code': 'Kepel', 'qty': 12.0, 'warehouse': 'Fruit Storage 21 - CFC'},\n",
      " {'item_code': 'Bayberry', 'qty': 3.0, 'warehouse': 'Fruit Storage 14 - CFC'}]\n",
      "Method: LIFO\n",
      "[{'item_code': 'Bayberry', 'qty': 20.0, 'warehouse': 'Fruit Storage 57 - CFC'},\n",
      " {'item_code': 'Kepel', 'qty': 12.0, 'warehouse': 'Fruit Storage 45 - CFC'},\n",
      " {'item_code': 'Lychee', 'qty': 3.0, 'warehouse': 'Fruit Storage 25 - CFC'}]\n",
      "Method: Deplete maximum number of Bins\n",
      "[{'item_code': 'Bayberry', 'qty': 10.0, 'warehouse': 'Fruit Storage 34 - CFC'},\n",
      " {'item_code': 'Lychee', 'qty': 3.0, 'warehouse': 'Fruit Storage 25 - CFC'},\n",
      " {'item_code': 'Kepel', 'qty': 12.0, 'warehouse': 'Fruit Storage 21 - CFC'},\n",
      " {'item_code': 'Bayberry', 'qty': 10.0, 'warehouse': 'Fruit Storage 11 - CFC'}]\n",
      "Method: Deplete minimum number of Bins\n",
      "[{'item_code': 'Bayberry', 'qty': 20.0, 'warehouse': 'Fruit Storage 57 - CFC'},\n",
      " {'item_code': 'Kepel', 'qty': 12.0, 'warehouse': 'Fruit Storage 45 - CFC'},\n",
      " {'item_code': 'Lychee', 'qty': 3.0, 'warehouse': 'Fruit Storage 49 - CFC'}]\n"
     ]
    }
   ],
   "source": [
    "from inventory_tools.inventory_tools.overrides.pick_list import (\n",
    "    optimize_path,\n",
    "    optimize_route_picklist,\n",
    ")\n",
    "from pprint import pprint\n",
    "\n",
    "methods = [\n",
    "    \"FIFO\",\n",
    "    \"LIFO\",\n",
    "    \"Deplete maximum number of Bins\",\n",
    "    \"Deplete minimum number of Bins\",\n",
    "]\n",
    "for m in methods:\n",
    "    print(f\"Method: {m}\")\n",
    "    # out = optimize_path(pl, m)\n",
    "    out = optimize_path(\"STO-PICK-2025-00001\", m)\n",
    "    pprint(out)"
   ]
  },
  {
   "cell_type": "code",
   "execution_count": 9,
   "metadata": {},
   "outputs": [
    {
     "data": {
      "text/plain": [
       "[{'item_code': 'Bayberry', 'warehouse': 'Fruit Storage 57 - CFC', 'qty': 20.0},\n",
       " {'item_code': 'Kepel', 'warehouse': 'Fruit Storage 45 - CFC', 'qty': 12.0},\n",
       " {'item_code': 'Lychee', 'warehouse': 'Fruit Storage 49 - CFC', 'qty': 3.0}]"
      ]
     },
     "execution_count": 9,
     "metadata": {},
     "output_type": "execute_result"
    }
   ],
   "source": [
    "optimize_route_picklist(out, \"All Warehouses - CFC\")"
   ]
  },
  {
   "cell_type": "code",
   "execution_count": 6,
   "metadata": {},
   "outputs": [],
   "source": [
    "from inventory_tools.inventory_tools.overrides.pick_list import (\n",
    "    optimize_path,\n",
    "    optimize_route_picklist,\n",
    ")\n",
    "from inventory_tools.inventory_tools.doctype.warehouse_plan.warehouse_plan import (\n",
    "    Grid_TSP,\n",
    ")\n",
    "from frappe.utils import safe_json_loads\n",
    "from pprint import pprint\n",
    "import numpy as np\n",
    "\n",
    "# Stock for the following items:\n",
    "# {'Tower of Bay-bel': 'MFG-WO-2025-00005',\n",
    "#  'Pocketful of Bay': 'MFG-WO-2025-00006',\n",
    "#  'Bayberry Pie': 'MFG-WO-2025-00012',\n",
    "#  'Bayberry Pocket': 'MFG-WO-2025-00014',\n",
    "#  'Bayberry Popper': 'MFG-WO-2025-00015'}\n",
    "\n",
    "# Bayberry popper\n",
    "# Create work order: MFG-WO-2025-00017\n",
    "# Create pick list: STO-PICK-2025-00002\n",
    "pl = frappe.get_doc(\"Pick List\", \"STO-PICK-2025-00001\").as_dict()\n",
    "grid = np.array(\n",
    "    safe_json_loads(\n",
    "        frappe.get_doc(\"Warehouse Plan\", \"All Warehouses - CFC\").as_dict()[\"matrix\"]\n",
    "    )\n",
    ")"
   ]
  },
  {
   "cell_type": "code",
   "execution_count": 8,
   "metadata": {},
   "outputs": [],
   "source": [
    "import pyperclip\n",
    "\n",
    "pyperclip.copy(\n",
    "    safe_json_loads(\n",
    "        frappe.get_doc(\"Warehouse Plan\", \"All Warehouses - CFC\").as_dict()[\"matrix\"]\n",
    "    )\n",
    ")"
   ]
  },
  {
   "cell_type": "code",
   "execution_count": 7,
   "metadata": {},
   "outputs": [
    {
     "data": {
      "image/png": "[encoded data removed]",
      "text/plain": [
       "<Figure size 640x480 with 1 Axes>"
      ]
     },
     "metadata": {},
     "output_type": "display_data"
    }
   ],
   "source": [
    "g = Grid_TSP(grid)\n",
    "g.pos2node((42, 13))\n",
    "g.node2pos(541)\n",
    "\n",
    "nods = 541\n",
    "g._plot([nods, nods + 1])"
   ]
  },
  {
   "cell_type": "code",
   "execution_count": 6,
   "metadata": {},
   "outputs": [
    {
     "data": {
      "text/plain": [
       "[{'item_code': 'Flour', 'warehouse': 'Fruit Basket 32 - CFC', 'qty': 5.0},\n",
       " {'item_code': 'Bayberry', 'warehouse': 'Fruit Basket 71 - CFC', 'qty': 10.0},\n",
       " {'item_code': 'Butter', 'warehouse': 'Fruit Basket 63 - CFC', 'qty': 2.5},\n",
       " {'item_code': 'Sugar', 'warehouse': 'Fruit Basket 38 - CFC', 'qty': 0.5}]"
      ]
     },
     "execution_count": 6,
     "metadata": {},
     "output_type": "execute_result"
    }
   ],
   "source": [
    "out"
   ]
  },
  {
   "cell_type": "code",
   "execution_count": 7,
   "metadata": {},
   "outputs": [
    {
     "data": {
      "text/plain": [
       "[{'item_code': 'Flour', 'warehouse': 'Fruit Basket 32 - CFC', 'qty': 5.0},\n",
       " {'item_code': 'Bayberry', 'warehouse': 'Fruit Basket 71 - CFC', 'qty': 10.0},\n",
       " {'item_code': 'Butter', 'warehouse': 'Fruit Basket 63 - CFC', 'qty': 2.5},\n",
       " {'item_code': 'Sugar', 'warehouse': 'Fruit Basket 38 - CFC', 'qty': 0.5}]"
      ]
     },
     "execution_count": 7,
     "metadata": {},
     "output_type": "execute_result"
    }
   ],
   "source": [
    "optimize_route_picklist(out, \"All Warehouses - CFC\")"
   ]
  },
  {
   "cell_type": "code",
   "execution_count": 8,
   "metadata": {},
   "outputs": [
    {
     "data": {
      "text/plain": [
       "array([[1, 0, 0, 0, 0, 0, 0, 0, 0, 0, 0, 0, 0, 0, 0, 0, 0, 0, 1, 1, 1, 1,\n",
       "        1, 1],\n",
       "       [1, 1, 1, 1, 1, 1, 1, 1, 1, 1, 1, 1, 1, 1, 1, 1, 1, 1, 1, 1, 1, 1,\n",
       "        1, 1],\n",
       "       [1, 0, 0, 1, 0, 0, 1, 0, 0, 1, 0, 0, 1, 0, 0, 1, 0, 0, 1, 1, 1, 1,\n",
       "        1, 1],\n",
       "       [1, 0, 0, 1, 0, 0, 1, 0, 0, 1, 0, 0, 1, 0, 0, 1, 0, 0, 1, 1, 1, 1,\n",
       "        1, 1],\n",
       "       [1, 1, 1, 1, 0, 0, 1, 0, 0, 1, 0, 0, 1, 0, 0, 1, 0, 0, 1, 1, 1, 1,\n",
       "        1, 1],\n",
       "       [1, 0, 0, 1, 0, 0, 1, 0, 0, 1, 0, 0, 1, 0, 0, 1, 0, 0, 1, 1, 1, 1,\n",
       "        1, 1],\n",
       "       [1, 0, 0, 1, 0, 0, 1, 0, 0, 1, 0, 0, 1, 0, 0, 1, 0, 0, 1, 1, 1, 1,\n",
       "        1, 1],\n",
       "       [1, 1, 1, 1, 1, 1, 1, 1, 1, 1, 1, 1, 1, 1, 1, 1, 1, 1, 1, 1, 1, 1,\n",
       "        1, 1],\n",
       "       [1, 1, 1, 1, 1, 1, 1, 1, 1, 1, 1, 1, 1, 1, 1, 1, 1, 1, 1, 1, 1, 1,\n",
       "        1, 1],\n",
       "       [0, 1, 0, 0, 0, 0, 0, 0, 0, 1, 0, 0, 0, 0, 0, 0, 0, 1, 0, 0, 0, 0,\n",
       "        0, 0],\n",
       "       [0, 1, 0, 0, 0, 0, 0, 0, 0, 1, 0, 0, 0, 0, 0, 0, 0, 1, 0, 0, 0, 0,\n",
       "        0, 0],\n",
       "       [0, 1, 1, 1, 1, 1, 1, 1, 0, 1, 1, 1, 1, 1, 1, 1, 0, 1, 1, 1, 1, 1,\n",
       "        1, 1],\n",
       "       [0, 1, 0, 0, 0, 0, 0, 0, 0, 1, 0, 0, 0, 0, 0, 0, 0, 1, 0, 0, 0, 0,\n",
       "        0, 0],\n",
       "       [0, 1, 0, 0, 0, 0, 0, 0, 0, 1, 0, 0, 0, 0, 0, 0, 0, 1, 0, 0, 0, 0,\n",
       "        0, 0],\n",
       "       [0, 1, 1, 1, 1, 1, 1, 1, 0, 1, 1, 1, 1, 1, 1, 1, 0, 1, 1, 1, 1, 1,\n",
       "        1, 1],\n",
       "       [0, 0, 0, 0, 0, 0, 0, 0, 0, 0, 0, 0, 0, 0, 0, 0, 0, 0, 0, 0, 0, 0,\n",
       "        0, 0]])"
      ]
     },
     "execution_count": 8,
     "metadata": {},
     "output_type": "execute_result"
    }
   ],
   "source": [
    "# Get Grid\n",
    "import numpy as np\n",
    "from frappe.utils import safe_json_loads\n",
    "\n",
    "root_warehouse = \"All Warehouses - CFC\"\n",
    "grid = np.array(\n",
    "    safe_json_loads(\n",
    "        frappe.get_doc(\"Warehouse Plan\", root_warehouse).as_dict()[\"matrix\"]\n",
    "    )\n",
    ")\n",
    "grid"
   ]
  },
  {
   "cell_type": "code",
   "execution_count": 9,
   "metadata": {},
   "outputs": [
    {
     "data": {
      "text/plain": [
       "1.0"
      ]
     },
     "execution_count": 9,
     "metadata": {},
     "output_type": "execute_result"
    }
   ],
   "source": [
    "# get scale\n",
    "import numpy as np\n",
    "\n",
    "imaginary_x = grid.shape[1]\n",
    "\n",
    "real_x = frappe.get_doc(\"Warehouse Plan\", root_warehouse).as_dict()[\"horizontal\"]\n",
    "\n",
    "scale = real_x / imaginary_x\n",
    "scale"
   ]
  },
  {
   "cell_type": "code",
   "execution_count": 10,
   "metadata": {},
   "outputs": [
    {
     "data": {
      "text/plain": [
       "{'name': 'Fruit Basket 41 - CFC',\n",
       " 'owner': 'Administrator',\n",
       " 'creation': datetime.datetime(2025, 3, 12, 7, 18, 10, 714287),\n",
       " 'modified': datetime.datetime(2025, 3, 12, 7, 18, 10, 729402),\n",
       " 'modified_by': 'Administrator',\n",
       " 'docstatus': 1,\n",
       " 'idx': 0,\n",
       " 'disabled': 0,\n",
       " 'warehouse_path': None,\n",
       " 'warehouse_name': 'Fruit Basket 41',\n",
       " 'is_group': 0,\n",
       " 'parent_warehouse': 'All Warehouses - CFC',\n",
       " 'is_rejected_warehouse': 0,\n",
       " 'account': None,\n",
       " 'company': 'Chelsea Fruit Co',\n",
       " 'email_id': None,\n",
       " 'phone_no': None,\n",
       " 'mobile_no': None,\n",
       " 'address_line_1': None,\n",
       " 'address_line_2': None,\n",
       " 'city': None,\n",
       " 'state': None,\n",
       " 'pin': None,\n",
       " 'warehouse_type': None,\n",
       " 'default_in_transit_warehouse': None,\n",
       " 'lft': 112,\n",
       " 'rgt': 113,\n",
       " 'old_parent': 'All Warehouses - CFC',\n",
       " 'warehouse_plan': None,\n",
       " 'warehouse_plan_coordinates': None,\n",
       " 'rotation': 0,\n",
       " 'accessible_path_x': 10,\n",
       " 'accessible_path_y': 11,\n",
       " 'doctype': 'Warehouse'}"
      ]
     },
     "execution_count": 10,
     "metadata": {},
     "output_type": "execute_result"
    }
   ],
   "source": [
    "frappe.get_doc(\"Warehouse\", \"Fruit Basket 41 - CFC\").as_dict()"
   ]
  },
  {
   "cell_type": "code",
   "execution_count": 11,
   "metadata": {},
   "outputs": [
    {
     "data": {
      "text/plain": [
       "[{'item_code': 'Flour', 'warehouse': 'Fruit Basket 32 - CFC', 'qty': 5.0},\n",
       " {'item_code': 'Bayberry', 'warehouse': 'Fruit Basket 71 - CFC', 'qty': 10.0},\n",
       " {'item_code': 'Butter', 'warehouse': 'Fruit Basket 63 - CFC', 'qty': 2.5},\n",
       " {'item_code': 'Sugar', 'warehouse': 'Fruit Basket 38 - CFC', 'qty': 0.5}]"
      ]
     },
     "execution_count": 11,
     "metadata": {},
     "output_type": "execute_result"
    }
   ],
   "source": [
    "out"
   ]
  },
  {
   "cell_type": "code",
   "execution_count": 12,
   "metadata": {},
   "outputs": [
    {
     "data": {
      "text/plain": [
       "[{'Fruit Basket 63 - CFC': (15, 4)},\n",
       " {'Fruit Basket 38 - CFC': (9, 5)},\n",
       " {'Fruit Basket 32 - CFC': (7, 14)},\n",
       " {'Fruit Basket 71 - CFC': (18, 1)}]"
      ]
     },
     "execution_count": 12,
     "metadata": {},
     "output_type": "execute_result"
    }
   ],
   "source": [
    "# get waypoints\n",
    "item_whs = out\n",
    "unique_whs = list({item_wh[\"warehouse\"] for item_wh in item_whs})\n",
    "waypoints = []\n",
    "for wh in unique_whs:\n",
    "    loc = frappe.get_doc(\"Warehouse\", wh).as_dict()\n",
    "    waypoints.append({wh: (loc[\"accessible_path_x\"], loc[\"accessible_path_y\"])})\n",
    "waypoints"
   ]
  },
  {
   "cell_type": "code",
   "execution_count": 5,
   "metadata": {},
   "outputs": [],
   "source": [
    "frappe.rename_doc(\n",
    "    \"Custom Field\",\n",
    "    \"Warehouse Plan-custom_pickup_point_x\",\n",
    "    \"Warehouse Plan-pickup_point_x\",\n",
    "    force=True,\n",
    ")\n",
    "frappe.rename_doc(\n",
    "    \"Custom Field\",\n",
    "    \"Warehouse Plan-custom_pickup_point_y\",\n",
    "    \"Warehouse Plan-pickup_point_y\",\n",
    "    force=True,\n",
    ")\n",
    "frappe.db.commit()"
   ]
  },
  {
   "cell_type": "code",
   "execution_count": 4,
   "metadata": {},
   "outputs": [
    {
     "data": {
      "text/plain": [
       "{'name': 'All Warehouses - CFC',\n",
       " 'owner': 'Administrator',\n",
       " 'creation': datetime.datetime(2025, 3, 12, 7, 18, 3, 47543),\n",
       " 'modified': datetime.datetime(2025, 3, 13, 8, 58, 9, 442562),\n",
       " 'modified_by': 'Administrator',\n",
       " 'docstatus': 0,\n",
       " 'idx': 0,\n",
       " 'horizontal': 24.0,\n",
       " 'vertical': 16.0,\n",
       " 'uom': 'Foot',\n",
       " 'offset': '0.6,1.6,1.4,0.4',\n",
       " 'company': 'Chelsea Fruit Co',\n",
       " 'group_warehouse': 'All Warehouses - CFC',\n",
       " 'floor_plan': '/files/warehouse_plan.png',\n",
       " 'custom_pickup_point_x': 0,\n",
       " 'custom_pickup_point_y': 0,\n",
       " 'matrix': '[[1,0,0,0,0,0,0,0,0,0,0,0,0,0,0,0,0,0,1,1,1,1,1,1],[1,1,1,1,1,1,1,1,1,1,1,1,1,1,1,1,1,1,1,1,1,1,1,1],[1,0,0,1,0,0,1,0,0,1,0,0,1,0,0,1,0,0,1,1,1,1,1,1],[1,0,0,1,0,0,1,0,0,1,0,0,1,0,0,1,0,0,1,1,1,1,1,1],[1,1,1,1,0,0,1,0,0,1,0,0,1,0,0,1,0,0,1,1,1,1,1,1],[1,0,0,1,0,0,1,0,0,1,0,0,1,0,0,1,0,0,1,1,1,1,1,1],[1,0,0,1,0,0,1,0,0,1,0,0,1,0,0,1,0,0,1,1,1,1,1,1],[1,1,1,1,1,1,1,1,1,1,1,1,1,1,1,1,1,1,1,1,1,1,1,1],[1,1,1,1,1,1,1,1,1,1,1,1,1,1,1,1,1,1,1,1,1,1,1,1],[0,1,0,0,0,0,0,0,0,1,0,0,0,0,0,0,0,1,0,0,0,0,0,0],[0,1,0,0,0,0,0,0,0,1,0,0,0,0,0,0,0,1,0,0,0,0,0,0],[0,1,1,1,1,1,1,1,0,1,1,1,1,1,1,1,0,1,1,1,1,1,1,1],[0,1,0,0,0,0,0,0,0,1,0,0,0,0,0,0,0,1,0,0,0,0,0,0],[0,1,0,0,0,0,0,0,0,1,0,0,0,0,0,0,0,1,0,0,0,0,0,0],[0,1,1,1,1,1,1,1,0,1,1,1,1,1,1,1,0,1,1,1,1,1,1,1],[0,0,0,0,0,0,0,0,0,0,0,0,0,0,0,0,0,0,0,0,0,0,0,0]]',\n",
       " 'doctype': 'Warehouse Plan'}"
      ]
     },
     "execution_count": 4,
     "metadata": {},
     "output_type": "execute_result"
    }
   ],
   "source": [
    "frappe.get_doc(\"Warehouse Plan\", \"All Warehouses - CFC\").as_dict()"
   ]
  },
  {
   "cell_type": "code",
   "execution_count": 4,
   "metadata": {},
   "outputs": [
    {
     "data": {
      "text/plain": [
       "{'name': 'All Warehouses - CFC',\n",
       " 'owner': 'Administrator',\n",
       " 'creation': datetime.datetime(2025, 3, 12, 7, 18, 3, 47543),\n",
       " 'modified': datetime.datetime(2025, 3, 13, 8, 58, 9, 442562),\n",
       " 'modified_by': 'Administrator',\n",
       " 'docstatus': 0,\n",
       " 'idx': 0,\n",
       " 'horizontal': 24.0,\n",
       " 'vertical': 16.0,\n",
       " 'uom': 'Foot',\n",
       " 'offset': '0.6,1.6,1.4,0.4',\n",
       " 'company': 'Chelsea Fruit Co',\n",
       " 'group_warehouse': 'All Warehouses - CFC',\n",
       " 'floor_plan': '/files/warehouse_plan.png',\n",
       " 'custom_pickup_point_x': 0,\n",
       " 'custom_pickup_point_y': 0,\n",
       " 'matrix': '[[1,0,0,0,0,0,0,0,0,0,0,0,0,0,0,0,0,0,1,1,1,1,1,1],[1,1,1,1,1,1,1,1,1,1,1,1,1,1,1,1,1,1,1,1,1,1,1,1],[1,0,0,1,0,0,1,0,0,1,0,0,1,0,0,1,0,0,1,1,1,1,1,1],[1,0,0,1,0,0,1,0,0,1,0,0,1,0,0,1,0,0,1,1,1,1,1,1],[1,1,1,1,0,0,1,0,0,1,0,0,1,0,0,1,0,0,1,1,1,1,1,1],[1,0,0,1,0,0,1,0,0,1,0,0,1,0,0,1,0,0,1,1,1,1,1,1],[1,0,0,1,0,0,1,0,0,1,0,0,1,0,0,1,0,0,1,1,1,1,1,1],[1,1,1,1,1,1,1,1,1,1,1,1,1,1,1,1,1,1,1,1,1,1,1,1],[1,1,1,1,1,1,1,1,1,1,1,1,1,1,1,1,1,1,1,1,1,1,1,1],[0,1,0,0,0,0,0,0,0,1,0,0,0,0,0,0,0,1,0,0,0,0,0,0],[0,1,0,0,0,0,0,0,0,1,0,0,0,0,0,0,0,1,0,0,0,0,0,0],[0,1,1,1,1,1,1,1,0,1,1,1,1,1,1,1,0,1,1,1,1,1,1,1],[0,1,0,0,0,0,0,0,0,1,0,0,0,0,0,0,0,1,0,0,0,0,0,0],[0,1,0,0,0,0,0,0,0,1,0,0,0,0,0,0,0,1,0,0,0,0,0,0],[0,1,1,1,1,1,1,1,0,1,1,1,1,1,1,1,0,1,1,1,1,1,1,1],[0,0,0,0,0,0,0,0,0,0,0,0,0,0,0,0,0,0,0,0,0,0,0,0]]',\n",
       " 'doctype': 'Warehouse Plan'}"
      ]
     },
     "execution_count": 4,
     "metadata": {},
     "output_type": "execute_result"
    }
   ],
   "source": [
    "frappe.get_doc(\"Warehouse Plan\", \"All Warehouses - CFC\").as_dict()"
   ]
  },
  {
   "cell_type": "code",
   "execution_count": 16,
   "metadata": {},
   "outputs": [
    {
     "ename": "KeyError",
     "evalue": "'pickup_point_x'",
     "output_type": "error",
     "traceback": [
      "\u001b[0;31m---------------------------------------------------------------------------\u001b[0m",
      "\u001b[0;31mKeyError\u001b[0m                                  Traceback (most recent call last)",
      "Cell \u001b[0;32mIn[16], line 2\u001b[0m\n\u001b[1;32m      1\u001b[0m root_wh \u001b[38;5;241m=\u001b[39m frappe\u001b[38;5;241m.\u001b[39mget_doc(\u001b[38;5;124m\"\u001b[39m\u001b[38;5;124mWarehouse Plan\u001b[39m\u001b[38;5;124m\"\u001b[39m, \u001b[38;5;124m\"\u001b[39m\u001b[38;5;124mAll Warehouses - CFC\u001b[39m\u001b[38;5;124m\"\u001b[39m)\u001b[38;5;241m.\u001b[39mas_dict()\n\u001b[0;32m----> 2\u001b[0m (\u001b[43mroot_wh\u001b[49m\u001b[43m[\u001b[49m\u001b[38;5;124;43m\"\u001b[39;49m\u001b[38;5;124;43mpickup_point_x\u001b[39;49m\u001b[38;5;124;43m\"\u001b[39;49m\u001b[43m]\u001b[49m, root_wh[\u001b[38;5;124m\"\u001b[39m\u001b[38;5;124mpickup_point_y\u001b[39m\u001b[38;5;124m\"\u001b[39m])\n",
      "\u001b[0;31mKeyError\u001b[0m: 'pickup_point_x'"
     ]
    }
   ],
   "source": [
    "root_wh = frappe.get_doc(\"Warehouse Plan\", \"All Warehouses - CFC\").as_dict()\n",
    "(root_wh[\"pickup_point_x\"], root_wh[\"pickup_point_y\"])"
   ]
  },
  {
   "cell_type": "code",
   "execution_count": null,
   "metadata": {},
   "outputs": [],
   "source": []
  },
  {
   "cell_type": "markdown",
   "metadata": {},
   "source": [
    "# Documentation"
   ]
  },
  {
   "cell_type": "code",
   "execution_count": 26,
   "metadata": {},
   "outputs": [],
   "source": [
    "def optimize_route_picklist_debug(item_whs: list, root_warehouse: str) -> list:\n",
    "    \"\"\"Optimize the pick-up route for a list of items.\n",
    "\n",
    "    This function takes a list of dictionaries, each representing an item along with its warehouse\n",
    "    location, and returns the list reordered based on an optimized pick-up sequence.\n",
    "\n",
    "    Expected format of `item_whs`:\n",
    "            [\n",
    "                    {\n",
    "                            'item_code': <str>,   # The code identifying the item.\n",
    "                            'warehouse': <str>    # The warehouse where the item is located.\n",
    "                    },\n",
    "                    ...\n",
    "            ]\n",
    "\n",
    "    Returns:\n",
    "            list: A reordered list of dictionaries, optimized for the pick-up route.\n",
    "    \"\"\"\n",
    "\n",
    "    # Grid\n",
    "    grid = np.array(\n",
    "        safe_json_loads(\n",
    "            frappe.get_doc(\"Warehouse Plan\", root_warehouse).as_dict()[\"matrix\"]\n",
    "        )\n",
    "    )\n",
    "\n",
    "    # Scale\n",
    "    imaginary_x = grid.shape[1]\n",
    "    real_x = frappe.get_doc(\"Warehouse Plan\", root_warehouse).as_dict()[\"horizontal\"]\n",
    "    scale = real_x / imaginary_x\n",
    "\n",
    "    # Create the TSP solver instance.\n",
    "    g = Grid_TSP(grid, scale=scale)\n",
    "\n",
    "    root_wh = frappe.get_doc(\"Warehouse Plan\", \"All Warehouses - CFC\").as_dict()\n",
    "    dropoff = [g.pos2node((root_wh[\"pickup_point_x\"], root_wh[\"pickup_point_y\"]))]\n",
    "\n",
    "    # Waypoints\n",
    "    unique_whs = list({item_wh[\"warehouse\"] for item_wh in item_whs})\n",
    "\n",
    "    # Build a mapping from warehouse to its coordinate and node.\n",
    "    warehouse_to_node = {}\n",
    "    for wh in unique_whs:\n",
    "        accessible_path = (\n",
    "            frappe.get_doc(\"Warehouse\", wh).as_dict()[\"accessible_path\"].split(\",\")\n",
    "        )\n",
    "        coordinate = (int(accessible_path[0]), int(accessible_path[1]))\n",
    "        warehouse_to_node[wh] = g.pos2node(coordinate)\n",
    "    node_to_warehouse = {node: wh for wh, node in warehouse_to_node.items()}\n",
    "\n",
    "    # For the TSP solver, create a list of nodes corresponding to each unique warehouse.\n",
    "    pickup_list = list(warehouse_to_node.values())\n",
    "\n",
    "    # Solve\n",
    "    pickup_order, *rest = g.tsp(dropoff, pickup_list, True)\n",
    "\n",
    "    # Map warehouse name to its order\n",
    "    warehouse_order_map = {}\n",
    "    for order_index, node in enumerate(pickup_order):\n",
    "        wh = node_to_warehouse[node]\n",
    "        warehouse_order_map[wh] = order_index\n",
    "\n",
    "    # Sort original item_whs\n",
    "    sorted_item_whs = sorted(\n",
    "        item_whs,\n",
    "        key=lambda item: (\n",
    "            warehouse_order_map[item[\"warehouse\"]],\n",
    "            item[\"item_code\"],\n",
    "            item[\"qty\"],\n",
    "        ),\n",
    "    )\n",
    "    return rest"
   ]
  },
  {
   "cell_type": "code",
   "execution_count": 35,
   "metadata": {},
   "outputs": [
    {
     "name": "stdout",
     "output_type": "stream",
     "text": [
      "Method: FIFO\n",
      "[{'item_code': 'Bayberry', 'qty': 17.0, 'warehouse': 'Fruit Storage 11 - CFC'},\n",
      " {'item_code': 'Lychee', 'qty': 3.0, 'warehouse': 'Fruit Storage 49 - CFC'},\n",
      " {'item_code': 'Kepel', 'qty': 12.0, 'warehouse': 'Fruit Storage 21 - CFC'},\n",
      " {'item_code': 'Bayberry', 'qty': 3.0, 'warehouse': 'Fruit Storage 14 - CFC'}]\n",
      "[[450, 451, 452, 453, 454, 455, 456, 457, 458, 459, 509, 559, 609, 659, 709, 759, 809, 810, 811, 812, 813, 763, 713, 663, 613, 563, 513, 463, 464, 465, 464, 514, 564, 614, 664, 714, 764, 814, 815, 816, 817, 818, 819, 820, 821, 822, 823, 824, 825, 826, 827, 828, 829, 830, 831, 832, 833, 834, 784, 734, 684, 634, 584, 534, 484, 434, 384, 334, 335, 334, 384, 434, 484, 534, 584, 634, 684, 734, 784, 834, 833, 832, 831, 830, 829, 828, 827, 826, 825, 824, 823, 822, 821, 820, 770, 720, 670, 620, 570, 520, 470, 420, 370, 320, 270, 220, 170, 120, 70, 71, 72, 71, 70, 69, 119, 120, 170, 220, 270, 320, 370, 420, 470, 520, 570, 620, 670, 720, 770, 820, 819, 818, 817, 816, 815, 814, 813, 812, 811, 810, 809, 808, 807, 806, 805, 804, 803, 802, 801, 800, 750, 700, 650, 600, 550, 500, 450], 156.0]\n"
     ]
    },
    {
     "data": {
      "image/png": "[encoded data removed]",
      "text/plain": [
       "<Figure size 640x480 with 1 Axes>"
      ]
     },
     "metadata": {},
     "output_type": "display_data"
    },
    {
     "name": "stdout",
     "output_type": "stream",
     "text": [
      "None\n",
      "Method: LIFO\n",
      "[{'item_code': 'Bayberry', 'qty': 20.0, 'warehouse': 'Fruit Storage 57 - CFC'},\n",
      " {'item_code': 'Kepel', 'qty': 12.0, 'warehouse': 'Fruit Storage 45 - CFC'},\n",
      " {'item_code': 'Lychee', 'qty': 3.0, 'warehouse': 'Fruit Storage 25 - CFC'}]\n",
      "[[450, 451, 452, 453, 454, 455, 456, 457, 458, 459, 509, 559, 609, 659, 709, 759, 809, 810, 811, 812, 813, 814, 815, 816, 817, 818, 819, 820, 821, 822, 823, 824, 825, 826, 827, 828, 829, 830, 831, 832, 833, 834, 835, 836, 837, 838, 788, 738, 688, 638, 588, 538, 539, 540, 541, 540, 539, 538, 588, 638, 688, 738, 788, 838, 837, 836, 835, 834, 784, 734, 733, 732, 682, 683, 684, 734, 784, 834, 833, 832, 831, 830, 829, 828, 827, 826, 825, 824, 823, 822, 821, 820, 770, 720, 670, 620, 570, 571, 572, 571, 570, 620, 670, 720, 770, 820, 819, 818, 817, 816, 815, 814, 813, 812, 811, 810, 809, 808, 807, 806, 805, 804, 803, 802, 801, 800, 750, 700, 650, 600, 550, 500, 450], 132.0]\n"
     ]
    },
    {
     "data": {
      "image/png": "[encoded data removed]",
      "text/plain": [
       "<Figure size 640x480 with 1 Axes>"
      ]
     },
     "metadata": {},
     "output_type": "display_data"
    },
    {
     "name": "stdout",
     "output_type": "stream",
     "text": [
      "None\n",
      "Method: Deplete maximum number of Bins\n",
      "[{'item_code': 'Bayberry', 'qty': 10.0, 'warehouse': 'Fruit Storage 34 - CFC'},\n",
      " {'item_code': 'Lychee', 'qty': 3.0, 'warehouse': 'Fruit Storage 25 - CFC'},\n",
      " {'item_code': 'Kepel', 'qty': 12.0, 'warehouse': 'Fruit Storage 21 - CFC'},\n",
      " {'item_code': 'Bayberry', 'qty': 10.0, 'warehouse': 'Fruit Storage 11 - CFC'}]\n",
      "[[450, 451, 452, 453, 454, 455, 456, 457, 458, 459, 509, 559, 609, 659, 709, 759, 809, 810, 811, 812, 813, 814, 815, 816, 817, 818, 819, 820, 821, 822, 823, 824, 825, 826, 827, 777, 727, 677, 627, 577, 527, 477, 427, 377, 327, 277, 227, 177, 127, 77, 78, 79, 78, 77, 127, 177, 227, 277, 327, 377, 427, 477, 527, 577, 627, 677, 727, 777, 827, 826, 825, 824, 823, 822, 821, 820, 770, 720, 670, 620, 570, 571, 572, 522, 472, 422, 372, 322, 272, 222, 172, 122, 72, 71, 70, 120, 170, 220, 270, 320, 370, 420, 470, 520, 570, 620, 670, 720, 770, 820, 819, 818, 817, 816, 815, 814, 764, 714, 664, 614, 564, 514, 464, 465, 464, 463, 513, 563, 613, 663, 713, 763, 813, 812, 811, 810, 809, 808, 807, 806, 805, 804, 803, 802, 801, 800, 750, 700, 650, 600, 550, 500, 450], 152.0]\n"
     ]
    },
    {
     "data": {
      "image/png": "[encoded data removed]",
      "text/plain": [
       "<Figure size 640x480 with 1 Axes>"
      ]
     },
     "metadata": {},
     "output_type": "display_data"
    },
    {
     "name": "stdout",
     "output_type": "stream",
     "text": [
      "None\n",
      "Method: Deplete minimum number of Bins\n",
      "[{'item_code': 'Bayberry', 'qty': 20.0, 'warehouse': 'Fruit Storage 57 - CFC'},\n",
      " {'item_code': 'Kepel', 'qty': 12.0, 'warehouse': 'Fruit Storage 45 - CFC'},\n",
      " {'item_code': 'Lychee', 'qty': 3.0, 'warehouse': 'Fruit Storage 49 - CFC'}]\n",
      "[[450, 451, 452, 453, 454, 455, 456, 457, 458, 459, 509, 559, 609, 659, 709, 759, 809, 810, 811, 812, 813, 814, 815, 816, 817, 818, 819, 820, 821, 822, 823, 824, 825, 826, 827, 828, 829, 830, 831, 832, 833, 834, 835, 836, 837, 838, 788, 738, 688, 638, 588, 538, 539, 540, 541, 540, 539, 538, 588, 638, 688, 738, 788, 838, 837, 836, 835, 834, 784, 734, 733, 732, 682, 632, 582, 532, 482, 432, 382, 332, 333, 334, 335, 334, 384, 434, 484, 534, 584, 634, 684, 734, 784, 834, 833, 832, 831, 830, 829, 828, 827, 826, 825, 824, 823, 822, 821, 820, 819, 818, 817, 816, 815, 814, 813, 812, 811, 810, 809, 808, 807, 806, 805, 804, 803, 802, 801, 800, 750, 700, 650, 600, 550, 500, 450], 134.0]\n"
     ]
    },
    {
     "data": {
      "image/png": "[encoded data removed]",
      "text/plain": [
       "<Figure size 640x480 with 1 Axes>"
      ]
     },
     "metadata": {},
     "output_type": "display_data"
    },
    {
     "name": "stdout",
     "output_type": "stream",
     "text": [
      "None\n"
     ]
    }
   ],
   "source": [
    "from inventory_tools.inventory_tools.overrides.pick_list import (\n",
    "    optimize_path,\n",
    "    optimize_route_picklist,\n",
    ")\n",
    "import frappe\n",
    "from frappe.utils import safe_json_loads\n",
    "from frappe.utils.data import nowdate\n",
    "import numpy as np\n",
    "from inventory_tools.inventory_tools.doctype.warehouse_plan.warehouse_plan import (\n",
    "    Grid_TSP,\n",
    ")\n",
    "from pprint import pprint\n",
    "\n",
    "methods = [\n",
    "    \"FIFO\",\n",
    "    \"LIFO\",\n",
    "    \"Deplete maximum number of Bins\",\n",
    "    \"Deplete minimum number of Bins\",\n",
    "]\n",
    "root_warehouse = \"All Warehouses - CFC\"\n",
    "grid = np.array(\n",
    "    safe_json_loads(\n",
    "        frappe.get_doc(\"Warehouse Plan\", root_warehouse).as_dict()[\"matrix\"]\n",
    "    )\n",
    ")\n",
    "for m in methods:\n",
    "    print(f\"Method: {m}\")\n",
    "    # out = optimize_path(pl, m)\n",
    "    optimized = optimize_path(\"STO-PICK-2025-00001\", m)\n",
    "    pprint(optimized)\n",
    "    out = optimize_route_picklist_debug(optimized, root_warehouse)\n",
    "    print(out)\n",
    "    print(Grid_TSP(grid)._plot(out[0]))"
   ]
  }
 ],
 "metadata": {
  "kernelspec": {
   "display_name": "env",
   "language": "python",
   "name": "python3"
  },
  "language_info": {
   "codemirror_mode": {
    "name": "ipython",
    "version": 3
   },
   "file_extension": ".py",
   "mimetype": "text/x-python",
   "name": "python",
   "nbconvert_exporter": "python",
   "pygments_lexer": "ipython3",
   "version": "3.10.12"
  }
 },
 "nbformat": 4,
 "nbformat_minor": 2
}
