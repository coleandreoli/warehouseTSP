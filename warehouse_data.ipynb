{
 "cells": [
  {
   "cell_type": "markdown",
   "metadata": {},
   "source": [
    "# Data for TSP Warehouse"
   ]
  },
  {
   "cell_type": "code",
   "execution_count": 164,
   "metadata": {},
   "outputs": [],
   "source": [
    "import pandas as pd\n",
    "import numpy as np\n",
    "import os\n",
    "#from ipycanvas import Canvas, Path2D\n"
   ]
  },
  {
   "cell_type": "code",
   "execution_count": 165,
   "metadata": {},
   "outputs": [
    {
     "data": {
      "text/html": [
       "<div>\n",
       "<style scoped>\n",
       "    .dataframe tbody tr th:only-of-type {\n",
       "        vertical-align: middle;\n",
       "    }\n",
       "\n",
       "    .dataframe tbody tr th {\n",
       "        vertical-align: top;\n",
       "    }\n",
       "\n",
       "    .dataframe thead th {\n",
       "        text-align: right;\n",
       "    }\n",
       "</style>\n",
       "<table border=\"1\" class=\"dataframe\">\n",
       "  <thead>\n",
       "    <tr style=\"text-align: right;\">\n",
       "      <th></th>\n",
       "      <th>Name</th>\n",
       "      <th>Category</th>\n",
       "    </tr>\n",
       "  </thead>\n",
       "  <tbody>\n",
       "    <tr>\n",
       "      <th>0</th>\n",
       "      <td>Abiu</td>\n",
       "      <td>Fruit</td>\n",
       "    </tr>\n",
       "    <tr>\n",
       "      <th>1</th>\n",
       "      <td>Açaí</td>\n",
       "      <td>Fruit</td>\n",
       "    </tr>\n",
       "    <tr>\n",
       "      <th>2</th>\n",
       "      <td>Acerola</td>\n",
       "      <td>Fruit</td>\n",
       "    </tr>\n",
       "    <tr>\n",
       "      <th>3</th>\n",
       "      <td>Akebi</td>\n",
       "      <td>Fruit</td>\n",
       "    </tr>\n",
       "    <tr>\n",
       "      <th>4</th>\n",
       "      <td>Ackee</td>\n",
       "      <td>Fruit</td>\n",
       "    </tr>\n",
       "    <tr>\n",
       "      <th>...</th>\n",
       "      <td>...</td>\n",
       "      <td>...</td>\n",
       "    </tr>\n",
       "    <tr>\n",
       "      <th>153</th>\n",
       "      <td>Pea</td>\n",
       "      <td>Fruit</td>\n",
       "    </tr>\n",
       "    <tr>\n",
       "      <th>154</th>\n",
       "      <td>Pumpkin</td>\n",
       "      <td>Fruit</td>\n",
       "    </tr>\n",
       "    <tr>\n",
       "      <th>155</th>\n",
       "      <td>Squash</td>\n",
       "      <td>Fruit</td>\n",
       "    </tr>\n",
       "    <tr>\n",
       "      <th>156</th>\n",
       "      <td>Tomato</td>\n",
       "      <td>Fruit</td>\n",
       "    </tr>\n",
       "    <tr>\n",
       "      <th>157</th>\n",
       "      <td>Zucchini</td>\n",
       "      <td>Fruit</td>\n",
       "    </tr>\n",
       "  </tbody>\n",
       "</table>\n",
       "<p>158 rows × 2 columns</p>\n",
       "</div>"
      ],
      "text/plain": [
       "         Name Category\n",
       "0        Abiu    Fruit\n",
       "1        Açaí    Fruit\n",
       "2     Acerola    Fruit\n",
       "3       Akebi    Fruit\n",
       "4       Ackee    Fruit\n",
       "..        ...      ...\n",
       "153       Pea    Fruit\n",
       "154   Pumpkin    Fruit\n",
       "155    Squash    Fruit\n",
       "156    Tomato    Fruit\n",
       "157  Zucchini    Fruit\n",
       "\n",
       "[158 rows x 2 columns]"
      ]
     },
     "execution_count": 165,
     "metadata": {},
     "output_type": "execute_result"
    }
   ],
   "source": [
    "df = pd.read_csv('fruits.csv')\n",
    "df"
   ]
  },
  {
   "cell_type": "markdown",
   "metadata": {},
   "source": [
    "# Generate Graph"
   ]
  },
  {
   "cell_type": "code",
   "execution_count": 254,
   "metadata": {},
   "outputs": [
    {
     "data": {
      "image/png": "[encoded data removed]",
      "text/plain": [
       "<Figure size 800x800 with 1 Axes>"
      ]
     },
     "metadata": {},
     "output_type": "display_data"
    }
   ],
   "source": [
    "import networkx as nx\n",
    "import matplotlib.pyplot as plt\n",
    "\n",
    "# Create a directed graph\n",
    "G = nx.Graph()\n",
    "\n",
    "# Define grid dimensions\n",
    "n = 5  # Number of rows\n",
    "m = 4  # Number of columns\n",
    "n_bins = n * m\n",
    "\n",
    "# Add edges within rows\n",
    "for i in range(1, n):\n",
    "    G.add_edge(i, i + 1, weight=5)\n",
    "\n",
    "for i in range(n * m - n + 1, n * m):\n",
    "    G.add_edge(i, i + 1, weight=5)\n",
    "\n",
    "# Add edges between rows\n",
    "for i in range(1, n * m - n + 1):\n",
    "    G.add_edge(i, i + n, weight=2)\n",
    "    \n",
    "# Visualize the graph\n",
    "pos = {}\n",
    "for row in range(m):  # m is the number of rows\n",
    "    for col in range(n):  # n is the number of columns\n",
    "        node = row * n + col + 1\n",
    "        pos[node] = (col, -row)  # Arrange nodes in a square grid\n",
    "\n",
    "# Highlight the shortest path in the visualization\n",
    "plt.figure(figsize=(8, 8))\n",
    "nx.draw(\n",
    "    G,\n",
    "    pos,\n",
    "    with_labels=True,\n",
    "    node_size=500,\n",
    "    node_color=\"lightblue\",\n",
    "    edge_color=\"gray\",\n",
    ")\n",
    "\n",
    "nx.draw_networkx_edge_labels(\n",
    "    G,\n",
    "    pos,\n",
    "    edge_labels={(u, v): f\"{d['weight']}\" for u, v, d in G.edges(data=True)},\n",
    "    font_size=10,\n",
    "    label_pos=0.5,\n",
    ")\n",
    "plt.axis(\"off\")\n",
    "plt.show()"
   ]
  },
  {
   "cell_type": "markdown",
   "metadata": {},
   "source": [
    "# Assign fruit to bins"
   ]
  },
  {
   "cell_type": "code",
   "execution_count": 167,
   "metadata": {},
   "outputs": [],
   "source": [
    "# new column with random integer\n",
    "df['bin'] = np.random.randint(1, n_bins, df.shape[0])"
   ]
  },
  {
   "cell_type": "code",
   "execution_count": 168,
   "metadata": {},
   "outputs": [
    {
     "name": "stdout",
     "output_type": "stream",
     "text": [
      "Loaded 100 work orders\n"
     ]
    },
    {
     "data": {
      "text/html": [
       "<div>\n",
       "<style scoped>\n",
       "    .dataframe tbody tr th:only-of-type {\n",
       "        vertical-align: middle;\n",
       "    }\n",
       "\n",
       "    .dataframe tbody tr th {\n",
       "        vertical-align: top;\n",
       "    }\n",
       "\n",
       "    .dataframe thead th {\n",
       "        text-align: right;\n",
       "    }\n",
       "</style>\n",
       "<table border=\"1\" class=\"dataframe\">\n",
       "  <thead>\n",
       "    <tr style=\"text-align: right;\">\n",
       "      <th></th>\n",
       "      <th>Name</th>\n",
       "      <th>Category</th>\n",
       "      <th>bin</th>\n",
       "    </tr>\n",
       "  </thead>\n",
       "  <tbody>\n",
       "    <tr>\n",
       "      <th>0</th>\n",
       "      <td>Japanese plum</td>\n",
       "      <td>Fruit</td>\n",
       "      <td>19</td>\n",
       "    </tr>\n",
       "    <tr>\n",
       "      <th>1</th>\n",
       "      <td>Mandarine</td>\n",
       "      <td>Fruit</td>\n",
       "      <td>5</td>\n",
       "    </tr>\n",
       "    <tr>\n",
       "      <th>2</th>\n",
       "      <td>Cherimoya (Custard Apple)</td>\n",
       "      <td>Fruit</td>\n",
       "      <td>16</td>\n",
       "    </tr>\n",
       "    <tr>\n",
       "      <th>3</th>\n",
       "      <td>Grape</td>\n",
       "      <td>Fruit</td>\n",
       "      <td>10</td>\n",
       "    </tr>\n",
       "    <tr>\n",
       "      <th>4</th>\n",
       "      <td>Cucumber</td>\n",
       "      <td>Fruit</td>\n",
       "      <td>5</td>\n",
       "    </tr>\n",
       "  </tbody>\n",
       "</table>\n",
       "</div>"
      ],
      "text/plain": [
       "                        Name Category  bin\n",
       "0              Japanese plum    Fruit   19\n",
       "1                  Mandarine    Fruit    5\n",
       "2  Cherimoya (Custard Apple)    Fruit   16\n",
       "3                      Grape    Fruit   10\n",
       "4                   Cucumber    Fruit    5"
      ]
     },
     "execution_count": 168,
     "metadata": {},
     "output_type": "execute_result"
    }
   ],
   "source": [
    "# Generate work orders\n",
    "wos = 100\n",
    "\n",
    "# Check if wos file is already generated\n",
    "if f'wos_{wos}.parquet' in os.listdir():\n",
    "    df_wo = pd.read_parquet(f'wos_{wos}.parquet')\n",
    "    print(f'Loaded {df_wo.shape[0]} work orders')\n",
    "else:\n",
    "    print(f'Generating {wos} work orders')\n",
    "    df_wo = pd.DataFrame(columns=df.columns)\n",
    "    for _ in range(wos):\n",
    "        random_row = df.sample()\n",
    "        df_wo = pd.concat([df_wo, random_row], ignore_index=True)\n",
    "    df_wo.to_parquet(f'wos_{wos}.parquet')\n",
    "df_wo.head()"
   ]
  },
  {
   "cell_type": "code",
   "execution_count": 169,
   "metadata": {},
   "outputs": [],
   "source": [
    "batch_size = 10\n",
    "fetch_list = []\n",
    "for i in range(int(np.floor(df_wo.count().Category) / batch_size)):\n",
    "    fetch_list.append(df_wo.loc[i*10:i*10 + 10])"
   ]
  },
  {
   "cell_type": "code",
   "execution_count": 170,
   "metadata": {},
   "outputs": [
    {
     "data": {
      "text/html": [
       "<div>\n",
       "<style scoped>\n",
       "    .dataframe tbody tr th:only-of-type {\n",
       "        vertical-align: middle;\n",
       "    }\n",
       "\n",
       "    .dataframe tbody tr th {\n",
       "        vertical-align: top;\n",
       "    }\n",
       "\n",
       "    .dataframe thead th {\n",
       "        text-align: right;\n",
       "    }\n",
       "</style>\n",
       "<table border=\"1\" class=\"dataframe\">\n",
       "  <thead>\n",
       "    <tr style=\"text-align: right;\">\n",
       "      <th></th>\n",
       "      <th>pickup_list</th>\n",
       "      <th>tsp_route</th>\n",
       "      <th>tsp_distance</th>\n",
       "      <th>pickup_order</th>\n",
       "    </tr>\n",
       "  </thead>\n",
       "  <tbody>\n",
       "    <tr>\n",
       "      <th>0</th>\n",
       "      <td>[1, 19, 5, 16, 10, 5, 3, 10, 6, 12, 2, 19]</td>\n",
       "      <td>[1, 2, 7, 12, 7, 2, 3, 4, 5, 10, 15, 20, 19, 1...</td>\n",
       "      <td>60</td>\n",
       "      <td>[2, 12, 3, 5, 10, 19, 16, 6]</td>\n",
       "    </tr>\n",
       "    <tr>\n",
       "      <th>1</th>\n",
       "      <td>[1, 19, 4, 5, 15, 6, 7, 2, 15, 4, 1, 18]</td>\n",
       "      <td>[1, 2, 7, 12, 17, 18, 19, 14, 9, 4, 5, 10, 15,...</td>\n",
       "      <td>64</td>\n",
       "      <td>[2, 7, 18, 19, 4, 5, 15, 6]</td>\n",
       "    </tr>\n",
       "    <tr>\n",
       "      <th>2</th>\n",
       "      <td>[1, 18, 7, 5, 14, 8, 2, 6, 7, 5, 2, 3]</td>\n",
       "      <td>[1, 2, 3, 8, 13, 18, 19, 14, 9, 4, 5, 4, 3, 2,...</td>\n",
       "      <td>60</td>\n",
       "      <td>[2, 3, 8, 18, 14, 5, 7, 6]</td>\n",
       "    </tr>\n",
       "    <tr>\n",
       "      <th>3</th>\n",
       "      <td>[1, 3, 16, 15, 5, 19, 10, 2, 18, 6, 7, 6]</td>\n",
       "      <td>[1, 2, 3, 4, 5, 10, 15, 20, 19, 18, 13, 8, 3, ...</td>\n",
       "      <td>64</td>\n",
       "      <td>[2, 3, 5, 10, 15, 19, 18, 7, 16, 6]</td>\n",
       "    </tr>\n",
       "    <tr>\n",
       "      <th>4</th>\n",
       "      <td>[1, 6, 8, 10, 6, 5, 14, 2, 6, 6, 5, 2]</td>\n",
       "      <td>[1, 2, 3, 8, 13, 18, 19, 14, 9, 4, 5, 10, 5, 4...</td>\n",
       "      <td>60</td>\n",
       "      <td>[2, 8, 14, 5, 10, 6]</td>\n",
       "    </tr>\n",
       "  </tbody>\n",
       "</table>\n",
       "</div>"
      ],
      "text/plain": [
       "                                  pickup_list  \\\n",
       "0  [1, 19, 5, 16, 10, 5, 3, 10, 6, 12, 2, 19]   \n",
       "1    [1, 19, 4, 5, 15, 6, 7, 2, 15, 4, 1, 18]   \n",
       "2      [1, 18, 7, 5, 14, 8, 2, 6, 7, 5, 2, 3]   \n",
       "3   [1, 3, 16, 15, 5, 19, 10, 2, 18, 6, 7, 6]   \n",
       "4      [1, 6, 8, 10, 6, 5, 14, 2, 6, 6, 5, 2]   \n",
       "\n",
       "                                           tsp_route  tsp_distance  \\\n",
       "0  [1, 2, 7, 12, 7, 2, 3, 4, 5, 10, 15, 20, 19, 1...            60   \n",
       "1  [1, 2, 7, 12, 17, 18, 19, 14, 9, 4, 5, 10, 15,...            64   \n",
       "2  [1, 2, 3, 8, 13, 18, 19, 14, 9, 4, 5, 4, 3, 2,...            60   \n",
       "3  [1, 2, 3, 4, 5, 10, 15, 20, 19, 18, 13, 8, 3, ...            64   \n",
       "4  [1, 2, 3, 8, 13, 18, 19, 14, 9, 4, 5, 10, 5, 4...            60   \n",
       "\n",
       "                          pickup_order  \n",
       "0         [2, 12, 3, 5, 10, 19, 16, 6]  \n",
       "1          [2, 7, 18, 19, 4, 5, 15, 6]  \n",
       "2           [2, 3, 8, 18, 14, 5, 7, 6]  \n",
       "3  [2, 3, 5, 10, 15, 19, 18, 7, 16, 6]  \n",
       "4                 [2, 8, 14, 5, 10, 6]  "
      ]
     },
     "execution_count": 170,
     "metadata": {},
     "output_type": "execute_result"
    }
   ],
   "source": [
    "# Traveling Salesman applied to a pickup list\n",
    "salesman =  []\n",
    "pickup_point = [1]\n",
    "for i in fetch_list:\n",
    "    pickup_list = pickup_point + i.bin.values.tolist()\n",
    "    tsp = nx.approximation.traveling_salesman_problem\n",
    "    tsp_route  = tsp(G, nodes=pickup_list)\n",
    "    tsp_distance = sum(G[u][v][\"weight\"] for u, v in zip(tsp_route, tsp_route[1:]))\n",
    "    seen = set()\n",
    "    order = [node for node in tsp_route if node in pickup_list and not (node in seen or seen.add(node))][1:]\n",
    "\n",
    "    salesman.append({'pickup_list': pickup_list, 'tsp_route': tsp_route, 'tsp_distance': tsp_distance, 'pickup_order': order})\n",
    "# Convert salesman list to dataframe\n",
    "df_salesman = pd.DataFrame(salesman)\n",
    "df_salesman.head()"
   ]
  },
  {
   "cell_type": "code",
   "execution_count": 171,
   "metadata": {},
   "outputs": [
    {
     "name": "stdout",
     "output_type": "stream",
     "text": [
      "Total number of work orders: 100\n",
      "Total number of batches: 10\n",
      "Average Distance: 60.6\n"
     ]
    }
   ],
   "source": [
    "# Stats\n",
    "print(f\"Total number of work orders: {df_wo.count().Category}\")\n",
    "print(f\"Total number of batches: {len(fetch_list)}\")\n",
    "print(f\"Average Distance: {df_salesman.tsp_distance.mean()}\")\n"
   ]
  },
  {
   "cell_type": "markdown",
   "metadata": {},
   "source": [
    "# Generating a more complex warehouse"
   ]
  },
  {
   "cell_type": "code",
   "execution_count": 172,
   "metadata": {},
   "outputs": [],
   "source": [
    "import itertools\n",
    "\n",
    "def ccw(A, B, C):\n",
    "    \"\"\"Check if three points are counter-clockwise\"\"\"\n",
    "    return (C[1] - A[1]) * (B[0] - A[0]) > (B[1] - A[1]) * (C[0] - A[0])\n",
    "\n",
    "def segments_intersect(seg1, seg2):\n",
    "    \"\"\"Check if two segments intersect\"\"\"\n",
    "    p1, p2 = seg1['coord']\n",
    "    q1, q2 = seg2['coord']\n",
    "    return ccw(p1, q1, q2) != ccw(p2, q1, q2) and ccw(p1, p2, q1) != ccw(p1, p2, q2)\n",
    "\n",
    "def intersection_point(seg1, seg2):\n",
    "    \"\"\"Find intersection point of two segments, assuming they intersect\"\"\"\n",
    "    p1, p2 = seg1['coord']\n",
    "    q1, q2 = seg2['coord']\n",
    "\n",
    "    A1, B1, C1 = p2[1] - p1[1], p1[0] - p2[0], (p2[1] - p1[1]) * p1[0] + (p1[0] - p2[0]) * p1[1]\n",
    "    A2, B2, C2 = q2[1] - q1[1], q1[0] - q2[0], (q2[1] - q1[1]) * q1[0] + (q1[0] - q2[0]) * q1[1]\n",
    "\n",
    "    det = A1 * B2 - A2 * B1\n",
    "    if det == 0:  # Parallel lines\n",
    "        return None\n",
    "    \n",
    "    x = (B2 * C1 - B1 * C2) / det\n",
    "    y = (A1 * C2 - A2 * C1) / det\n",
    "\n",
    "    # Check if within segment bounds\n",
    "    if min(p1[0], p2[0]) <= x <= max(p1[0], p2[0]) and min(p1[1], p2[1]) <= y <= max(p1[1], p2[1]) and \\\n",
    "       min(q1[0], q2[0]) <= x <= max(q1[0], q2[0]) and min(q1[1], q2[1]) <= y <= max(q1[1], q2[1]):\n",
    "        return (x, y)\n",
    "    \n",
    "    return None\n",
    "\n",
    "def find_intersections(vecs):\n",
    "    \"\"\"Find all intersection points in a list of 2D line segments\"\"\"\n",
    "    intersections = []\n",
    "    for seg1, seg2 in itertools.combinations(vecs, 2):\n",
    "        if segments_intersect(seg1, seg2):\n",
    "            point = intersection_point(seg1, seg2)\n",
    "            if point:\n",
    "                intersections.append({'point': point, 'segment1': seg1['id'], 'segment2': seg2['id']})\n",
    "    return intersections\n",
    "\n",
    "\n"
   ]
  },
  {
   "cell_type": "code",
   "execution_count": 173,
   "metadata": {},
   "outputs": [
    {
     "name": "stdout",
     "output_type": "stream",
     "text": [
      "Intersection at (5.0, 0.0) between segment A and segment B\n"
     ]
    }
   ],
   "source": [
    "# Define vectors\n",
    "vecs = []\n",
    "vecs.append({'id': 'A', 'coord': ((0,0), (10,0))})  # Horizontal line\n",
    "vecs.append({'id': 'B', 'coord': ((5,0), (5,5))})   # Vertical line\n",
    "\n",
    "# Find intersections\n",
    "intersections = find_intersections(vecs)\n",
    "\n",
    "# Display results\n",
    "for inter in intersections:\n",
    "    print(f\"Intersection at {inter['point']} between segment {inter['segment1']} and segment {inter['segment2']}\")\n",
    "    "
   ]
  },
  {
   "cell_type": "code",
   "execution_count": null,
   "metadata": {},
   "outputs": [
    {
     "data": {
      "text/plain": [
       "[(5, 1), (5, 2), (5, 3), (5, 4), (5, 5)]"
      ]
     },
     "execution_count": 199,
     "metadata": {},
     "output_type": "execute_result"
    },
    {
     "data": {
      "image/png": "[encoded data removed]",
      "text/plain": [
       "<Figure size 640x480 with 1 Axes>"
      ]
     },
     "metadata": {},
     "output_type": "display_data"
    }
   ],
   "source": [
    "G = nx.Graph([(1, 2), (2, 3), (3, 4)])\n",
    "# Grow graph by one new node, adding edges to all existing nodes.\n",
    "# wrong way - will raise RuntimeError\n",
    "# G.add_edges_from(((5, n) for n in G.nodes))\n",
    "# correct way - note that there will be no self-edge for node 5\n",
    "G.add_edges_from(list((5, n) for n in G.nodes))\n",
    "pos = nx.planar_layout(G)\n",
    "nx.draw(G, pos=pos) \n",
    "list((5, n) for n in G.nodes)"
   ]
  },
  {
   "cell_type": "code",
   "execution_count": 251,
   "metadata": {},
   "outputs": [
    {
     "data": {
      "image/png": "[encoded data removed]",
      "text/plain": [
       "<Figure size 640x480 with 1 Axes>"
      ]
     },
     "metadata": {},
     "output_type": "display_data"
    }
   ],
   "source": [
    "import numpy as np\n",
    "import networkx as nx\n",
    "import matplotlib.pyplot as plt\n",
    "\n",
    "# Define the 2D grid environment\n",
    "grid = np.array([\n",
    "    [0, 0, 0, 0, 0],\n",
    "    [0, 1, 1, 1, 0],\n",
    "    [0, 1, 0, 1, 0],\n",
    "    [0, 1, 0, 1, 0],\n",
    "    [0, 0, 0, 0, 0]\n",
    "])\n",
    "\n",
    "# Define waypoints as (x, y) coordinates\n",
    "waypoints = {\n",
    "    'A': (0, 0),\n",
    "    'B': (0, 4),\n",
    "    'C': (4, 0),\n",
    "    'D': (4, 4),\n",
    "    'E': (2, 2)\n",
    "}\n",
    "\n",
    "# Initialize an undirected graph\n",
    "G = nx.Graph()\n",
    "\n",
    "# Add nodes for each waypoint\n",
    "for key, coord in waypoints.items():\n",
    "    G.add_node(key, pos=coord)\n",
    "\n",
    "# Function to check if the path between two points is clear\n",
    "def is_path_clear(start, end, grid):\n",
    "    x1, y1 = start\n",
    "    x2, y2 = end\n",
    "    \n",
    "    # Bresenham's line algorithm\n",
    "    dx = abs(x2 - x1)\n",
    "    dy = abs(y2 - y1)\n",
    "    sx = 1 if x1 < x2 else -1\n",
    "    sy = 1 if y1 < y2 else -1\n",
    "    err = dx - dy\n",
    "    \n",
    "    while (x1, y1) != (x2, y2):\n",
    "        if grid[x1, y1] == 1:\n",
    "            return False\n",
    "        e2 = err * 2\n",
    "        if e2 > -dy:\n",
    "            err -= dy\n",
    "            x1 += sx\n",
    "        if e2 < dx:\n",
    "            err += dx\n",
    "            y1 += sy\n",
    "    return grid[x2, y2] == 0\n",
    "\n",
    "# Add edges between waypoints if the path is clear\n",
    "for wp1 in waypoints:\n",
    "    for wp2 in waypoints:\n",
    "        if wp1 != wp2:\n",
    "            if is_path_clear(waypoints[wp1], waypoints[wp2], grid):\n",
    "                dist = np.linalg.norm(np.array(waypoints[wp1]) - np.array(waypoints[wp2]))\n",
    "                G.add_edge(wp1, wp2, weight=dist)\n",
    "\n",
    "# Ensure that 'E' is reachable by connecting it to more adjacent waypoints\n",
    "for neighbor in ['A', 'B', 'C', 'D']:\n",
    "    if is_path_clear(waypoints['E'], waypoints[neighbor], grid):\n",
    "        G.add_edge('E', neighbor, weight=np.linalg.norm(np.array(waypoints['E']) - np.array(waypoints[neighbor])))\n",
    "\n",
    "# Implement A* Algorithm\n",
    "def heuristic(a, b):\n",
    "    x1, y1 = G.nodes[a]['pos']\n",
    "    x2, y2 = G.nodes[b]['pos']\n",
    "    return np.linalg.norm(np.array([x1, y1]) - np.array([x2, y2]))\n",
    "\n",
    "# Find the shortest path from A to E\n",
    "path = nx.astar_path(G, 'A', 'D', heuristic=heuristic, weight='weight')\n",
    "\n",
    "# Plot the grid\n",
    "plt.imshow(grid, cmap='gray_r')\n",
    "plt.grid(True)\n",
    "\n",
    "# Plot waypoints\n",
    "for key, (x, y) in waypoints.items():\n",
    "    plt.plot(y, x, 'go')  # 'go' for green circles\n",
    "    plt.text(y, x, key, fontsize=12, ha='right')\n",
    "\n",
    "# Plot the path\n",
    "path_coords = [waypoints[wp] for wp in path]\n",
    "path_coords = np.array(path_coords)\n",
    "plt.plot(path_coords[:, 1], path_coords[:, 0], 'r-')  # 'r-' for red line\n",
    "\n",
    "plt.show()\n"
   ]
  },
  {
   "cell_type": "code",
   "execution_count": null,
   "metadata": {},
   "outputs": [],
   "source": []
  },
  {
   "cell_type": "code",
   "execution_count": null,
   "metadata": {},
   "outputs": [],
   "source": []
  }
 ],
 "metadata": {
  "kernelspec": {
   "display_name": "env",
   "language": "python",
   "name": "python3"
  },
  "language_info": {
   "codemirror_mode": {
    "name": "ipython",
    "version": 3
   },
   "file_extension": ".py",
   "mimetype": "text/x-python",
   "name": "python",
   "nbconvert_exporter": "python",
   "pygments_lexer": "ipython3",
   "version": "3.10.12"
  }
 },
 "nbformat": 4,
 "nbformat_minor": 2
}
