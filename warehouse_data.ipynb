{
 "cells": [
  {
   "cell_type": "markdown",
   "metadata": {},
   "source": [
    "# Data for TSP Warehouse"
   ]
  },
  {
   "cell_type": "code",
   "execution_count": 1,
   "metadata": {},
   "outputs": [],
   "source": [
    "import pandas as pd\n",
    "import numpy as np\n",
    "import os"
   ]
  },
  {
   "cell_type": "code",
   "execution_count": 2,
   "metadata": {},
   "outputs": [
    {
     "data": {
      "text/html": [
       "<div>\n",
       "<style scoped>\n",
       "    .dataframe tbody tr th:only-of-type {\n",
       "        vertical-align: middle;\n",
       "    }\n",
       "\n",
       "    .dataframe tbody tr th {\n",
       "        vertical-align: top;\n",
       "    }\n",
       "\n",
       "    .dataframe thead th {\n",
       "        text-align: right;\n",
       "    }\n",
       "</style>\n",
       "<table border=\"1\" class=\"dataframe\">\n",
       "  <thead>\n",
       "    <tr style=\"text-align: right;\">\n",
       "      <th></th>\n",
       "      <th>Name</th>\n",
       "      <th>Category</th>\n",
       "    </tr>\n",
       "  </thead>\n",
       "  <tbody>\n",
       "    <tr>\n",
       "      <th>0</th>\n",
       "      <td>Abiu</td>\n",
       "      <td>Fruit</td>\n",
       "    </tr>\n",
       "    <tr>\n",
       "      <th>1</th>\n",
       "      <td>Açaí</td>\n",
       "      <td>Fruit</td>\n",
       "    </tr>\n",
       "    <tr>\n",
       "      <th>2</th>\n",
       "      <td>Acerola</td>\n",
       "      <td>Fruit</td>\n",
       "    </tr>\n",
       "    <tr>\n",
       "      <th>3</th>\n",
       "      <td>Akebi</td>\n",
       "      <td>Fruit</td>\n",
       "    </tr>\n",
       "    <tr>\n",
       "      <th>4</th>\n",
       "      <td>Ackee</td>\n",
       "      <td>Fruit</td>\n",
       "    </tr>\n",
       "    <tr>\n",
       "      <th>...</th>\n",
       "      <td>...</td>\n",
       "      <td>...</td>\n",
       "    </tr>\n",
       "    <tr>\n",
       "      <th>153</th>\n",
       "      <td>Pea</td>\n",
       "      <td>Fruit</td>\n",
       "    </tr>\n",
       "    <tr>\n",
       "      <th>154</th>\n",
       "      <td>Pumpkin</td>\n",
       "      <td>Fruit</td>\n",
       "    </tr>\n",
       "    <tr>\n",
       "      <th>155</th>\n",
       "      <td>Squash</td>\n",
       "      <td>Fruit</td>\n",
       "    </tr>\n",
       "    <tr>\n",
       "      <th>156</th>\n",
       "      <td>Tomato</td>\n",
       "      <td>Fruit</td>\n",
       "    </tr>\n",
       "    <tr>\n",
       "      <th>157</th>\n",
       "      <td>Zucchini</td>\n",
       "      <td>Fruit</td>\n",
       "    </tr>\n",
       "  </tbody>\n",
       "</table>\n",
       "<p>158 rows × 2 columns</p>\n",
       "</div>"
      ],
      "text/plain": [
       "         Name Category\n",
       "0        Abiu    Fruit\n",
       "1        Açaí    Fruit\n",
       "2     Acerola    Fruit\n",
       "3       Akebi    Fruit\n",
       "4       Ackee    Fruit\n",
       "..        ...      ...\n",
       "153       Pea    Fruit\n",
       "154   Pumpkin    Fruit\n",
       "155    Squash    Fruit\n",
       "156    Tomato    Fruit\n",
       "157  Zucchini    Fruit\n",
       "\n",
       "[158 rows x 2 columns]"
      ]
     },
     "execution_count": 2,
     "metadata": {},
     "output_type": "execute_result"
    }
   ],
   "source": [
    "df = pd.read_csv(\"fruits.csv\")\n",
    "df"
   ]
  },
  {
   "cell_type": "markdown",
   "metadata": {},
   "source": [
    "# Generate Graph"
   ]
  },
  {
   "cell_type": "code",
   "execution_count": 3,
   "metadata": {},
   "outputs": [
    {
     "data": {
      "image/png": "[encoded data removed]",
      "text/plain": [
       "<Figure size 800x800 with 1 Axes>"
      ]
     },
     "metadata": {},
     "output_type": "display_data"
    }
   ],
   "source": [
    "import networkx as nx\n",
    "import matplotlib.pyplot as plt\n",
    "\n",
    "# Create a directed graph\n",
    "G = nx.Graph()\n",
    "\n",
    "# Define grid dimensions\n",
    "n = 5  # Number of rows\n",
    "m = 4  # Number of columns\n",
    "n_bins = n * m\n",
    "\n",
    "# Add edges within rows\n",
    "for i in range(1, n):\n",
    "    G.add_edge(i, i + 1, weight=5)\n",
    "\n",
    "for i in range(n * m - n + 1, n * m):\n",
    "    G.add_edge(i, i + 1, weight=5)\n",
    "\n",
    "# Add edges between rows\n",
    "for i in range(1, n * m - n + 1):\n",
    "    G.add_edge(i, i + n, weight=2)\n",
    "\n",
    "# Visualize the graph\n",
    "pos = {}\n",
    "for row in range(m):  # m is the number of rows\n",
    "    for col in range(n):  # n is the number of columns\n",
    "        node = row * n + col + 1\n",
    "        pos[node] = (col, -row)  # Arrange nodes in a square grid\n",
    "\n",
    "# Highlight the shortest path in the visualization\n",
    "plt.figure(figsize=(8, 8))\n",
    "nx.draw(\n",
    "    G,\n",
    "    pos,\n",
    "    with_labels=True,\n",
    "    node_size=500,\n",
    "    node_color=\"lightblue\",\n",
    "    edge_color=\"gray\",\n",
    ")\n",
    "\n",
    "nx.draw_networkx_edge_labels(\n",
    "    G,\n",
    "    pos,\n",
    "    edge_labels={(u, v): f\"{d['weight']}\" for u, v, d in G.edges(data=True)},\n",
    "    font_size=10,\n",
    "    label_pos=0.5,\n",
    ")\n",
    "plt.axis(\"off\")\n",
    "plt.show()"
   ]
  },
  {
   "cell_type": "markdown",
   "metadata": {},
   "source": [
    "# Assign fruit to bins"
   ]
  },
  {
   "cell_type": "code",
   "execution_count": 4,
   "metadata": {},
   "outputs": [],
   "source": [
    "# new column with random integer\n",
    "df[\"bin\"] = np.random.randint(1, n_bins, df.shape[0])"
   ]
  },
  {
   "cell_type": "code",
   "execution_count": 5,
   "metadata": {},
   "outputs": [
    {
     "name": "stdout",
     "output_type": "stream",
     "text": [
      "Loaded 100 work orders\n"
     ]
    },
    {
     "data": {
      "text/html": [
       "<div>\n",
       "<style scoped>\n",
       "    .dataframe tbody tr th:only-of-type {\n",
       "        vertical-align: middle;\n",
       "    }\n",
       "\n",
       "    .dataframe tbody tr th {\n",
       "        vertical-align: top;\n",
       "    }\n",
       "\n",
       "    .dataframe thead th {\n",
       "        text-align: right;\n",
       "    }\n",
       "</style>\n",
       "<table border=\"1\" class=\"dataframe\">\n",
       "  <thead>\n",
       "    <tr style=\"text-align: right;\">\n",
       "      <th></th>\n",
       "      <th>Name</th>\n",
       "      <th>Category</th>\n",
       "      <th>bin</th>\n",
       "    </tr>\n",
       "  </thead>\n",
       "  <tbody>\n",
       "    <tr>\n",
       "      <th>0</th>\n",
       "      <td>Japanese plum</td>\n",
       "      <td>Fruit</td>\n",
       "      <td>19</td>\n",
       "    </tr>\n",
       "    <tr>\n",
       "      <th>1</th>\n",
       "      <td>Mandarine</td>\n",
       "      <td>Fruit</td>\n",
       "      <td>5</td>\n",
       "    </tr>\n",
       "    <tr>\n",
       "      <th>2</th>\n",
       "      <td>Cherimoya (Custard Apple)</td>\n",
       "      <td>Fruit</td>\n",
       "      <td>16</td>\n",
       "    </tr>\n",
       "    <tr>\n",
       "      <th>3</th>\n",
       "      <td>Grape</td>\n",
       "      <td>Fruit</td>\n",
       "      <td>10</td>\n",
       "    </tr>\n",
       "    <tr>\n",
       "      <th>4</th>\n",
       "      <td>Cucumber</td>\n",
       "      <td>Fruit</td>\n",
       "      <td>5</td>\n",
       "    </tr>\n",
       "  </tbody>\n",
       "</table>\n",
       "</div>"
      ],
      "text/plain": [
       "                        Name Category  bin\n",
       "0              Japanese plum    Fruit   19\n",
       "1                  Mandarine    Fruit    5\n",
       "2  Cherimoya (Custard Apple)    Fruit   16\n",
       "3                      Grape    Fruit   10\n",
       "4                   Cucumber    Fruit    5"
      ]
     },
     "execution_count": 5,
     "metadata": {},
     "output_type": "execute_result"
    }
   ],
   "source": [
    "# Generate work orders\n",
    "wos = 100\n",
    "\n",
    "# Check if wos file is already generated\n",
    "if f\"wos_{wos}.parquet\" in os.listdir():\n",
    "    df_wo = pd.read_parquet(f\"wos_{wos}.parquet\")\n",
    "    print(f\"Loaded {df_wo.shape[0]} work orders\")\n",
    "else:\n",
    "    print(f\"Generating {wos} work orders\")\n",
    "    df_wo = pd.DataFrame(columns=df.columns)\n",
    "    for _ in range(wos):\n",
    "        random_row = df.sample()\n",
    "        df_wo = pd.concat([df_wo, random_row], ignore_index=True)\n",
    "    df_wo.to_parquet(f\"wos_{wos}.parquet\")\n",
    "df_wo.head()"
   ]
  },
  {
   "cell_type": "code",
   "execution_count": 6,
   "metadata": {},
   "outputs": [],
   "source": [
    "batch_size = 10\n",
    "fetch_list = []\n",
    "for i in range(int(np.floor(df_wo.count().Category) / batch_size)):\n",
    "    fetch_list.append(df_wo.loc[i * 10 : i * 10 + 10])"
   ]
  },
  {
   "cell_type": "code",
   "execution_count": 7,
   "metadata": {},
   "outputs": [
    {
     "data": {
      "text/html": [
       "<div>\n",
       "<style scoped>\n",
       "    .dataframe tbody tr th:only-of-type {\n",
       "        vertical-align: middle;\n",
       "    }\n",
       "\n",
       "    .dataframe tbody tr th {\n",
       "        vertical-align: top;\n",
       "    }\n",
       "\n",
       "    .dataframe thead th {\n",
       "        text-align: right;\n",
       "    }\n",
       "</style>\n",
       "<table border=\"1\" class=\"dataframe\">\n",
       "  <thead>\n",
       "    <tr style=\"text-align: right;\">\n",
       "      <th></th>\n",
       "      <th>pickup_list</th>\n",
       "      <th>tsp_route</th>\n",
       "      <th>tsp_distance</th>\n",
       "      <th>pickup_order</th>\n",
       "    </tr>\n",
       "  </thead>\n",
       "  <tbody>\n",
       "    <tr>\n",
       "      <th>0</th>\n",
       "      <td>[1, 19, 5, 16, 10, 5, 3, 10, 6, 12, 2, 19]</td>\n",
       "      <td>[1, 2, 7, 12, 7, 2, 3, 4, 5, 10, 15, 20, 19, 1...</td>\n",
       "      <td>60</td>\n",
       "      <td>[2, 12, 3, 5, 10, 19, 16, 6]</td>\n",
       "    </tr>\n",
       "    <tr>\n",
       "      <th>1</th>\n",
       "      <td>[1, 19, 4, 5, 15, 6, 7, 2, 15, 4, 1, 18]</td>\n",
       "      <td>[1, 2, 7, 12, 17, 18, 19, 14, 9, 4, 5, 10, 15,...</td>\n",
       "      <td>64</td>\n",
       "      <td>[2, 7, 18, 19, 4, 5, 15, 6]</td>\n",
       "    </tr>\n",
       "    <tr>\n",
       "      <th>2</th>\n",
       "      <td>[1, 18, 7, 5, 14, 8, 2, 6, 7, 5, 2, 3]</td>\n",
       "      <td>[1, 2, 3, 8, 13, 18, 19, 14, 9, 4, 5, 4, 3, 2,...</td>\n",
       "      <td>60</td>\n",
       "      <td>[2, 3, 8, 18, 14, 5, 7, 6]</td>\n",
       "    </tr>\n",
       "    <tr>\n",
       "      <th>3</th>\n",
       "      <td>[1, 3, 16, 15, 5, 19, 10, 2, 18, 6, 7, 6]</td>\n",
       "      <td>[1, 2, 3, 4, 5, 10, 15, 20, 19, 18, 13, 8, 3, ...</td>\n",
       "      <td>64</td>\n",
       "      <td>[2, 3, 5, 10, 15, 19, 18, 7, 16, 6]</td>\n",
       "    </tr>\n",
       "    <tr>\n",
       "      <th>4</th>\n",
       "      <td>[1, 6, 8, 10, 6, 5, 14, 2, 6, 6, 5, 2]</td>\n",
       "      <td>[1, 2, 3, 8, 13, 18, 19, 14, 9, 4, 5, 10, 5, 4...</td>\n",
       "      <td>60</td>\n",
       "      <td>[2, 8, 14, 5, 10, 6]</td>\n",
       "    </tr>\n",
       "  </tbody>\n",
       "</table>\n",
       "</div>"
      ],
      "text/plain": [
       "                                  pickup_list  \\\n",
       "0  [1, 19, 5, 16, 10, 5, 3, 10, 6, 12, 2, 19]   \n",
       "1    [1, 19, 4, 5, 15, 6, 7, 2, 15, 4, 1, 18]   \n",
       "2      [1, 18, 7, 5, 14, 8, 2, 6, 7, 5, 2, 3]   \n",
       "3   [1, 3, 16, 15, 5, 19, 10, 2, 18, 6, 7, 6]   \n",
       "4      [1, 6, 8, 10, 6, 5, 14, 2, 6, 6, 5, 2]   \n",
       "\n",
       "                                           tsp_route  tsp_distance  \\\n",
       "0  [1, 2, 7, 12, 7, 2, 3, 4, 5, 10, 15, 20, 19, 1...            60   \n",
       "1  [1, 2, 7, 12, 17, 18, 19, 14, 9, 4, 5, 10, 15,...            64   \n",
       "2  [1, 2, 3, 8, 13, 18, 19, 14, 9, 4, 5, 4, 3, 2,...            60   \n",
       "3  [1, 2, 3, 4, 5, 10, 15, 20, 19, 18, 13, 8, 3, ...            64   \n",
       "4  [1, 2, 3, 8, 13, 18, 19, 14, 9, 4, 5, 10, 5, 4...            60   \n",
       "\n",
       "                          pickup_order  \n",
       "0         [2, 12, 3, 5, 10, 19, 16, 6]  \n",
       "1          [2, 7, 18, 19, 4, 5, 15, 6]  \n",
       "2           [2, 3, 8, 18, 14, 5, 7, 6]  \n",
       "3  [2, 3, 5, 10, 15, 19, 18, 7, 16, 6]  \n",
       "4                 [2, 8, 14, 5, 10, 6]  "
      ]
     },
     "execution_count": 7,
     "metadata": {},
     "output_type": "execute_result"
    }
   ],
   "source": [
    "# Traveling Salesman applied to a pickup list\n",
    "salesman = []\n",
    "pickup_point = [1]\n",
    "for i in fetch_list:\n",
    "    pickup_list = pickup_point + i.bin.values.tolist()\n",
    "    tsp = nx.approximation.traveling_salesman_problem\n",
    "    tsp_route = tsp(G, nodes=pickup_list)\n",
    "    tsp_distance = sum(G[u][v][\"weight\"] for u, v in zip(tsp_route, tsp_route[1:]))\n",
    "    seen = set()\n",
    "    order = [\n",
    "        node\n",
    "        for node in tsp_route\n",
    "        if node in pickup_list and not (node in seen or seen.add(node))\n",
    "    ][1:]\n",
    "\n",
    "    salesman.append(\n",
    "        {\n",
    "            \"pickup_list\": pickup_list,\n",
    "            \"tsp_route\": tsp_route,\n",
    "            \"tsp_distance\": tsp_distance,\n",
    "            \"pickup_order\": order,\n",
    "        }\n",
    "    )\n",
    "# Convert salesman list to dataframe\n",
    "df_salesman = pd.DataFrame(salesman)\n",
    "df_salesman.head()"
   ]
  },
  {
   "cell_type": "code",
   "execution_count": 8,
   "metadata": {},
   "outputs": [
    {
     "name": "stdout",
     "output_type": "stream",
     "text": [
      "Total number of work orders: 100\n",
      "Total number of batches: 10\n",
      "Average Distance: 60.6\n"
     ]
    }
   ],
   "source": [
    "# Stats\n",
    "print(f\"Total number of work orders: {df_wo.count().Category}\")\n",
    "print(f\"Total number of batches: {len(fetch_list)}\")\n",
    "print(f\"Average Distance: {df_salesman.tsp_distance.mean()}\")"
   ]
  },
  {
   "cell_type": "markdown",
   "metadata": {},
   "source": [
    "# Generating a more complex warehouse"
   ]
  },
  {
   "cell_type": "code",
   "execution_count": 9,
   "metadata": {},
   "outputs": [],
   "source": [
    "class Grid:\n",
    "    def __init__(self, grid, waypoints, scale=1):\n",
    "        self.grid = grid\n",
    "        self.waypoints = waypoints\n",
    "        self.scale = scale\n",
    "        self.G = nx.Graph()\n",
    "        self.make_graph()\n",
    "\n",
    "    def make_graph(self):\n",
    "        x_shape = self.grid.shape[1]\n",
    "        for n, pos in enumerate(np.ndindex(self.grid.shape)):\n",
    "            x = pos[1]\n",
    "            y = pos[0]\n",
    "            if self.grid[pos] == 1:\n",
    "                self.G.add_node(n, pos=(x, -y))\n",
    "                # Add edged to north and west neighbors if pathway\n",
    "                if x > 0 and self.grid[y, x - 1] == 1:\n",
    "                    self.G.add_edge(n, n - 1, weight=self.scale)\n",
    "                if y > 0 and self.grid[y - 1, x] == 1:\n",
    "                    north_neighbor = n - x_shape\n",
    "                    self.G.add_edge(n, north_neighbor, weight=self.scale)\n",
    "\n",
    "    def pos2node(self, pos: tuple):\n",
    "        return pos[1] * self.grid.shape[1] + pos[0]\n",
    "\n",
    "    def node2pos(self, node: int):\n",
    "        return (node // self.grid.shape[1], node % self.grid.shape[1])\n",
    "\n",
    "    def find_path(self, start: str, end: str, model: str = \"dijkstra\"):\n",
    "        start = self.pos2node(self.waypoints[start])\n",
    "        end = self.pos2node(self.waypoints[end])\n",
    "        if model == \"astar\":\n",
    "\n",
    "            def heuristic(a, b):\n",
    "                x1, y1 = self.G.nodes[a][\"pos\"]\n",
    "                x2, y2 = self.G.nodes[b][\"pos\"]\n",
    "                return np.linalg.norm(np.array([x1, y1]) - np.array([x2, y2]))\n",
    "\n",
    "            return nx.astar_path(\n",
    "                self.G, start, end, heuristic=heuristic, weight=\"weight\"\n",
    "            )\n",
    "        elif model == \"dijkstra\":\n",
    "            return nx.shortest_path(self.G, start, end)\n",
    "\n",
    "    def plot(self, path=None):\n",
    "        plt.imshow(self.grid, cmap=\"gray\")\n",
    "        plt.grid(True)\n",
    "\n",
    "        for key, (x, y) in self.waypoints.items():\n",
    "            plt.plot(x, y, \"go\")\n",
    "            plt.text(x, y, key, fontsize=12, ha=\"right\")\n",
    "        if path:\n",
    "            # Plot the path\n",
    "            path_coords = [self.node2pos(wp) for wp in path]\n",
    "            path_coords = np.array(path_coords)\n",
    "            plt.plot(path_coords[:, 1], path_coords[:, 0], \"r-\")\n",
    "        plt.show()\n",
    "\n",
    "    def plot_graph(self):\n",
    "        pos = nx.get_node_attributes(self.G, \"pos\")\n",
    "        nx.draw(\n",
    "            self.G,\n",
    "            pos=pos,\n",
    "            with_labels=True,\n",
    "            node_size=500,\n",
    "            node_color=\"lightblue\",\n",
    "            edge_color=\"gray\",\n",
    "        )\n",
    "        plt.show()"
   ]
  },
  {
   "cell_type": "code",
   "execution_count": 10,
   "metadata": {},
   "outputs": [
    {
     "data": {
      "image/png": "[encoded data removed]",
      "text/plain": [
       "<Figure size 640x480 with 1 Axes>"
      ]
     },
     "metadata": {},
     "output_type": "display_data"
    },
    {
     "data": {
      "image/png": "[encoded data removed]",
      "text/plain": [
       "<Figure size 640x480 with 1 Axes>"
      ]
     },
     "metadata": {},
     "output_type": "display_data"
    },
    {
     "data": {
      "text/plain": [
       "[0, 1, 6, 7, 8, 13, 18]"
      ]
     },
     "execution_count": 10,
     "metadata": {},
     "output_type": "execute_result"
    }
   ],
   "source": [
    "grid = np.array(\n",
    "    [\n",
    "        [1, 1, 1, 0, 0],\n",
    "        [0, 1, 1, 1, 0],\n",
    "        [0, 1, 0, 1, 0],\n",
    "        [0, 1, 0, 1, 0],\n",
    "        [0, 0, 0, 0, 0],\n",
    "    ]\n",
    ")\n",
    "\n",
    "waypoints = {\n",
    "    \"A\": (0, 0),\n",
    "    \"B\": (3, 3),\n",
    "}\n",
    "\n",
    "g = Grid(grid, waypoints)\n",
    "path = g.find_path(\"A\", \"B\")\n",
    "g.plot(path)\n",
    "g.plot_graph()\n",
    "path"
   ]
  },
  {
   "cell_type": "code",
   "execution_count": null,
   "metadata": {},
   "outputs": [],
   "source": []
  }
 ],
 "metadata": {
  "kernelspec": {
   "display_name": "Python 3",
   "language": "python",
   "name": "python3"
  },
  "language_info": {
   "codemirror_mode": {
    "name": "ipython",
    "version": 3
   },
   "file_extension": ".py",
   "mimetype": "text/x-python",
   "name": "python",
   "nbconvert_exporter": "python",
   "pygments_lexer": "ipython3",
   "version": "3.10.12"
  }
 },
 "nbformat": 4,
 "nbformat_minor": 2
}
