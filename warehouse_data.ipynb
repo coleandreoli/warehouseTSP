{
 "cells": [
  {
   "cell_type": "markdown",
   "metadata": {},
   "source": [
    "# Data for TSP Warehouse"
   ]
  },
  {
   "cell_type": "code",
   "execution_count": 1,
   "metadata": {},
   "outputs": [],
   "source": [
    "import pandas as pd\n",
    "import numpy as np\n",
    "import os"
   ]
  },
  {
   "cell_type": "code",
   "execution_count": 2,
   "metadata": {},
   "outputs": [
    {
     "data": {
      "application/vnd.microsoft.datawrangler.viewer.v0+json": {
       "columns": [
        {
         "name": "index",
         "rawType": "int64",
         "type": "integer"
        },
        {
         "name": "Name",
         "rawType": "object",
         "type": "string"
        },
        {
         "name": "Category",
         "rawType": "object",
         "type": "string"
        }
       ],
       "ref": "67c8e25d-8a37-4095-9821-a264bbf28b5f",
       "rows": [
        [
         "0",
         "Abiu",
         "Fruit"
        ],
        [
         "1",
         "Açaí",
         "Fruit"
        ],
        [
         "2",
         "Acerola",
         "Fruit"
        ],
        [
         "3",
         "Akebi",
         "Fruit"
        ],
        [
         "4",
         "Ackee",
         "Fruit"
        ],
        [
         "5",
         "African Cherry Orange",
         "Fruit"
        ],
        [
         "6",
         "American Mayapple",
         "Fruit"
        ],
        [
         "7",
         "Apple",
         "Fruit"
        ],
        [
         "8",
         "Apricot",
         "Fruit"
        ],
        [
         "9",
         "Aratiles",
         "Fruit"
        ],
        [
         "10",
         "Araza",
         "Fruit"
        ],
        [
         "11",
         "Avocado",
         "Fruit"
        ],
        [
         "12",
         "Banana",
         "Fruit"
        ],
        [
         "13",
         "Bilberry",
         "Fruit"
        ],
        [
         "14",
         "Blackberry",
         "Fruit"
        ],
        [
         "15",
         "Blackcurrant",
         "Fruit"
        ],
        [
         "16",
         "Black sapote",
         "Fruit"
        ],
        [
         "17",
         "Blueberry",
         "Fruit"
        ],
        [
         "18",
         "Boysenberry",
         "Fruit"
        ],
        [
         "19",
         "Breadfruit",
         "Fruit"
        ],
        [
         "20",
         "Buddha's hand (fingered citron)",
         "Fruit"
        ],
        [
         "21",
         "Cactus pear",
         "Fruit"
        ],
        [
         "22",
         "Canistel (egg fruit)",
         "Fruit"
        ],
        [
         "23",
         "Catmon",
         "Fruit"
        ],
        [
         "24",
         "Cempedak",
         "Fruit"
        ],
        [
         "25",
         "Cherimoya (Custard Apple)",
         "Fruit"
        ],
        [
         "26",
         "Cherry",
         "Fruit"
        ],
        [
         "27",
         "Chico fruit",
         "Fruit"
        ],
        [
         "28",
         "Citron",
         "Fruit"
        ],
        [
         "29",
         "Cloudberry",
         "Fruit"
        ],
        [
         "30",
         "Coco de mer",
         "Fruit"
        ],
        [
         "31",
         "Coconut",
         "Fruit"
        ],
        [
         "32",
         "Crab apple",
         "Fruit"
        ],
        [
         "33",
         "Cranberry",
         "Fruit"
        ],
        [
         "34",
         "Currant",
         "Fruit"
        ],
        [
         "35",
         "Damson",
         "Fruit"
        ],
        [
         "36",
         "Date",
         "Fruit"
        ],
        [
         "37",
         "Dragonfruit (Pitaya)",
         "Fruit"
        ],
        [
         "38",
         "Durian",
         "Fruit"
        ],
        [
         "39",
         "Elderberry",
         "Fruit"
        ],
        [
         "40",
         "Feijoa",
         "Fruit"
        ],
        [
         "41",
         "Fig",
         "Fruit"
        ],
        [
         "42",
         "Finger Lime (Caviar Lime)",
         "Fruit"
        ],
        [
         "43",
         "Gac",
         "Fruit"
        ],
        [
         "44",
         "Goji berry",
         "Fruit"
        ],
        [
         "45",
         "Gooseberry",
         "Fruit"
        ],
        [
         "46",
         "Grape",
         "Fruit"
        ],
        [
         "47",
         "Raisin (Dried Grape)",
         "Fruit"
        ],
        [
         "48",
         "Grapefruit",
         "Fruit"
        ],
        [
         "49",
         "Grewia asiatica",
         "Fruit"
        ]
       ],
       "shape": {
        "columns": 2,
        "rows": 158
       }
      },
      "text/html": [
       "<div>\n",
       "<style scoped>\n",
       "    .dataframe tbody tr th:only-of-type {\n",
       "        vertical-align: middle;\n",
       "    }\n",
       "\n",
       "    .dataframe tbody tr th {\n",
       "        vertical-align: top;\n",
       "    }\n",
       "\n",
       "    .dataframe thead th {\n",
       "        text-align: right;\n",
       "    }\n",
       "</style>\n",
       "<table border=\"1\" class=\"dataframe\">\n",
       "  <thead>\n",
       "    <tr style=\"text-align: right;\">\n",
       "      <th></th>\n",
       "      <th>Name</th>\n",
       "      <th>Category</th>\n",
       "    </tr>\n",
       "  </thead>\n",
       "  <tbody>\n",
       "    <tr>\n",
       "      <th>0</th>\n",
       "      <td>Abiu</td>\n",
       "      <td>Fruit</td>\n",
       "    </tr>\n",
       "    <tr>\n",
       "      <th>1</th>\n",
       "      <td>Açaí</td>\n",
       "      <td>Fruit</td>\n",
       "    </tr>\n",
       "    <tr>\n",
       "      <th>2</th>\n",
       "      <td>Acerola</td>\n",
       "      <td>Fruit</td>\n",
       "    </tr>\n",
       "    <tr>\n",
       "      <th>3</th>\n",
       "      <td>Akebi</td>\n",
       "      <td>Fruit</td>\n",
       "    </tr>\n",
       "    <tr>\n",
       "      <th>4</th>\n",
       "      <td>Ackee</td>\n",
       "      <td>Fruit</td>\n",
       "    </tr>\n",
       "    <tr>\n",
       "      <th>...</th>\n",
       "      <td>...</td>\n",
       "      <td>...</td>\n",
       "    </tr>\n",
       "    <tr>\n",
       "      <th>153</th>\n",
       "      <td>Pea</td>\n",
       "      <td>Fruit</td>\n",
       "    </tr>\n",
       "    <tr>\n",
       "      <th>154</th>\n",
       "      <td>Pumpkin</td>\n",
       "      <td>Fruit</td>\n",
       "    </tr>\n",
       "    <tr>\n",
       "      <th>155</th>\n",
       "      <td>Squash</td>\n",
       "      <td>Fruit</td>\n",
       "    </tr>\n",
       "    <tr>\n",
       "      <th>156</th>\n",
       "      <td>Tomato</td>\n",
       "      <td>Fruit</td>\n",
       "    </tr>\n",
       "    <tr>\n",
       "      <th>157</th>\n",
       "      <td>Zucchini</td>\n",
       "      <td>Fruit</td>\n",
       "    </tr>\n",
       "  </tbody>\n",
       "</table>\n",
       "<p>158 rows × 2 columns</p>\n",
       "</div>"
      ],
      "text/plain": [
       "         Name Category\n",
       "0        Abiu    Fruit\n",
       "1        Açaí    Fruit\n",
       "2     Acerola    Fruit\n",
       "3       Akebi    Fruit\n",
       "4       Ackee    Fruit\n",
       "..        ...      ...\n",
       "153       Pea    Fruit\n",
       "154   Pumpkin    Fruit\n",
       "155    Squash    Fruit\n",
       "156    Tomato    Fruit\n",
       "157  Zucchini    Fruit\n",
       "\n",
       "[158 rows x 2 columns]"
      ]
     },
     "execution_count": 2,
     "metadata": {},
     "output_type": "execute_result"
    }
   ],
   "source": [
    "df = pd.read_csv(\"static/fruits.csv\")\n",
    "df"
   ]
  },
  {
   "cell_type": "markdown",
   "metadata": {},
   "source": [
    "# Generate Graph"
   ]
  },
  {
   "cell_type": "code",
   "execution_count": 3,
   "metadata": {},
   "outputs": [
    {
     "data": {
      "image/png": "[encoded data removed]",
      "text/plain": [
       "<Figure size 800x800 with 1 Axes>"
      ]
     },
     "metadata": {},
     "output_type": "display_data"
    }
   ],
   "source": [
    "import networkx as nx\n",
    "import matplotlib.pyplot as plt\n",
    "\n",
    "# Create a directed graph\n",
    "G = nx.Graph()\n",
    "\n",
    "# Define grid dimensions\n",
    "n = 5  # Number of rows\n",
    "m = 4  # Number of columns\n",
    "n_bins = n * m\n",
    "\n",
    "# Add edges within rows\n",
    "for i in range(1, n):\n",
    "    G.add_edge(i, i + 1, weight=5)\n",
    "\n",
    "for i in range(n * m - n + 1, n * m):\n",
    "    G.add_edge(i, i + 1, weight=5)\n",
    "\n",
    "# Add edges between rows\n",
    "for i in range(1, n * m - n + 1):\n",
    "    G.add_edge(i, i + n, weight=2)\n",
    "\n",
    "# Visualize the graph\n",
    "pos = {}\n",
    "for row in range(m):  # m is the number of rows\n",
    "    for col in range(n):  # n is the number of columns\n",
    "        node = row * n + col + 1\n",
    "        pos[node] = (col, -row)  # Arrange nodes in a square grid\n",
    "\n",
    "# Highlight the shortest path in the visualization\n",
    "plt.figure(figsize=(8, 8))\n",
    "nx.draw(\n",
    "    G,\n",
    "    pos,\n",
    "    with_labels=True,\n",
    "    node_size=500,\n",
    "    node_color=\"lightblue\",\n",
    "    edge_color=\"gray\",\n",
    ")\n",
    "\n",
    "nx.draw_networkx_edge_labels(\n",
    "    G,\n",
    "    pos,\n",
    "    edge_labels={(u, v): f\"{d['weight']}\" for u, v, d in G.edges(data=True)},\n",
    "    font_size=10,\n",
    "    label_pos=0.5,\n",
    ")\n",
    "plt.axis(\"off\")\n",
    "plt.show()"
   ]
  },
  {
   "cell_type": "markdown",
   "metadata": {},
   "source": [
    "# Assign fruit to bins"
   ]
  },
  {
   "cell_type": "code",
   "execution_count": 4,
   "metadata": {},
   "outputs": [],
   "source": [
    "# new column with random integer\n",
    "df[\"bin\"] = np.random.randint(1, n_bins, df.shape[0])"
   ]
  },
  {
   "cell_type": "code",
   "execution_count": 5,
   "metadata": {},
   "outputs": [
    {
     "name": "stdout",
     "output_type": "stream",
     "text": [
      "Loaded 100 work orders\n"
     ]
    },
    {
     "data": {
      "application/vnd.microsoft.datawrangler.viewer.v0+json": {
       "columns": [
        {
         "name": "index",
         "rawType": "int64",
         "type": "integer"
        },
        {
         "name": "Name",
         "rawType": "object",
         "type": "string"
        },
        {
         "name": "Category",
         "rawType": "object",
         "type": "string"
        },
        {
         "name": "bin",
         "rawType": "int64",
         "type": "integer"
        }
       ],
       "ref": "3dacba60-b104-42d6-990c-5dd0ce5201ba",
       "rows": [
        [
         "0",
         "Loquat",
         "Fruit",
         "8"
        ],
        [
         "1",
         "Haws (Hawthorn fruit)",
         "Fruit",
         "18"
        ],
        [
         "2",
         "Rose apple",
         "Fruit",
         "7"
        ],
        [
         "3",
         "Tangelo",
         "Fruit",
         "9"
        ],
        [
         "4",
         "Papaya",
         "Fruit",
         "13"
        ]
       ],
       "shape": {
        "columns": 3,
        "rows": 5
       }
      },
      "text/html": [
       "<div>\n",
       "<style scoped>\n",
       "    .dataframe tbody tr th:only-of-type {\n",
       "        vertical-align: middle;\n",
       "    }\n",
       "\n",
       "    .dataframe tbody tr th {\n",
       "        vertical-align: top;\n",
       "    }\n",
       "\n",
       "    .dataframe thead th {\n",
       "        text-align: right;\n",
       "    }\n",
       "</style>\n",
       "<table border=\"1\" class=\"dataframe\">\n",
       "  <thead>\n",
       "    <tr style=\"text-align: right;\">\n",
       "      <th></th>\n",
       "      <th>Name</th>\n",
       "      <th>Category</th>\n",
       "      <th>bin</th>\n",
       "    </tr>\n",
       "  </thead>\n",
       "  <tbody>\n",
       "    <tr>\n",
       "      <th>0</th>\n",
       "      <td>Loquat</td>\n",
       "      <td>Fruit</td>\n",
       "      <td>8</td>\n",
       "    </tr>\n",
       "    <tr>\n",
       "      <th>1</th>\n",
       "      <td>Haws (Hawthorn fruit)</td>\n",
       "      <td>Fruit</td>\n",
       "      <td>18</td>\n",
       "    </tr>\n",
       "    <tr>\n",
       "      <th>2</th>\n",
       "      <td>Rose apple</td>\n",
       "      <td>Fruit</td>\n",
       "      <td>7</td>\n",
       "    </tr>\n",
       "    <tr>\n",
       "      <th>3</th>\n",
       "      <td>Tangelo</td>\n",
       "      <td>Fruit</td>\n",
       "      <td>9</td>\n",
       "    </tr>\n",
       "    <tr>\n",
       "      <th>4</th>\n",
       "      <td>Papaya</td>\n",
       "      <td>Fruit</td>\n",
       "      <td>13</td>\n",
       "    </tr>\n",
       "  </tbody>\n",
       "</table>\n",
       "</div>"
      ],
      "text/plain": [
       "                    Name Category  bin\n",
       "0                 Loquat    Fruit    8\n",
       "1  Haws (Hawthorn fruit)    Fruit   18\n",
       "2             Rose apple    Fruit    7\n",
       "3                Tangelo    Fruit    9\n",
       "4                 Papaya    Fruit   13"
      ]
     },
     "execution_count": 5,
     "metadata": {},
     "output_type": "execute_result"
    }
   ],
   "source": [
    "# Generate work orders\n",
    "wos = 100\n",
    "\n",
    "# Check if wos file is already generated\n",
    "if os.path.isfile(f\"static/wos_{wos}.parquet\"):\n",
    "    df_wo = pd.read_parquet(f\"static/wos_{wos}.parquet\")\n",
    "    print(f\"Loaded {df_wo.shape[0]} work orders\")\n",
    "else:\n",
    "    print(f\"Generating {wos} work orders\")\n",
    "    df_wo = pd.DataFrame(columns=df.columns)\n",
    "    for _ in range(wos):\n",
    "        random_row = df.sample()\n",
    "        df_wo = pd.concat([df_wo, random_row], ignore_index=True)\n",
    "    df_wo.to_parquet(f\"static/wos_{wos}.parquet\")\n",
    "df_wo.head()"
   ]
  },
  {
   "cell_type": "code",
   "execution_count": 6,
   "metadata": {},
   "outputs": [],
   "source": [
    "batch_size = 10\n",
    "fetch_list = []\n",
    "for i in range(int(np.floor(df_wo.count().Category) / batch_size)):\n",
    "    fetch_list.append(df_wo.loc[i * 10 : i * 10 + 10])"
   ]
  },
  {
   "cell_type": "code",
   "execution_count": 7,
   "metadata": {},
   "outputs": [
    {
     "data": {
      "application/vnd.microsoft.datawrangler.viewer.v0+json": {
       "columns": [
        {
         "name": "index",
         "rawType": "int64",
         "type": "integer"
        },
        {
         "name": "pickup_list",
         "rawType": "object",
         "type": "unknown"
        },
        {
         "name": "tsp_route",
         "rawType": "object",
         "type": "unknown"
        },
        {
         "name": "tsp_distance",
         "rawType": "int64",
         "type": "integer"
        },
        {
         "name": "pickup_order",
         "rawType": "object",
         "type": "unknown"
        }
       ],
       "ref": "f2d11c6f-839f-41d0-a2ac-361f28c278a9",
       "rows": [
        [
         "0",
         "[1, 8, 18, 7, 9, 13, 11, 9, 2, 7, 3, 9]",
         "[1, 2, 7, 2, 3, 4, 9, 4, 3, 8, 13, 18, 17, 16, 11, 6, 1]",
         "50",
         "[2, 7, 3, 9, 8, 13, 18, 11]"
        ],
        [
         "1",
         "[1, 9, 8, 5, 12, 3, 4, 12, 7, 12, 7, 9]",
         "[1, 2, 3, 8, 3, 4, 5, 4, 9, 4, 3, 2, 7, 12, 7, 2, 1]",
         "56",
         "[3, 8, 4, 5, 9, 7, 12]"
        ],
        [
         "2",
         "[1, 9, 9, 17, 15, 17, 13, 8, 16, 5, 8, 9]",
         "[1, 2, 3, 4, 5, 10, 15, 10, 5, 4, 9, 4, 3, 8, 13, 18, 17, 16, 11, 6, 1]",
         "64",
         "[5, 15, 9, 8, 13, 17, 16]"
        ],
        [
         "3",
         "[1, 9, 4, 13, 2, 10, 4, 3, 14, 8, 13, 1]",
         "[1, 2, 3, 8, 13, 18, 19, 14, 9, 4, 5, 10, 5, 4, 3, 2, 1]",
         "56",
         "[2, 3, 8, 13, 14, 9, 4, 10]"
        ],
        [
         "4",
         "[1, 1, 15, 9, 18, 18, 16, 19, 4, 5, 10, 5]",
         "[1, 2, 3, 4, 5, 10, 15, 10, 5, 4, 9, 14, 19, 18, 17, 16, 11, 6, 1]",
         "60",
         "[4, 5, 10, 15, 9, 19, 18, 16]"
        ]
       ],
       "shape": {
        "columns": 4,
        "rows": 5
       }
      },
      "text/html": [
       "<div>\n",
       "<style scoped>\n",
       "    .dataframe tbody tr th:only-of-type {\n",
       "        vertical-align: middle;\n",
       "    }\n",
       "\n",
       "    .dataframe tbody tr th {\n",
       "        vertical-align: top;\n",
       "    }\n",
       "\n",
       "    .dataframe thead th {\n",
       "        text-align: right;\n",
       "    }\n",
       "</style>\n",
       "<table border=\"1\" class=\"dataframe\">\n",
       "  <thead>\n",
       "    <tr style=\"text-align: right;\">\n",
       "      <th></th>\n",
       "      <th>pickup_list</th>\n",
       "      <th>tsp_route</th>\n",
       "      <th>tsp_distance</th>\n",
       "      <th>pickup_order</th>\n",
       "    </tr>\n",
       "  </thead>\n",
       "  <tbody>\n",
       "    <tr>\n",
       "      <th>0</th>\n",
       "      <td>[1, 8, 18, 7, 9, 13, 11, 9, 2, 7, 3, 9]</td>\n",
       "      <td>[1, 2, 7, 2, 3, 4, 9, 4, 3, 8, 13, 18, 17, 16,...</td>\n",
       "      <td>50</td>\n",
       "      <td>[2, 7, 3, 9, 8, 13, 18, 11]</td>\n",
       "    </tr>\n",
       "    <tr>\n",
       "      <th>1</th>\n",
       "      <td>[1, 9, 8, 5, 12, 3, 4, 12, 7, 12, 7, 9]</td>\n",
       "      <td>[1, 2, 3, 8, 3, 4, 5, 4, 9, 4, 3, 2, 7, 12, 7,...</td>\n",
       "      <td>56</td>\n",
       "      <td>[3, 8, 4, 5, 9, 7, 12]</td>\n",
       "    </tr>\n",
       "    <tr>\n",
       "      <th>2</th>\n",
       "      <td>[1, 9, 9, 17, 15, 17, 13, 8, 16, 5, 8, 9]</td>\n",
       "      <td>[1, 2, 3, 4, 5, 10, 15, 10, 5, 4, 9, 4, 3, 8, ...</td>\n",
       "      <td>64</td>\n",
       "      <td>[5, 15, 9, 8, 13, 17, 16]</td>\n",
       "    </tr>\n",
       "    <tr>\n",
       "      <th>3</th>\n",
       "      <td>[1, 9, 4, 13, 2, 10, 4, 3, 14, 8, 13, 1]</td>\n",
       "      <td>[1, 2, 3, 8, 13, 18, 19, 14, 9, 4, 5, 10, 5, 4...</td>\n",
       "      <td>56</td>\n",
       "      <td>[2, 3, 8, 13, 14, 9, 4, 10]</td>\n",
       "    </tr>\n",
       "    <tr>\n",
       "      <th>4</th>\n",
       "      <td>[1, 1, 15, 9, 18, 18, 16, 19, 4, 5, 10, 5]</td>\n",
       "      <td>[1, 2, 3, 4, 5, 10, 15, 10, 5, 4, 9, 14, 19, 1...</td>\n",
       "      <td>60</td>\n",
       "      <td>[4, 5, 10, 15, 9, 19, 18, 16]</td>\n",
       "    </tr>\n",
       "  </tbody>\n",
       "</table>\n",
       "</div>"
      ],
      "text/plain": [
       "                                  pickup_list  \\\n",
       "0     [1, 8, 18, 7, 9, 13, 11, 9, 2, 7, 3, 9]   \n",
       "1     [1, 9, 8, 5, 12, 3, 4, 12, 7, 12, 7, 9]   \n",
       "2   [1, 9, 9, 17, 15, 17, 13, 8, 16, 5, 8, 9]   \n",
       "3    [1, 9, 4, 13, 2, 10, 4, 3, 14, 8, 13, 1]   \n",
       "4  [1, 1, 15, 9, 18, 18, 16, 19, 4, 5, 10, 5]   \n",
       "\n",
       "                                           tsp_route  tsp_distance  \\\n",
       "0  [1, 2, 7, 2, 3, 4, 9, 4, 3, 8, 13, 18, 17, 16,...            50   \n",
       "1  [1, 2, 3, 8, 3, 4, 5, 4, 9, 4, 3, 2, 7, 12, 7,...            56   \n",
       "2  [1, 2, 3, 4, 5, 10, 15, 10, 5, 4, 9, 4, 3, 8, ...            64   \n",
       "3  [1, 2, 3, 8, 13, 18, 19, 14, 9, 4, 5, 10, 5, 4...            56   \n",
       "4  [1, 2, 3, 4, 5, 10, 15, 10, 5, 4, 9, 14, 19, 1...            60   \n",
       "\n",
       "                    pickup_order  \n",
       "0    [2, 7, 3, 9, 8, 13, 18, 11]  \n",
       "1         [3, 8, 4, 5, 9, 7, 12]  \n",
       "2      [5, 15, 9, 8, 13, 17, 16]  \n",
       "3    [2, 3, 8, 13, 14, 9, 4, 10]  \n",
       "4  [4, 5, 10, 15, 9, 19, 18, 16]  "
      ]
     },
     "execution_count": 7,
     "metadata": {},
     "output_type": "execute_result"
    }
   ],
   "source": [
    "# Traveling Salesman applied to a pickup list\n",
    "salesman = []\n",
    "pickup_point = [1]\n",
    "for i in fetch_list:\n",
    "    pickup_list = pickup_point + i.bin.values.tolist()\n",
    "    tsp = nx.approximation.traveling_salesman_problem\n",
    "    tsp_route = tsp(G, nodes=pickup_list)\n",
    "    tsp_distance = sum(G[u][v][\"weight\"] for u, v in zip(tsp_route, tsp_route[1:]))\n",
    "    seen = set()\n",
    "    order = [\n",
    "        node\n",
    "        for node in tsp_route\n",
    "        if node in pickup_list and not (node in seen or seen.add(node))\n",
    "    ][1:]\n",
    "\n",
    "    salesman.append(\n",
    "        {\n",
    "            \"pickup_list\": pickup_list,\n",
    "            \"tsp_route\": tsp_route,\n",
    "            \"tsp_distance\": tsp_distance,\n",
    "            \"pickup_order\": order,\n",
    "        }\n",
    "    )\n",
    "# Convert salesman list to dataframe\n",
    "df_salesman = pd.DataFrame(salesman)\n",
    "df_salesman.head()"
   ]
  },
  {
   "cell_type": "code",
   "execution_count": 8,
   "metadata": {},
   "outputs": [
    {
     "name": "stdout",
     "output_type": "stream",
     "text": [
      "Total number of work orders: 100\n",
      "Total number of batches: 10\n",
      "Average Distance: 59.2\n"
     ]
    }
   ],
   "source": [
    "# Stats\n",
    "print(f\"Total number of work orders: {df_wo.count().Category}\")\n",
    "print(f\"Total number of batches: {len(fetch_list)}\")\n",
    "print(f\"Average Distance: {df_salesman.tsp_distance.mean()}\")"
   ]
  },
  {
   "cell_type": "markdown",
   "metadata": {},
   "source": [
    "# Generating a more complex warehouse"
   ]
  },
  {
   "cell_type": "code",
   "execution_count": 9,
   "metadata": {},
   "outputs": [],
   "source": [
    "from warehousetsp.warehousetsp import Grid"
   ]
  },
  {
   "cell_type": "code",
   "execution_count": 10,
   "metadata": {},
   "outputs": [
    {
     "data": {
      "image/png": "[encoded data removed]",
      "text/plain": [
       "<Figure size 640x480 with 1 Axes>"
      ]
     },
     "metadata": {},
     "output_type": "display_data"
    },
    {
     "data": {
      "text/plain": [
       "([0, 1, 6, 7, 8, 13, 18], 6)"
      ]
     },
     "execution_count": 10,
     "metadata": {},
     "output_type": "execute_result"
    }
   ],
   "source": [
    "grid = np.array(\n",
    "    [\n",
    "        [1, 1, 1, 0, 0],\n",
    "        [0, 1, 1, 1, 0],\n",
    "        [0, 1, 0, 1, 0],\n",
    "        [0, 1, 0, 1, 0],\n",
    "        [0, 0, 0, 0, 0],\n",
    "    ]\n",
    ")\n",
    "\n",
    "waypoints = {\n",
    "    \"A\": (0, 0),\n",
    "    \"B\": (3, 3),\n",
    "}\n",
    "g = Grid(grid)\n",
    "waypoints = {key: g.pos2node(pos) for key, pos in waypoints.items()}\n",
    "path = g.find_path(waypoints[\"A\"], waypoints[\"B\"])\n",
    "g._plot(path[0])\n",
    "path"
   ]
  },
  {
   "cell_type": "code",
   "execution_count": 11,
   "metadata": {},
   "outputs": [
    {
     "data": {
      "image/png": "[encoded data removed]",
      "text/plain": [
       "<Figure size 640x480 with 1 Axes>"
      ]
     },
     "metadata": {},
     "output_type": "display_data"
    },
    {
     "name": "stdout",
     "output_type": "stream",
     "text": [
      "([0, 24, 25, 26, 27, 28, 29, 30, 54, 78, 102, 126, 150, 174, 198, 199, 200, 201, 225, 249, 273, 274, 275, 276, 277, 278, 279], 26)\n"
     ]
    }
   ],
   "source": [
    "grid = np.loadtxt(\"static/fruteria.csv\", delimiter=\",\", dtype=int)\n",
    "\n",
    "waypoints = {\n",
    "    \"A\": (0, 0),\n",
    "    \"B\": (15, 11),\n",
    "    \"C\": (7, 11),\n",
    "}\n",
    "\n",
    "g = Grid(grid)\n",
    "waypoints = {key: g.pos2node(pos) for key, pos in waypoints.items()}\n",
    "path = g.find_path(waypoints[\"A\"], waypoints[\"B\"])\n",
    "g._plot(path[0])\n",
    "print(path)"
   ]
  },
  {
   "cell_type": "markdown",
   "metadata": {},
   "source": [
    "# Create Bin Locations"
   ]
  },
  {
   "cell_type": "code",
   "execution_count": 12,
   "metadata": {},
   "outputs": [],
   "source": [
    "import pyperclip\n",
    "\n",
    "pyperclip.copy(grid.tolist())"
   ]
  },
  {
   "cell_type": "code",
   "execution_count": 13,
   "metadata": {},
   "outputs": [
    {
     "data": {
      "application/vnd.microsoft.datawrangler.viewer.v0+json": {
       "columns": [
        {
         "name": "index",
         "rawType": "int64",
         "type": "integer"
        },
        {
         "name": "x",
         "rawType": "int64",
         "type": "integer"
        },
        {
         "name": "y",
         "rawType": "int64",
         "type": "integer"
        },
        {
         "name": "node",
         "rawType": "int64",
         "type": "integer"
        },
        {
         "name": "path",
         "rawType": "bool",
         "type": "boolean"
        }
       ],
       "ref": "55c7c5e5-2a91-4b53-98b0-57939fcb2db3",
       "rows": [
        [
         "18",
         "18",
         "0",
         "18",
         "True"
        ],
        [
         "27",
         "3",
         "1",
         "27",
         "True"
        ],
        [
         "28",
         "4",
         "1",
         "28",
         "True"
        ],
        [
         "29",
         "5",
         "1",
         "29",
         "True"
        ],
        [
         "30",
         "6",
         "1",
         "30",
         "True"
        ]
       ],
       "shape": {
        "columns": 4,
        "rows": 5
       }
      },
      "text/html": [
       "<div>\n",
       "<style scoped>\n",
       "    .dataframe tbody tr th:only-of-type {\n",
       "        vertical-align: middle;\n",
       "    }\n",
       "\n",
       "    .dataframe tbody tr th {\n",
       "        vertical-align: top;\n",
       "    }\n",
       "\n",
       "    .dataframe thead th {\n",
       "        text-align: right;\n",
       "    }\n",
       "</style>\n",
       "<table border=\"1\" class=\"dataframe\">\n",
       "  <thead>\n",
       "    <tr style=\"text-align: right;\">\n",
       "      <th></th>\n",
       "      <th>x</th>\n",
       "      <th>y</th>\n",
       "      <th>node</th>\n",
       "      <th>path</th>\n",
       "    </tr>\n",
       "  </thead>\n",
       "  <tbody>\n",
       "    <tr>\n",
       "      <th>18</th>\n",
       "      <td>18</td>\n",
       "      <td>0</td>\n",
       "      <td>18</td>\n",
       "      <td>True</td>\n",
       "    </tr>\n",
       "    <tr>\n",
       "      <th>27</th>\n",
       "      <td>3</td>\n",
       "      <td>1</td>\n",
       "      <td>27</td>\n",
       "      <td>True</td>\n",
       "    </tr>\n",
       "    <tr>\n",
       "      <th>28</th>\n",
       "      <td>4</td>\n",
       "      <td>1</td>\n",
       "      <td>28</td>\n",
       "      <td>True</td>\n",
       "    </tr>\n",
       "    <tr>\n",
       "      <th>29</th>\n",
       "      <td>5</td>\n",
       "      <td>1</td>\n",
       "      <td>29</td>\n",
       "      <td>True</td>\n",
       "    </tr>\n",
       "    <tr>\n",
       "      <th>30</th>\n",
       "      <td>6</td>\n",
       "      <td>1</td>\n",
       "      <td>30</td>\n",
       "      <td>True</td>\n",
       "    </tr>\n",
       "  </tbody>\n",
       "</table>\n",
       "</div>"
      ],
      "text/plain": [
       "     x  y  node  path\n",
       "18  18  0    18  True\n",
       "27   3  1    27  True\n",
       "28   4  1    28  True\n",
       "29   5  1    29  True\n",
       "30   6  1    30  True"
      ]
     },
     "execution_count": 13,
     "metadata": {},
     "output_type": "execute_result"
    }
   ],
   "source": [
    "df_wh = pd.DataFrame()\n",
    "rows = []\n",
    "for n, pos in enumerate(np.ndindex(grid.shape)):\n",
    "    if grid[pos] == 0:\n",
    "        rows.append(\n",
    "            {\"x\": pos[1], \"y\": pos[0], \"node\": g.pos2node(pos[::-1]), \"path\": False}\n",
    "        )\n",
    "    elif grid[pos] == 1:\n",
    "        rows.append(\n",
    "            {\"x\": pos[1], \"y\": pos[0], \"node\": g.pos2node(pos[::-1]), \"path\": True}\n",
    "        )\n",
    "df_wh = pd.concat([df_wh, pd.DataFrame(rows)], ignore_index=True)\n",
    "\n",
    "# Remove some bins\n",
    "df_wh = df_wh[~((df_wh[\"x\"] == 0) & (df_wh[\"y\"] == 0))]\n",
    "\n",
    "\n",
    "def remove_bins(width, height, x_size, node):\n",
    "    result_list = []\n",
    "    for i in range(height):\n",
    "        i = i * x_size\n",
    "        x = list(range(node + i, node + width + i))\n",
    "        result_list.extend(x)\n",
    "    return result_list\n",
    "\n",
    "\n",
    "df_wh = df_wh[df_wh[\"path\"] == True]\n",
    "# Remove nodes 168 to 215\n",
    "df_wh = df_wh[~df_wh[\"node\"].between(168, 215)]\n",
    "# Remove nodes if they are in a specific list\n",
    "df_wh = df_wh[~df_wh[\"node\"].isin(remove_bins(5, 9, 24, 19))]\n",
    "df_wh = df_wh[~df_wh[\"node\"].isin(remove_bins(3, 3, 24, 0))]\n",
    "df_wh = df_wh[~df_wh[\"node\"].isin(remove_bins(1, 7, 24, 193))]\n",
    "df_wh = df_wh[~df_wh[\"node\"].isin(remove_bins(1, 7, 24, 201))]\n",
    "df_wh = df_wh[~df_wh[\"node\"].isin(remove_bins(1, 7, 24, 209))]\n",
    "\n",
    "df_wh.head()"
   ]
  },
  {
   "cell_type": "code",
   "execution_count": 14,
   "metadata": {},
   "outputs": [],
   "source": [
    "list_of_tuples = list(\n",
    "    df_wh.sort_values(by=[\"x\", \"y\"])[[\"x\", \"y\"]].itertuples(index=False, name=None)\n",
    ")\n",
    "pyperclip.copy(list_of_tuples)"
   ]
  },
  {
   "cell_type": "code",
   "execution_count": 15,
   "metadata": {},
   "outputs": [],
   "source": [
    "df_wh.to_csv(\"static/warehouse.csv\", index=False)"
   ]
  },
  {
   "cell_type": "code",
   "execution_count": 16,
   "metadata": {},
   "outputs": [],
   "source": [
    "possible_bins = df_wh[\"node\"].to_list()"
   ]
  },
  {
   "cell_type": "code",
   "execution_count": 17,
   "metadata": {},
   "outputs": [
    {
     "data": {
      "application/vnd.microsoft.datawrangler.viewer.v0+json": {
       "columns": [
        {
         "name": "index",
         "rawType": "int64",
         "type": "integer"
        },
        {
         "name": "Name",
         "rawType": "object",
         "type": "string"
        },
        {
         "name": "Category",
         "rawType": "object",
         "type": "string"
        },
        {
         "name": "bin",
         "rawType": "int64",
         "type": "integer"
        }
       ],
       "ref": "51a71485-6913-47b4-98b9-895a2a408107",
       "rows": [
        [
         "0",
         "Abiu",
         "Fruit",
         "284"
        ],
        [
         "1",
         "Açaí",
         "Fruit",
         "111"
        ],
        [
         "2",
         "Acerola",
         "Fruit",
         "75"
        ],
        [
         "3",
         "Akebi",
         "Fruit",
         "108"
        ],
        [
         "4",
         "Ackee",
         "Fruit",
         "162"
        ]
       ],
       "shape": {
        "columns": 3,
        "rows": 5
       }
      },
      "text/html": [
       "<div>\n",
       "<style scoped>\n",
       "    .dataframe tbody tr th:only-of-type {\n",
       "        vertical-align: middle;\n",
       "    }\n",
       "\n",
       "    .dataframe tbody tr th {\n",
       "        vertical-align: top;\n",
       "    }\n",
       "\n",
       "    .dataframe thead th {\n",
       "        text-align: right;\n",
       "    }\n",
       "</style>\n",
       "<table border=\"1\" class=\"dataframe\">\n",
       "  <thead>\n",
       "    <tr style=\"text-align: right;\">\n",
       "      <th></th>\n",
       "      <th>Name</th>\n",
       "      <th>Category</th>\n",
       "      <th>bin</th>\n",
       "    </tr>\n",
       "  </thead>\n",
       "  <tbody>\n",
       "    <tr>\n",
       "      <th>0</th>\n",
       "      <td>Abiu</td>\n",
       "      <td>Fruit</td>\n",
       "      <td>284</td>\n",
       "    </tr>\n",
       "    <tr>\n",
       "      <th>1</th>\n",
       "      <td>Açaí</td>\n",
       "      <td>Fruit</td>\n",
       "      <td>111</td>\n",
       "    </tr>\n",
       "    <tr>\n",
       "      <th>2</th>\n",
       "      <td>Acerola</td>\n",
       "      <td>Fruit</td>\n",
       "      <td>75</td>\n",
       "    </tr>\n",
       "    <tr>\n",
       "      <th>3</th>\n",
       "      <td>Akebi</td>\n",
       "      <td>Fruit</td>\n",
       "      <td>108</td>\n",
       "    </tr>\n",
       "    <tr>\n",
       "      <th>4</th>\n",
       "      <td>Ackee</td>\n",
       "      <td>Fruit</td>\n",
       "      <td>162</td>\n",
       "    </tr>\n",
       "  </tbody>\n",
       "</table>\n",
       "</div>"
      ],
      "text/plain": [
       "      Name Category  bin\n",
       "0     Abiu    Fruit  284\n",
       "1     Açaí    Fruit  111\n",
       "2  Acerola    Fruit   75\n",
       "3    Akebi    Fruit  108\n",
       "4    Ackee    Fruit  162"
      ]
     },
     "execution_count": 17,
     "metadata": {},
     "output_type": "execute_result"
    }
   ],
   "source": [
    "df2 = pd.read_csv(\"static/fruits.csv\")\n",
    "df2[\"bin\"] = np.random.choice(possible_bins, df2.shape[0])\n",
    "df2.head()"
   ]
  },
  {
   "cell_type": "code",
   "execution_count": 18,
   "metadata": {},
   "outputs": [
    {
     "name": "stdout",
     "output_type": "stream",
     "text": [
      "Loaded 200 work orders\n"
     ]
    },
    {
     "data": {
      "application/vnd.microsoft.datawrangler.viewer.v0+json": {
       "columns": [
        {
         "name": "index",
         "rawType": "int64",
         "type": "integer"
        },
        {
         "name": "Name",
         "rawType": "object",
         "type": "string"
        },
        {
         "name": "Category",
         "rawType": "object",
         "type": "string"
        },
        {
         "name": "bin",
         "rawType": "int64",
         "type": "integer"
        }
       ],
       "ref": "fd804f5c-bb9d-42fd-977d-6afcd2f4d579",
       "rows": [
        [
         "0",
         "Clementine",
         "Fruit",
         "35"
        ],
        [
         "1",
         "Cucumber",
         "Fruit",
         "87"
        ],
        [
         "2",
         "Star apple",
         "Fruit",
         "31"
        ],
        [
         "3",
         "Sloe",
         "Fruit",
         "347"
        ],
        [
         "4",
         "Clementine",
         "Fruit",
         "35"
        ]
       ],
       "shape": {
        "columns": 3,
        "rows": 5
       }
      },
      "text/html": [
       "<div>\n",
       "<style scoped>\n",
       "    .dataframe tbody tr th:only-of-type {\n",
       "        vertical-align: middle;\n",
       "    }\n",
       "\n",
       "    .dataframe tbody tr th {\n",
       "        vertical-align: top;\n",
       "    }\n",
       "\n",
       "    .dataframe thead th {\n",
       "        text-align: right;\n",
       "    }\n",
       "</style>\n",
       "<table border=\"1\" class=\"dataframe\">\n",
       "  <thead>\n",
       "    <tr style=\"text-align: right;\">\n",
       "      <th></th>\n",
       "      <th>Name</th>\n",
       "      <th>Category</th>\n",
       "      <th>bin</th>\n",
       "    </tr>\n",
       "  </thead>\n",
       "  <tbody>\n",
       "    <tr>\n",
       "      <th>0</th>\n",
       "      <td>Clementine</td>\n",
       "      <td>Fruit</td>\n",
       "      <td>35</td>\n",
       "    </tr>\n",
       "    <tr>\n",
       "      <th>1</th>\n",
       "      <td>Cucumber</td>\n",
       "      <td>Fruit</td>\n",
       "      <td>87</td>\n",
       "    </tr>\n",
       "    <tr>\n",
       "      <th>2</th>\n",
       "      <td>Star apple</td>\n",
       "      <td>Fruit</td>\n",
       "      <td>31</td>\n",
       "    </tr>\n",
       "    <tr>\n",
       "      <th>3</th>\n",
       "      <td>Sloe</td>\n",
       "      <td>Fruit</td>\n",
       "      <td>347</td>\n",
       "    </tr>\n",
       "    <tr>\n",
       "      <th>4</th>\n",
       "      <td>Clementine</td>\n",
       "      <td>Fruit</td>\n",
       "      <td>35</td>\n",
       "    </tr>\n",
       "  </tbody>\n",
       "</table>\n",
       "</div>"
      ],
      "text/plain": [
       "         Name Category  bin\n",
       "0  Clementine    Fruit   35\n",
       "1    Cucumber    Fruit   87\n",
       "2  Star apple    Fruit   31\n",
       "3        Sloe    Fruit  347\n",
       "4  Clementine    Fruit   35"
      ]
     },
     "execution_count": 18,
     "metadata": {},
     "output_type": "execute_result"
    }
   ],
   "source": [
    "# Generate work orders\n",
    "wos = 200\n",
    "\n",
    "# Check if wos file is already generated\n",
    "if os.path.isfile(f\"static/fruit_wos_{wos}.parquet\"):\n",
    "    df_wo2 = pd.read_parquet(f\"static/fruit_wos_{wos}.parquet\")\n",
    "    print(f\"Loaded {df_wo2.shape[0]} work orders\")\n",
    "else:\n",
    "    print(f\"Generating {wos} work orders\")\n",
    "    df_wo2 = pd.DataFrame(columns=df2.columns)\n",
    "    for _ in range(wos):\n",
    "        random_row = df2.sample()\n",
    "        df_wo2 = pd.concat([df_wo2, random_row], ignore_index=True)\n",
    "    df_wo2.to_parquet(f\"static/fruit_wos_{wos}.parquet\")\n",
    "df_wo2.head()"
   ]
  },
  {
   "cell_type": "code",
   "execution_count": 19,
   "metadata": {},
   "outputs": [
    {
     "data": {
      "application/vnd.microsoft.datawrangler.viewer.v0+json": {
       "columns": [
        {
         "name": "index",
         "rawType": "int64",
         "type": "integer"
        },
        {
         "name": "Name",
         "rawType": "object",
         "type": "string"
        },
        {
         "name": "Category",
         "rawType": "object",
         "type": "string"
        },
        {
         "name": "bin",
         "rawType": "int64",
         "type": "integer"
        },
        {
         "name": "x",
         "rawType": "int64",
         "type": "integer"
        },
        {
         "name": "y",
         "rawType": "int64",
         "type": "integer"
        }
       ],
       "ref": "688fd6ea-3d87-4a64-9ce4-245dc824aac1",
       "rows": [
        [
         "0",
         "Clementine",
         "Fruit",
         "35",
         "11",
         "1"
        ],
        [
         "1",
         "Cucumber",
         "Fruit",
         "87",
         "15",
         "3"
        ],
        [
         "2",
         "Star apple",
         "Fruit",
         "31",
         "7",
         "1"
        ],
        [
         "3",
         "Sloe",
         "Fruit",
         "347",
         "11",
         "14"
        ],
        [
         "4",
         "Clementine",
         "Fruit",
         "35",
         "11",
         "1"
        ]
       ],
       "shape": {
        "columns": 5,
        "rows": 5
       }
      },
      "text/html": [
       "<div>\n",
       "<style scoped>\n",
       "    .dataframe tbody tr th:only-of-type {\n",
       "        vertical-align: middle;\n",
       "    }\n",
       "\n",
       "    .dataframe tbody tr th {\n",
       "        vertical-align: top;\n",
       "    }\n",
       "\n",
       "    .dataframe thead th {\n",
       "        text-align: right;\n",
       "    }\n",
       "</style>\n",
       "<table border=\"1\" class=\"dataframe\">\n",
       "  <thead>\n",
       "    <tr style=\"text-align: right;\">\n",
       "      <th></th>\n",
       "      <th>Name</th>\n",
       "      <th>Category</th>\n",
       "      <th>bin</th>\n",
       "      <th>x</th>\n",
       "      <th>y</th>\n",
       "    </tr>\n",
       "  </thead>\n",
       "  <tbody>\n",
       "    <tr>\n",
       "      <th>0</th>\n",
       "      <td>Clementine</td>\n",
       "      <td>Fruit</td>\n",
       "      <td>35</td>\n",
       "      <td>11</td>\n",
       "      <td>1</td>\n",
       "    </tr>\n",
       "    <tr>\n",
       "      <th>1</th>\n",
       "      <td>Cucumber</td>\n",
       "      <td>Fruit</td>\n",
       "      <td>87</td>\n",
       "      <td>15</td>\n",
       "      <td>3</td>\n",
       "    </tr>\n",
       "    <tr>\n",
       "      <th>2</th>\n",
       "      <td>Star apple</td>\n",
       "      <td>Fruit</td>\n",
       "      <td>31</td>\n",
       "      <td>7</td>\n",
       "      <td>1</td>\n",
       "    </tr>\n",
       "    <tr>\n",
       "      <th>3</th>\n",
       "      <td>Sloe</td>\n",
       "      <td>Fruit</td>\n",
       "      <td>347</td>\n",
       "      <td>11</td>\n",
       "      <td>14</td>\n",
       "    </tr>\n",
       "    <tr>\n",
       "      <th>4</th>\n",
       "      <td>Clementine</td>\n",
       "      <td>Fruit</td>\n",
       "      <td>35</td>\n",
       "      <td>11</td>\n",
       "      <td>1</td>\n",
       "    </tr>\n",
       "  </tbody>\n",
       "</table>\n",
       "</div>"
      ],
      "text/plain": [
       "         Name Category  bin   x   y\n",
       "0  Clementine    Fruit   35  11   1\n",
       "1    Cucumber    Fruit   87  15   3\n",
       "2  Star apple    Fruit   31   7   1\n",
       "3        Sloe    Fruit  347  11  14\n",
       "4  Clementine    Fruit   35  11   1"
      ]
     },
     "execution_count": 19,
     "metadata": {},
     "output_type": "execute_result"
    }
   ],
   "source": [
    "# add location info to bins\n",
    "df_wo2 = df_wo2.merge(df_wh, left_on=\"bin\", right_on=\"node\", how=\"left\").drop(\n",
    "    columns=[\"node\", \"path\"]\n",
    ")\n",
    "df_wo2.head()"
   ]
  },
  {
   "cell_type": "code",
   "execution_count": 20,
   "metadata": {},
   "outputs": [
    {
     "data": {
      "text/plain": [
       "{'Clementine': (11, 1),\n",
       " 'Cucumber': (15, 3),\n",
       " 'Star apple': (7, 1),\n",
       " 'Sloe': (11, 14),\n",
       " 'Huckleberry': (3, 14),\n",
       " 'Crab apple': (10, 1),\n",
       " 'Muskmelon': (3, 14),\n",
       " 'Pea': (6, 1),\n",
       " 'Tangelo': (18, 5),\n",
       " 'Orange': (18, 3),\n",
       " 'Cherimoya (Custard Apple)': (5, 1),\n",
       " 'Cloudberry': (9, 6),\n",
       " 'Apricot': (4, 1),\n",
       " 'Macopa (Wax Apple)': (9, 5),\n",
       " 'Loganberry': (4, 1),\n",
       " 'Açaí': (3, 6),\n",
       " 'Mouse melon': (9, 6),\n",
       " 'Rose apple': (14, 14),\n",
       " 'Mamey apple': (18, 1),\n",
       " 'Cempedak': (12, 2),\n",
       " 'Chico fruit': (7, 1),\n",
       " 'Tomato': (23, 11),\n",
       " 'Strawberry': (2, 4),\n",
       " 'Peach': (4, 1),\n",
       " 'Banana': (18, 3),\n",
       " 'Tangerine': (9, 2),\n",
       " 'Star fruit': (13, 1),\n",
       " 'Pineberry': (6, 4),\n",
       " 'Mulberry': (20, 14),\n",
       " 'Akebi': (15, 5),\n",
       " 'Olive': (18, 4),\n",
       " 'Grapefruit': (6, 4),\n",
       " 'Mango': (15, 1),\n",
       " 'Lychee': (0, 3),\n",
       " 'Tamarillo': (20, 11),\n",
       " 'Soursop': (23, 14),\n",
       " 'Medlar': (6, 6),\n",
       " 'Santol': (12, 4),\n",
       " 'Jabuticaba (Plinia)': (14, 14),\n",
       " 'Eggplant': (7, 11),\n",
       " 'Araza': (3, 2),\n",
       " 'Tamarind': (2, 14),\n",
       " 'Salak': (18, 11),\n",
       " 'Redcurrant': (3, 5),\n",
       " 'Jackfruit': (18, 11),\n",
       " 'Magellan Barberry': (9, 3),\n",
       " 'Dragonfruit (Pitaya)': (15, 1),\n",
       " 'Abiu': (9, 4),\n",
       " 'Japanese plum': (19, 11),\n",
       " 'Nectarine': (1, 4),\n",
       " 'Raisin (Dried Grape)': (6, 4),\n",
       " 'Sarguelas': (13, 11),\n",
       " 'Avocado': (16, 1),\n",
       " 'Catmon': (9, 1),\n",
       " 'Black sapote': (13, 14),\n",
       " 'Melon': (21, 11),\n",
       " 'Mohsina': (2, 14),\n",
       " 'Prune (Dried Plum)': (9, 3),\n",
       " 'Pineapple': (15, 14),\n",
       " \"Buddha's hand (fingered citron)\": (15, 3),\n",
       " 'Galia melon': (14, 14),\n",
       " 'Thimbleberry': (23, 11),\n",
       " 'Jambul': (12, 5),\n",
       " 'Canistel (egg fruit)': (12, 14),\n",
       " 'Kiwifruit': (22, 11),\n",
       " 'Cranberry': (5, 11),\n",
       " 'Loquat': (3, 5),\n",
       " 'Cantaloupe': (12, 3),\n",
       " 'Mamey Sapote': (18, 6),\n",
       " 'Date': (11, 14),\n",
       " 'Salal berry': (10, 14),\n",
       " 'Blackberry': (3, 11),\n",
       " 'Apple': (14, 1),\n",
       " 'Honeyberry': (12, 4),\n",
       " 'Coconut': (23, 14),\n",
       " 'Cactus pear': (18, 6),\n",
       " 'Blueberry': (0, 4),\n",
       " 'Ximenia': (23, 14),\n",
       " 'Bilberry': (8, 1),\n",
       " 'American Mayapple': (6, 14),\n",
       " 'Boysenberry': (18, 11),\n",
       " 'Sugar apple': (5, 11),\n",
       " 'Pear': (11, 1),\n",
       " 'Pomegranate': (15, 1),\n",
       " 'Quince': (13, 1),\n",
       " 'Gooseberry': (3, 3),\n",
       " 'Grewia asiatica': (12, 6),\n",
       " 'Sapote': (6, 3),\n",
       " 'Kumquat': (4, 1),\n",
       " 'Plumcot': (8, 1),\n",
       " 'Breadfruit': (0, 3),\n",
       " 'Lemon': (5, 11),\n",
       " 'Bell pepper': (4, 1),\n",
       " 'Durian': (22, 14),\n",
       " 'Passionfruit': (11, 14),\n",
       " 'Zucchini': (9, 4),\n",
       " 'Juniper berry': (15, 1),\n",
       " 'Sapodilla': (12, 3),\n",
       " 'Jalapeño': (15, 3),\n",
       " 'Finger Lime (Caviar Lime)': (15, 11),\n",
       " 'Carolina reaper': (13, 11),\n",
       " 'Cherry': (10, 14),\n",
       " 'Currant': (15, 14),\n",
       " 'Longan': (21, 14),\n",
       " 'Miracle fruit': (7, 11),\n",
       " 'Lime': (14, 14),\n",
       " 'Gac': (3, 4),\n",
       " 'Satsuma': (8, 1),\n",
       " 'Damson': (3, 2),\n",
       " 'Pawpaw': (12, 4),\n",
       " 'Feijoa': (0, 3),\n",
       " 'Lulo': (2, 14),\n",
       " 'Citron': (3, 2),\n",
       " 'Blood orange': (5, 1),\n",
       " 'Kaffir lime': (3, 11)}"
      ]
     },
     "execution_count": 20,
     "metadata": {},
     "output_type": "execute_result"
    }
   ],
   "source": [
    "waypoints_dict = df_wo2.set_index(\"Name\")[[\"x\", \"y\"]].apply(tuple, axis=1).to_dict()\n",
    "waypoints_dict"
   ]
  },
  {
   "cell_type": "code",
   "execution_count": 21,
   "metadata": {},
   "outputs": [
    {
     "data": {
      "image/png": "[encoded data removed]",
      "text/plain": [
       "<Figure size 640x480 with 1 Axes>"
      ]
     },
     "metadata": {},
     "output_type": "display_data"
    }
   ],
   "source": [
    "grid = np.loadtxt(\"static/fruteria.csv\", delimiter=\",\", dtype=int)\n",
    "\n",
    "g = Grid(grid)\n",
    "g._plot()"
   ]
  },
  {
   "cell_type": "code",
   "execution_count": 22,
   "metadata": {},
   "outputs": [
    {
     "data": {
      "application/vnd.microsoft.datawrangler.viewer.v0+json": {
       "columns": [
        {
         "name": "index",
         "rawType": "int64",
         "type": "integer"
        },
        {
         "name": "Name",
         "rawType": "object",
         "type": "string"
        },
        {
         "name": "Category",
         "rawType": "object",
         "type": "string"
        },
        {
         "name": "bin",
         "rawType": "int64",
         "type": "integer"
        },
        {
         "name": "x",
         "rawType": "int64",
         "type": "integer"
        },
        {
         "name": "y",
         "rawType": "int64",
         "type": "integer"
        }
       ],
       "ref": "fdba1b6a-18a1-4373-bda8-fb2ef16a0f33",
       "rows": [
        [
         "0",
         "Clementine",
         "Fruit",
         "35",
         "11",
         "1"
        ],
        [
         "1",
         "Cucumber",
         "Fruit",
         "87",
         "15",
         "3"
        ],
        [
         "2",
         "Star apple",
         "Fruit",
         "31",
         "7",
         "1"
        ],
        [
         "3",
         "Sloe",
         "Fruit",
         "347",
         "11",
         "14"
        ],
        [
         "4",
         "Clementine",
         "Fruit",
         "35",
         "11",
         "1"
        ],
        [
         "5",
         "Huckleberry",
         "Fruit",
         "339",
         "3",
         "14"
        ],
        [
         "6",
         "Crab apple",
         "Fruit",
         "34",
         "10",
         "1"
        ],
        [
         "7",
         "Muskmelon",
         "Fruit",
         "339",
         "3",
         "14"
        ],
        [
         "8",
         "Pea",
         "Fruit",
         "30",
         "6",
         "1"
        ],
        [
         "9",
         "Tangelo",
         "Fruit",
         "138",
         "18",
         "5"
        ],
        [
         "10",
         "Orange",
         "Fruit",
         "90",
         "18",
         "3"
        ],
        [
         "11",
         "Cherimoya (Custard Apple)",
         "Fruit",
         "29",
         "5",
         "1"
        ],
        [
         "12",
         "Cloudberry",
         "Fruit",
         "153",
         "9",
         "6"
        ],
        [
         "13",
         "Apricot",
         "Fruit",
         "28",
         "4",
         "1"
        ],
        [
         "14",
         "Star apple",
         "Fruit",
         "31",
         "7",
         "1"
        ],
        [
         "15",
         "Macopa (Wax Apple)",
         "Fruit",
         "129",
         "9",
         "5"
        ],
        [
         "16",
         "Loganberry",
         "Fruit",
         "28",
         "4",
         "1"
        ],
        [
         "17",
         "Açaí",
         "Fruit",
         "147",
         "3",
         "6"
        ],
        [
         "18",
         "Mouse melon",
         "Fruit",
         "153",
         "9",
         "6"
        ],
        [
         "19",
         "Rose apple",
         "Fruit",
         "350",
         "14",
         "14"
        ],
        [
         "20",
         "Mamey apple",
         "Fruit",
         "42",
         "18",
         "1"
        ],
        [
         "21",
         "Cempedak",
         "Fruit",
         "60",
         "12",
         "2"
        ],
        [
         "22",
         "Chico fruit",
         "Fruit",
         "31",
         "7",
         "1"
        ],
        [
         "23",
         "Tomato",
         "Fruit",
         "287",
         "23",
         "11"
        ],
        [
         "24",
         "Strawberry",
         "Fruit",
         "98",
         "2",
         "4"
        ],
        [
         "25",
         "Peach",
         "Fruit",
         "28",
         "4",
         "1"
        ],
        [
         "26",
         "Banana",
         "Fruit",
         "90",
         "18",
         "3"
        ],
        [
         "27",
         "Tangerine",
         "Fruit",
         "57",
         "9",
         "2"
        ],
        [
         "28",
         "Star fruit",
         "Fruit",
         "37",
         "13",
         "1"
        ],
        [
         "29",
         "Pineberry",
         "Fruit",
         "102",
         "6",
         "4"
        ],
        [
         "30",
         "Mulberry",
         "Fruit",
         "356",
         "20",
         "14"
        ],
        [
         "31",
         "Akebi",
         "Fruit",
         "135",
         "15",
         "5"
        ],
        [
         "32",
         "Olive",
         "Fruit",
         "114",
         "18",
         "4"
        ],
        [
         "33",
         "Loganberry",
         "Fruit",
         "28",
         "4",
         "1"
        ],
        [
         "34",
         "Grapefruit",
         "Fruit",
         "102",
         "6",
         "4"
        ],
        [
         "35",
         "Mango",
         "Fruit",
         "39",
         "15",
         "1"
        ],
        [
         "36",
         "Lychee",
         "Fruit",
         "72",
         "0",
         "3"
        ],
        [
         "37",
         "Açaí",
         "Fruit",
         "147",
         "3",
         "6"
        ],
        [
         "38",
         "Tamarillo",
         "Fruit",
         "284",
         "20",
         "11"
        ],
        [
         "39",
         "Soursop",
         "Fruit",
         "359",
         "23",
         "14"
        ],
        [
         "40",
         "Medlar",
         "Fruit",
         "150",
         "6",
         "6"
        ],
        [
         "41",
         "Santol",
         "Fruit",
         "108",
         "12",
         "4"
        ],
        [
         "42",
         "Strawberry",
         "Fruit",
         "98",
         "2",
         "4"
        ],
        [
         "43",
         "Jabuticaba (Plinia)",
         "Fruit",
         "350",
         "14",
         "14"
        ],
        [
         "44",
         "Eggplant",
         "Fruit",
         "271",
         "7",
         "11"
        ],
        [
         "45",
         "Santol",
         "Fruit",
         "108",
         "12",
         "4"
        ],
        [
         "46",
         "Araza",
         "Fruit",
         "51",
         "3",
         "2"
        ],
        [
         "47",
         "Tamarind",
         "Fruit",
         "338",
         "2",
         "14"
        ],
        [
         "48",
         "Salak",
         "Fruit",
         "282",
         "18",
         "11"
        ],
        [
         "49",
         "Redcurrant",
         "Fruit",
         "123",
         "3",
         "5"
        ]
       ],
       "shape": {
        "columns": 5,
        "rows": 200
       }
      },
      "text/html": [
       "<div>\n",
       "<style scoped>\n",
       "    .dataframe tbody tr th:only-of-type {\n",
       "        vertical-align: middle;\n",
       "    }\n",
       "\n",
       "    .dataframe tbody tr th {\n",
       "        vertical-align: top;\n",
       "    }\n",
       "\n",
       "    .dataframe thead th {\n",
       "        text-align: right;\n",
       "    }\n",
       "</style>\n",
       "<table border=\"1\" class=\"dataframe\">\n",
       "  <thead>\n",
       "    <tr style=\"text-align: right;\">\n",
       "      <th></th>\n",
       "      <th>Name</th>\n",
       "      <th>Category</th>\n",
       "      <th>bin</th>\n",
       "      <th>x</th>\n",
       "      <th>y</th>\n",
       "    </tr>\n",
       "  </thead>\n",
       "  <tbody>\n",
       "    <tr>\n",
       "      <th>0</th>\n",
       "      <td>Clementine</td>\n",
       "      <td>Fruit</td>\n",
       "      <td>35</td>\n",
       "      <td>11</td>\n",
       "      <td>1</td>\n",
       "    </tr>\n",
       "    <tr>\n",
       "      <th>1</th>\n",
       "      <td>Cucumber</td>\n",
       "      <td>Fruit</td>\n",
       "      <td>87</td>\n",
       "      <td>15</td>\n",
       "      <td>3</td>\n",
       "    </tr>\n",
       "    <tr>\n",
       "      <th>2</th>\n",
       "      <td>Star apple</td>\n",
       "      <td>Fruit</td>\n",
       "      <td>31</td>\n",
       "      <td>7</td>\n",
       "      <td>1</td>\n",
       "    </tr>\n",
       "    <tr>\n",
       "      <th>3</th>\n",
       "      <td>Sloe</td>\n",
       "      <td>Fruit</td>\n",
       "      <td>347</td>\n",
       "      <td>11</td>\n",
       "      <td>14</td>\n",
       "    </tr>\n",
       "    <tr>\n",
       "      <th>4</th>\n",
       "      <td>Clementine</td>\n",
       "      <td>Fruit</td>\n",
       "      <td>35</td>\n",
       "      <td>11</td>\n",
       "      <td>1</td>\n",
       "    </tr>\n",
       "    <tr>\n",
       "      <th>...</th>\n",
       "      <td>...</td>\n",
       "      <td>...</td>\n",
       "      <td>...</td>\n",
       "      <td>...</td>\n",
       "      <td>...</td>\n",
       "    </tr>\n",
       "    <tr>\n",
       "      <th>195</th>\n",
       "      <td>Sugar apple</td>\n",
       "      <td>Fruit</td>\n",
       "      <td>269</td>\n",
       "      <td>5</td>\n",
       "      <td>11</td>\n",
       "    </tr>\n",
       "    <tr>\n",
       "      <th>196</th>\n",
       "      <td>Jalapeño</td>\n",
       "      <td>Fruit</td>\n",
       "      <td>87</td>\n",
       "      <td>15</td>\n",
       "      <td>3</td>\n",
       "    </tr>\n",
       "    <tr>\n",
       "      <th>197</th>\n",
       "      <td>Finger Lime (Caviar Lime)</td>\n",
       "      <td>Fruit</td>\n",
       "      <td>279</td>\n",
       "      <td>15</td>\n",
       "      <td>11</td>\n",
       "    </tr>\n",
       "    <tr>\n",
       "      <th>198</th>\n",
       "      <td>Mouse melon</td>\n",
       "      <td>Fruit</td>\n",
       "      <td>153</td>\n",
       "      <td>9</td>\n",
       "      <td>6</td>\n",
       "    </tr>\n",
       "    <tr>\n",
       "      <th>199</th>\n",
       "      <td>Pomegranate</td>\n",
       "      <td>Fruit</td>\n",
       "      <td>39</td>\n",
       "      <td>15</td>\n",
       "      <td>1</td>\n",
       "    </tr>\n",
       "  </tbody>\n",
       "</table>\n",
       "<p>200 rows × 5 columns</p>\n",
       "</div>"
      ],
      "text/plain": [
       "                          Name Category  bin   x   y\n",
       "0                   Clementine    Fruit   35  11   1\n",
       "1                     Cucumber    Fruit   87  15   3\n",
       "2                   Star apple    Fruit   31   7   1\n",
       "3                         Sloe    Fruit  347  11  14\n",
       "4                   Clementine    Fruit   35  11   1\n",
       "..                         ...      ...  ...  ..  ..\n",
       "195                Sugar apple    Fruit  269   5  11\n",
       "196                   Jalapeño    Fruit   87  15   3\n",
       "197  Finger Lime (Caviar Lime)    Fruit  279  15  11\n",
       "198                Mouse melon    Fruit  153   9   6\n",
       "199                Pomegranate    Fruit   39  15   1\n",
       "\n",
       "[200 rows x 5 columns]"
      ]
     },
     "execution_count": 22,
     "metadata": {},
     "output_type": "execute_result"
    }
   ],
   "source": [
    "df_wo2"
   ]
  },
  {
   "cell_type": "code",
   "execution_count": 23,
   "metadata": {},
   "outputs": [
    {
     "data": {
      "application/vnd.microsoft.datawrangler.viewer.v0+json": {
       "columns": [
        {
         "name": "index",
         "rawType": "int64",
         "type": "integer"
        },
        {
         "name": "Name",
         "rawType": "object",
         "type": "string"
        },
        {
         "name": "Category",
         "rawType": "object",
         "type": "string"
        },
        {
         "name": "bin",
         "rawType": "int64",
         "type": "integer"
        },
        {
         "name": "x",
         "rawType": "int64",
         "type": "integer"
        },
        {
         "name": "y",
         "rawType": "int64",
         "type": "integer"
        }
       ],
       "ref": "357b041a-d4ba-4792-8fed-bfb6951b3ed4",
       "rows": [
        [
         "0",
         "Clementine",
         "Fruit",
         "35",
         "11",
         "1"
        ],
        [
         "1",
         "Cucumber",
         "Fruit",
         "87",
         "15",
         "3"
        ],
        [
         "2",
         "Star apple",
         "Fruit",
         "31",
         "7",
         "1"
        ],
        [
         "3",
         "Sloe",
         "Fruit",
         "347",
         "11",
         "14"
        ],
        [
         "4",
         "Clementine",
         "Fruit",
         "35",
         "11",
         "1"
        ],
        [
         "5",
         "Huckleberry",
         "Fruit",
         "339",
         "3",
         "14"
        ],
        [
         "6",
         "Crab apple",
         "Fruit",
         "34",
         "10",
         "1"
        ],
        [
         "7",
         "Muskmelon",
         "Fruit",
         "339",
         "3",
         "14"
        ],
        [
         "8",
         "Pea",
         "Fruit",
         "30",
         "6",
         "1"
        ],
        [
         "9",
         "Tangelo",
         "Fruit",
         "138",
         "18",
         "5"
        ],
        [
         "10",
         "Orange",
         "Fruit",
         "90",
         "18",
         "3"
        ]
       ],
       "shape": {
        "columns": 5,
        "rows": 11
       }
      },
      "text/html": [
       "<div>\n",
       "<style scoped>\n",
       "    .dataframe tbody tr th:only-of-type {\n",
       "        vertical-align: middle;\n",
       "    }\n",
       "\n",
       "    .dataframe tbody tr th {\n",
       "        vertical-align: top;\n",
       "    }\n",
       "\n",
       "    .dataframe thead th {\n",
       "        text-align: right;\n",
       "    }\n",
       "</style>\n",
       "<table border=\"1\" class=\"dataframe\">\n",
       "  <thead>\n",
       "    <tr style=\"text-align: right;\">\n",
       "      <th></th>\n",
       "      <th>Name</th>\n",
       "      <th>Category</th>\n",
       "      <th>bin</th>\n",
       "      <th>x</th>\n",
       "      <th>y</th>\n",
       "    </tr>\n",
       "  </thead>\n",
       "  <tbody>\n",
       "    <tr>\n",
       "      <th>0</th>\n",
       "      <td>Clementine</td>\n",
       "      <td>Fruit</td>\n",
       "      <td>35</td>\n",
       "      <td>11</td>\n",
       "      <td>1</td>\n",
       "    </tr>\n",
       "    <tr>\n",
       "      <th>1</th>\n",
       "      <td>Cucumber</td>\n",
       "      <td>Fruit</td>\n",
       "      <td>87</td>\n",
       "      <td>15</td>\n",
       "      <td>3</td>\n",
       "    </tr>\n",
       "    <tr>\n",
       "      <th>2</th>\n",
       "      <td>Star apple</td>\n",
       "      <td>Fruit</td>\n",
       "      <td>31</td>\n",
       "      <td>7</td>\n",
       "      <td>1</td>\n",
       "    </tr>\n",
       "    <tr>\n",
       "      <th>3</th>\n",
       "      <td>Sloe</td>\n",
       "      <td>Fruit</td>\n",
       "      <td>347</td>\n",
       "      <td>11</td>\n",
       "      <td>14</td>\n",
       "    </tr>\n",
       "    <tr>\n",
       "      <th>4</th>\n",
       "      <td>Clementine</td>\n",
       "      <td>Fruit</td>\n",
       "      <td>35</td>\n",
       "      <td>11</td>\n",
       "      <td>1</td>\n",
       "    </tr>\n",
       "    <tr>\n",
       "      <th>5</th>\n",
       "      <td>Huckleberry</td>\n",
       "      <td>Fruit</td>\n",
       "      <td>339</td>\n",
       "      <td>3</td>\n",
       "      <td>14</td>\n",
       "    </tr>\n",
       "    <tr>\n",
       "      <th>6</th>\n",
       "      <td>Crab apple</td>\n",
       "      <td>Fruit</td>\n",
       "      <td>34</td>\n",
       "      <td>10</td>\n",
       "      <td>1</td>\n",
       "    </tr>\n",
       "    <tr>\n",
       "      <th>7</th>\n",
       "      <td>Muskmelon</td>\n",
       "      <td>Fruit</td>\n",
       "      <td>339</td>\n",
       "      <td>3</td>\n",
       "      <td>14</td>\n",
       "    </tr>\n",
       "    <tr>\n",
       "      <th>8</th>\n",
       "      <td>Pea</td>\n",
       "      <td>Fruit</td>\n",
       "      <td>30</td>\n",
       "      <td>6</td>\n",
       "      <td>1</td>\n",
       "    </tr>\n",
       "    <tr>\n",
       "      <th>9</th>\n",
       "      <td>Tangelo</td>\n",
       "      <td>Fruit</td>\n",
       "      <td>138</td>\n",
       "      <td>18</td>\n",
       "      <td>5</td>\n",
       "    </tr>\n",
       "    <tr>\n",
       "      <th>10</th>\n",
       "      <td>Orange</td>\n",
       "      <td>Fruit</td>\n",
       "      <td>90</td>\n",
       "      <td>18</td>\n",
       "      <td>3</td>\n",
       "    </tr>\n",
       "  </tbody>\n",
       "</table>\n",
       "</div>"
      ],
      "text/plain": [
       "           Name Category  bin   x   y\n",
       "0    Clementine    Fruit   35  11   1\n",
       "1      Cucumber    Fruit   87  15   3\n",
       "2    Star apple    Fruit   31   7   1\n",
       "3          Sloe    Fruit  347  11  14\n",
       "4    Clementine    Fruit   35  11   1\n",
       "5   Huckleberry    Fruit  339   3  14\n",
       "6    Crab apple    Fruit   34  10   1\n",
       "7     Muskmelon    Fruit  339   3  14\n",
       "8           Pea    Fruit   30   6   1\n",
       "9       Tangelo    Fruit  138  18   5\n",
       "10       Orange    Fruit   90  18   3"
      ]
     },
     "execution_count": 23,
     "metadata": {},
     "output_type": "execute_result"
    }
   ],
   "source": [
    "# Split work orders into batches of 10\n",
    "batch_size2 = 10\n",
    "fetch_list2 = []\n",
    "for i in range(int(np.floor(df_wo2.count().Category) / batch_size2)):\n",
    "    fetch_list2.append(df_wo2.loc[i * 10 : i * 10 + 10])\n",
    "fetch_list2[0]"
   ]
  },
  {
   "cell_type": "code",
   "execution_count": 24,
   "metadata": {},
   "outputs": [
    {
     "name": "stdout",
     "output_type": "stream",
     "text": [
      "Total distance for a random pick order: 0\n"
     ]
    },
    {
     "data": {
      "application/vnd.microsoft.datawrangler.viewer.v0+json": {
       "columns": [
        {
         "name": "index",
         "rawType": "int64",
         "type": "integer"
        },
        {
         "name": "pickup_list",
         "rawType": "object",
         "type": "unknown"
        },
        {
         "name": "tsp_route",
         "rawType": "object",
         "type": "unknown"
        },
        {
         "name": "tsp_distance",
         "rawType": "object",
         "type": "unknown"
        },
        {
         "name": "pickup_order",
         "rawType": "object",
         "type": "unknown"
        }
       ],
       "ref": "0488de48-5531-43d5-8719-6245d217cd8d",
       "rows": [
        [
         "0",
         "[35, 87, 31, 347, 35, 339, 34, 339, 30, 138, 90]",
         "[339, 347, 34, 35, 90, 138, 87, 31, 30]",
         null,
         null
        ],
        [
         "1",
         "[90, 29, 153, 28, 31, 129, 28, 147, 153, 350, 42]",
         "[147, 28, 29, 31, 129, 153, 350, 90, 42]",
         null,
         null
        ],
        [
         "2",
         "[42, 60, 31, 287, 98, 28, 90, 57, 37, 102, 356]",
         "[98, 28, 31, 102, 356, 287, 90, 42, 37, 60, 57]",
         null,
         null
        ],
        [
         "3",
         "[356, 135, 114, 28, 102, 39, 72, 147, 284, 359, 150]",
         "[28, 39, 114, 356, 359, 284, 135, 150, 102, 147, 72]",
         null,
         null
        ],
        [
         "4",
         "[150, 108, 98, 350, 271, 108, 51, 338, 282, 123, 42]",
         "[271, 338, 123, 150, 350, 282, 42, 108, 51, 98]",
         null,
         null
        ]
       ],
       "shape": {
        "columns": 4,
        "rows": 5
       }
      },
      "text/html": [
       "<div>\n",
       "<style scoped>\n",
       "    .dataframe tbody tr th:only-of-type {\n",
       "        vertical-align: middle;\n",
       "    }\n",
       "\n",
       "    .dataframe tbody tr th {\n",
       "        vertical-align: top;\n",
       "    }\n",
       "\n",
       "    .dataframe thead th {\n",
       "        text-align: right;\n",
       "    }\n",
       "</style>\n",
       "<table border=\"1\" class=\"dataframe\">\n",
       "  <thead>\n",
       "    <tr style=\"text-align: right;\">\n",
       "      <th></th>\n",
       "      <th>pickup_list</th>\n",
       "      <th>tsp_route</th>\n",
       "      <th>tsp_distance</th>\n",
       "      <th>pickup_order</th>\n",
       "    </tr>\n",
       "  </thead>\n",
       "  <tbody>\n",
       "    <tr>\n",
       "      <th>0</th>\n",
       "      <td>[35, 87, 31, 347, 35, 339, 34, 339, 30, 138, 90]</td>\n",
       "      <td>[339, 347, 34, 35, 90, 138, 87, 31, 30]</td>\n",
       "      <td>None</td>\n",
       "      <td>None</td>\n",
       "    </tr>\n",
       "    <tr>\n",
       "      <th>1</th>\n",
       "      <td>[90, 29, 153, 28, 31, 129, 28, 147, 153, 350, 42]</td>\n",
       "      <td>[147, 28, 29, 31, 129, 153, 350, 90, 42]</td>\n",
       "      <td>None</td>\n",
       "      <td>None</td>\n",
       "    </tr>\n",
       "    <tr>\n",
       "      <th>2</th>\n",
       "      <td>[42, 60, 31, 287, 98, 28, 90, 57, 37, 102, 356]</td>\n",
       "      <td>[98, 28, 31, 102, 356, 287, 90, 42, 37, 60, 57]</td>\n",
       "      <td>None</td>\n",
       "      <td>None</td>\n",
       "    </tr>\n",
       "    <tr>\n",
       "      <th>3</th>\n",
       "      <td>[356, 135, 114, 28, 102, 39, 72, 147, 284, 359...</td>\n",
       "      <td>[28, 39, 114, 356, 359, 284, 135, 150, 102, 14...</td>\n",
       "      <td>None</td>\n",
       "      <td>None</td>\n",
       "    </tr>\n",
       "    <tr>\n",
       "      <th>4</th>\n",
       "      <td>[150, 108, 98, 350, 271, 108, 51, 338, 282, 12...</td>\n",
       "      <td>[271, 338, 123, 150, 350, 282, 42, 108, 51, 98]</td>\n",
       "      <td>None</td>\n",
       "      <td>None</td>\n",
       "    </tr>\n",
       "  </tbody>\n",
       "</table>\n",
       "</div>"
      ],
      "text/plain": [
       "                                         pickup_list  \\\n",
       "0   [35, 87, 31, 347, 35, 339, 34, 339, 30, 138, 90]   \n",
       "1  [90, 29, 153, 28, 31, 129, 28, 147, 153, 350, 42]   \n",
       "2    [42, 60, 31, 287, 98, 28, 90, 57, 37, 102, 356]   \n",
       "3  [356, 135, 114, 28, 102, 39, 72, 147, 284, 359...   \n",
       "4  [150, 108, 98, 350, 271, 108, 51, 338, 282, 12...   \n",
       "\n",
       "                                           tsp_route tsp_distance pickup_order  \n",
       "0            [339, 347, 34, 35, 90, 138, 87, 31, 30]         None         None  \n",
       "1           [147, 28, 29, 31, 129, 153, 350, 90, 42]         None         None  \n",
       "2    [98, 28, 31, 102, 356, 287, 90, 42, 37, 60, 57]         None         None  \n",
       "3  [28, 39, 114, 356, 359, 284, 135, 150, 102, 14...         None         None  \n",
       "4    [271, 338, 123, 150, 350, 282, 42, 108, 51, 98]         None         None  "
      ]
     },
     "execution_count": 24,
     "metadata": {},
     "output_type": "execute_result"
    }
   ],
   "source": [
    "# Solve the TSP for a random batch pick order\n",
    "results = []\n",
    "for fetch in fetch_list2:\n",
    "    pickup_list = fetch.bin.values.tolist()\n",
    "    tsp_route, tsp_distance, pickup_order = g.tsp([0], pickup_list)\n",
    "    results.append(\n",
    "        {\n",
    "            \"pickup_list\": pickup_list,\n",
    "            \"tsp_route\": tsp_route,\n",
    "            \"tsp_distance\": tsp_distance,\n",
    "            \"pickup_order\": pickup_order,\n",
    "        }\n",
    "    )\n",
    "\n",
    "df_results = pd.DataFrame(results)\n",
    "print(f\"Total distance for a random pick order: {df_results.tsp_distance.sum()}\")\n",
    "df_results.head()"
   ]
  },
  {
   "cell_type": "markdown",
   "metadata": {},
   "source": [
    "# Split orders into groups of 10 or less and optimize for shortest total distance using clustering algorithms"
   ]
  },
  {
   "cell_type": "code",
   "execution_count": 25,
   "metadata": {},
   "outputs": [
    {
     "data": {
      "text/plain": [
       "<Axes: title={'center': 'Bins Distribution'}, xlabel='bin'>"
      ]
     },
     "execution_count": 25,
     "metadata": {},
     "output_type": "execute_result"
    },
    {
     "data": {
      "image/png": "[encoded data removed]",
      "text/plain": [
       "<Figure size 1000x500 with 1 Axes>"
      ]
     },
     "metadata": {},
     "output_type": "display_data"
    }
   ],
   "source": [
    "df_wo2.bin.value_counts().sort_index().plot(\n",
    "    kind=\"bar\", figsize=(10, 5), title=\"Bins Distribution\"\n",
    ")"
   ]
  },
  {
   "cell_type": "code",
   "execution_count": 26,
   "metadata": {},
   "outputs": [],
   "source": [
    "sorted_bins = np.sort(df_wo2.bin.unique())"
   ]
  },
  {
   "cell_type": "code",
   "execution_count": 27,
   "metadata": {},
   "outputs": [
    {
     "data": {
      "text/plain": [
       "array([[ 0.,  1.,  2., ..., 30., 31., 32.],\n",
       "       [ 1.,  0.,  1., ..., 29., 30., 31.],\n",
       "       [ 2.,  1.,  0., ..., 28., 29., 30.],\n",
       "       ...,\n",
       "       [30., 29., 28., ...,  0.,  1.,  2.],\n",
       "       [31., 30., 29., ...,  1.,  0.,  1.],\n",
       "       [32., 31., 30., ...,  2.,  1.,  0.]], shape=(65, 65))"
      ]
     },
     "execution_count": 27,
     "metadata": {},
     "output_type": "execute_result"
    }
   ],
   "source": [
    "# Construct distance matrix\n",
    "nodes = np.sort(df_wo2.bin.unique())\n",
    "n = len(nodes)\n",
    "distance_matrix = np.zeros((n, n))\n",
    "\n",
    "for i, i_n in enumerate(nodes):\n",
    "    for j, j_n in enumerate(nodes):\n",
    "        if i != j:\n",
    "            # Compute the shortest path distance between nodes[i] and nodes[j]\n",
    "            distance_matrix[i, j] = g.find_path(i_n, j_n)[1]\n",
    "distance_matrix"
   ]
  },
  {
   "cell_type": "code",
   "execution_count": 28,
   "metadata": {},
   "outputs": [
    {
     "data": {
      "text/plain": [
       "array([17, 17, 17, 17, 16, 16, 16, 16, 11, 11, 11, 11, 12, 14, 16,  9, 13,\n",
       "       14, 18, 16,  9, 10,  8, 13, 13, 14, 14, 18, 15,  9,  8, 14, 15,  9,\n",
       "       10,  8, 14, 18, 15,  9,  8,  1,  1,  1,  6,  6,  5,  5,  5,  5,  5,\n",
       "        5,  2,  2,  3,  7,  7,  7,  7,  7,  7,  4,  4,  4,  4],\n",
       "      dtype=int32)"
      ]
     },
     "execution_count": 28,
     "metadata": {},
     "output_type": "execute_result"
    }
   ],
   "source": [
    "from scipy.cluster.hierarchy import linkage, fcluster\n",
    "from scipy.spatial.distance import squareform\n",
    "import matplotlib.pyplot as plt\n",
    "\n",
    "condensed_distance = squareform(distance_matrix)\n",
    "Z = linkage(condensed_distance, method=\"average\")\n",
    "k = int(len(df_wo2) / batch_size2)\n",
    "clusters = fcluster(Z, k, criterion=\"maxclust\")\n",
    "clusters"
   ]
  },
  {
   "cell_type": "code",
   "execution_count": 29,
   "metadata": {},
   "outputs": [
    {
     "data": {
      "application/vnd.microsoft.datawrangler.viewer.v0+json": {
       "columns": [
        {
         "name": "cluster",
         "rawType": "float64",
         "type": "float"
        },
        {
         "name": "0",
         "rawType": "int64",
         "type": "integer"
        }
       ],
       "ref": "a1be06bd-4c89-45ee-b3a2-07939573528d",
       "rows": [
        [
         "1.0",
         "11"
        ],
        [
         "2.0",
         "11"
        ],
        [
         "3.0",
         "2"
        ],
        [
         "4.0",
         "12"
        ],
        [
         "5.0",
         "14"
        ],
        [
         "6.0",
         "5"
        ],
        [
         "7.0",
         "19"
        ],
        [
         "8.0",
         "10"
        ],
        [
         "9.0",
         "12"
        ],
        [
         "10.0",
         "8"
        ],
        [
         "11.0",
         "12"
        ],
        [
         "12.0",
         "4"
        ],
        [
         "13.0",
         "8"
        ],
        [
         "14.0",
         "17"
        ],
        [
         "15.0",
         "10"
        ],
        [
         "16.0",
         "19"
        ],
        [
         "17.0",
         "18"
        ],
        [
         "18.0",
         "8"
        ]
       ],
       "shape": {
        "columns": 1,
        "rows": 18
       }
      },
      "text/plain": [
       "cluster\n",
       "1.0     11\n",
       "2.0     11\n",
       "3.0      2\n",
       "4.0     12\n",
       "5.0     14\n",
       "6.0      5\n",
       "7.0     19\n",
       "8.0     10\n",
       "9.0     12\n",
       "10.0     8\n",
       "11.0    12\n",
       "12.0     4\n",
       "13.0     8\n",
       "14.0    17\n",
       "15.0    10\n",
       "16.0    19\n",
       "17.0    18\n",
       "18.0     8\n",
       "dtype: int64"
      ]
     },
     "execution_count": 29,
     "metadata": {},
     "output_type": "execute_result"
    }
   ],
   "source": [
    "for node, cluster in zip(nodes, clusters):\n",
    "    df_wo2.loc[df_wo2[\"bin\"] == node, \"cluster\"] = cluster\n",
    "df_wo2.groupby(\"cluster\").size()"
   ]
  },
  {
   "cell_type": "code",
   "execution_count": 30,
   "metadata": {},
   "outputs": [
    {
     "data": {
      "image/png": "[encoded data removed]",
      "text/plain": [
       "<Figure size 1000x800 with 2 Axes>"
      ]
     },
     "metadata": {},
     "output_type": "display_data"
    }
   ],
   "source": [
    "plt.figure(figsize=(10, 8))\n",
    "scatter = plt.scatter(\n",
    "    df_wo2[\"x\"],\n",
    "    -df_wo2[\"y\"],\n",
    "    c=df_wo2[\"cluster\"],  # Color points by cluster number.\n",
    "    cmap=\"viridis\",  # Choose a colormap.\n",
    "    s=100,  # Size of each point.\n",
    "    edgecolor=\"k\",\n",
    ")  # Optional: add a black edge for better contrast.\n",
    "\n",
    "# Add a colorbar to show cluster numbers.\n",
    "cbar = plt.colorbar(scatter)\n",
    "cbar.set_label(\"Cluster Number\")\n",
    "\n",
    "# Add plot labels and title.\n",
    "plt.xlabel(\"x\")\n",
    "plt.ylabel(\"y\")\n",
    "plt.title(\"Cluster Plot\")\n",
    "\n",
    "plt.show()"
   ]
  },
  {
   "cell_type": "code",
   "execution_count": 31,
   "metadata": {},
   "outputs": [],
   "source": [
    "# resolve TSP\n",
    "# Group by clusters and convert to lists of nodes\n",
    "fetch_list3 = []\n",
    "for cluster in df_wo2[\"cluster\"].unique():\n",
    "    nodes = df_wo2[df_wo2[\"cluster\"] == cluster].bin.values.tolist()\n",
    "    fetch_list3.append(nodes)"
   ]
  },
  {
   "cell_type": "code",
   "execution_count": 32,
   "metadata": {},
   "outputs": [
    {
     "name": "stdout",
     "output_type": "stream",
     "text": [
      "Total distance for clustered pickup list: 684\n"
     ]
    },
    {
     "data": {
      "application/vnd.microsoft.datawrangler.viewer.v0+json": {
       "columns": [
        {
         "name": "index",
         "rawType": "int64",
         "type": "integer"
        },
        {
         "name": "pickup_list",
         "rawType": "object",
         "type": "unknown"
        },
        {
         "name": "pickup_order",
         "rawType": "object",
         "type": "unknown"
        },
        {
         "name": "tsp_route",
         "rawType": "object",
         "type": "unknown"
        },
        {
         "name": "tsp_distance",
         "rawType": "int64",
         "type": "integer"
        }
       ],
       "ref": "3bc6d811-0e8c-44f5-b133-cecc7354b8a9",
       "rows": [
        [
         "0",
         "[35, 35, 34, 57, 81, 34, 33, 81, 81, 33, 32, 35, 32, 35, 81, 32, 81, 32, 35]",
         "[32, 33, 57, 81, 34, 35]",
         "[0, 24, 25, 26, 27, 28, 29, 30, 31, 32, 33, 57, 81, 57, 33, 34, 35, 34, 33, 32, 31, 30, 29, 28, 27, 26, 25, 24, 0]",
         "28"
        ],
        [
         "1",
         "[87, 135, 87, 87, 135, 87, 87, 87]",
         "[87, 135]",
         "[0, 24, 25, 26, 27, 28, 29, 30, 31, 32, 33, 34, 35, 36, 37, 38, 39, 63, 87, 111, 135, 111, 87, 63, 39, 38, 37, 36, 35, 34, 33, 32, 31, 30, 29, 28, 27, 26, 25, 24, 0]",
         "40"
        ],
        [
         "2",
         "[31, 30, 29, 28, 31, 28, 31, 28, 28, 30, 30, 31, 28, 29, 28, 28, 30, 29]",
         "[28, 29, 30, 31]",
         "[0, 24, 25, 26, 27, 28, 29, 30, 31, 30, 29, 28, 27, 26, 25, 24, 0]",
         "16"
        ],
        [
         "3",
         "[347, 350, 350, 347, 349, 351, 350, 348, 347, 346, 350, 350, 347, 349, 347, 346, 351, 350, 346]",
         "[346, 347, 348, 349, 350, 351]",
         "[0, 24, 25, 26, 27, 28, 29, 30, 31, 32, 33, 57, 81, 105, 129, 153, 177, 201, 225, 249, 273, 297, 321, 345, 346, 347, 348, 349, 350, 351, 350, 349, 348, 347, 346, 345, 321, 297, 273, 249, 225, 201, 200, 199, 198, 197, 196, 195, 194, 193, 192, 168, 144, 120, 96, 72, 48, 24, 0]",
         "58"
        ],
        [
         "4",
         "[339, 339, 338, 338, 338, 338, 338, 338, 338, 338, 338]",
         "[338, 339]",
         "[0, 24, 48, 72, 96, 120, 144, 168, 169, 193, 217, 241, 265, 289, 313, 337, 338, 339, 338, 337, 313, 289, 265, 241, 217, 193, 192, 168, 144, 120, 96, 72, 48, 24, 0]",
         "34"
        ]
       ],
       "shape": {
        "columns": 4,
        "rows": 5
       }
      },
      "text/html": [
       "<div>\n",
       "<style scoped>\n",
       "    .dataframe tbody tr th:only-of-type {\n",
       "        vertical-align: middle;\n",
       "    }\n",
       "\n",
       "    .dataframe tbody tr th {\n",
       "        vertical-align: top;\n",
       "    }\n",
       "\n",
       "    .dataframe thead th {\n",
       "        text-align: right;\n",
       "    }\n",
       "</style>\n",
       "<table border=\"1\" class=\"dataframe\">\n",
       "  <thead>\n",
       "    <tr style=\"text-align: right;\">\n",
       "      <th></th>\n",
       "      <th>pickup_list</th>\n",
       "      <th>pickup_order</th>\n",
       "      <th>tsp_route</th>\n",
       "      <th>tsp_distance</th>\n",
       "    </tr>\n",
       "  </thead>\n",
       "  <tbody>\n",
       "    <tr>\n",
       "      <th>0</th>\n",
       "      <td>[35, 35, 34, 57, 81, 34, 33, 81, 81, 33, 32, 3...</td>\n",
       "      <td>[32, 33, 57, 81, 34, 35]</td>\n",
       "      <td>[0, 24, 25, 26, 27, 28, 29, 30, 31, 32, 33, 57...</td>\n",
       "      <td>28</td>\n",
       "    </tr>\n",
       "    <tr>\n",
       "      <th>1</th>\n",
       "      <td>[87, 135, 87, 87, 135, 87, 87, 87]</td>\n",
       "      <td>[87, 135]</td>\n",
       "      <td>[0, 24, 25, 26, 27, 28, 29, 30, 31, 32, 33, 34...</td>\n",
       "      <td>40</td>\n",
       "    </tr>\n",
       "    <tr>\n",
       "      <th>2</th>\n",
       "      <td>[31, 30, 29, 28, 31, 28, 31, 28, 28, 30, 30, 3...</td>\n",
       "      <td>[28, 29, 30, 31]</td>\n",
       "      <td>[0, 24, 25, 26, 27, 28, 29, 30, 31, 30, 29, 28...</td>\n",
       "      <td>16</td>\n",
       "    </tr>\n",
       "    <tr>\n",
       "      <th>3</th>\n",
       "      <td>[347, 350, 350, 347, 349, 351, 350, 348, 347, ...</td>\n",
       "      <td>[346, 347, 348, 349, 350, 351]</td>\n",
       "      <td>[0, 24, 25, 26, 27, 28, 29, 30, 31, 32, 33, 57...</td>\n",
       "      <td>58</td>\n",
       "    </tr>\n",
       "    <tr>\n",
       "      <th>4</th>\n",
       "      <td>[339, 339, 338, 338, 338, 338, 338, 338, 338, ...</td>\n",
       "      <td>[338, 339]</td>\n",
       "      <td>[0, 24, 48, 72, 96, 120, 144, 168, 169, 193, 2...</td>\n",
       "      <td>34</td>\n",
       "    </tr>\n",
       "  </tbody>\n",
       "</table>\n",
       "</div>"
      ],
      "text/plain": [
       "                                         pickup_list  \\\n",
       "0  [35, 35, 34, 57, 81, 34, 33, 81, 81, 33, 32, 3...   \n",
       "1                 [87, 135, 87, 87, 135, 87, 87, 87]   \n",
       "2  [31, 30, 29, 28, 31, 28, 31, 28, 28, 30, 30, 3...   \n",
       "3  [347, 350, 350, 347, 349, 351, 350, 348, 347, ...   \n",
       "4  [339, 339, 338, 338, 338, 338, 338, 338, 338, ...   \n",
       "\n",
       "                     pickup_order  \\\n",
       "0        [32, 33, 57, 81, 34, 35]   \n",
       "1                       [87, 135]   \n",
       "2                [28, 29, 30, 31]   \n",
       "3  [346, 347, 348, 349, 350, 351]   \n",
       "4                      [338, 339]   \n",
       "\n",
       "                                           tsp_route  tsp_distance  \n",
       "0  [0, 24, 25, 26, 27, 28, 29, 30, 31, 32, 33, 57...            28  \n",
       "1  [0, 24, 25, 26, 27, 28, 29, 30, 31, 32, 33, 34...            40  \n",
       "2  [0, 24, 25, 26, 27, 28, 29, 30, 31, 30, 29, 28...            16  \n",
       "3  [0, 24, 25, 26, 27, 28, 29, 30, 31, 32, 33, 57...            58  \n",
       "4  [0, 24, 48, 72, 96, 120, 144, 168, 169, 193, 2...            34  "
      ]
     },
     "execution_count": 32,
     "metadata": {},
     "output_type": "execute_result"
    }
   ],
   "source": [
    "results3 = []\n",
    "for pickup_list in fetch_list3:\n",
    "    pickup = np.unique(pickup_list).tolist()\n",
    "    pickup_order, tsp_route, tsp_distance = g.tsp([0], pickup, debug=True)\n",
    "    results3.append(\n",
    "        {\n",
    "            \"pickup_list\": pickup_list,\n",
    "            \"pickup_order\": pickup_order,\n",
    "            \"tsp_route\": tsp_route,\n",
    "            \"tsp_distance\": tsp_distance,\n",
    "        }\n",
    "    )\n",
    "\n",
    "df_results = pd.DataFrame(results3)\n",
    "print(f\"Total distance for clustered pickup list: {df_results.tsp_distance.sum()}\")\n",
    "df_results.head()"
   ]
  },
  {
   "cell_type": "code",
   "execution_count": 33,
   "metadata": {},
   "outputs": [
    {
     "data": {
      "image/png": "[encoded data removed]",
      "text/plain": [
       "<Figure size 640x480 with 1 Axes>"
      ]
     },
     "metadata": {},
     "output_type": "display_data"
    }
   ],
   "source": [
    "tsp_route = df_results.iloc[10].tsp_route\n",
    "g._plot(tsp_route)"
   ]
  },
  {
   "cell_type": "code",
   "execution_count": 34,
   "metadata": {},
   "outputs": [
    {
     "data": {
      "application/vnd.microsoft.datawrangler.viewer.v0+json": {
       "columns": [
        {
         "name": "index",
         "rawType": "int64",
         "type": "integer"
        },
        {
         "name": "Name",
         "rawType": "object",
         "type": "string"
        },
        {
         "name": "x",
         "rawType": "int64",
         "type": "integer"
        },
        {
         "name": "y",
         "rawType": "int64",
         "type": "integer"
        }
       ],
       "ref": "209066e0-9df6-4a0e-bd4b-81fc65bf464e",
       "rows": [
        [
         "0",
         "Clementine",
         "11",
         "1"
        ],
        [
         "1",
         "Cucumber",
         "15",
         "3"
        ],
        [
         "2",
         "Star apple",
         "7",
         "1"
        ],
        [
         "3",
         "Sloe",
         "11",
         "14"
        ],
        [
         "4",
         "Clementine",
         "11",
         "1"
        ],
        [
         "5",
         "Huckleberry",
         "3",
         "14"
        ],
        [
         "6",
         "Crab apple",
         "10",
         "1"
        ],
        [
         "7",
         "Muskmelon",
         "3",
         "14"
        ],
        [
         "8",
         "Pea",
         "6",
         "1"
        ],
        [
         "9",
         "Tangelo",
         "18",
         "5"
        ],
        [
         "10",
         "Orange",
         "18",
         "3"
        ],
        [
         "11",
         "Cherimoya (Custard Apple)",
         "5",
         "1"
        ],
        [
         "12",
         "Cloudberry",
         "9",
         "6"
        ],
        [
         "13",
         "Apricot",
         "4",
         "1"
        ],
        [
         "14",
         "Star apple",
         "7",
         "1"
        ],
        [
         "15",
         "Macopa (Wax Apple)",
         "9",
         "5"
        ],
        [
         "16",
         "Loganberry",
         "4",
         "1"
        ],
        [
         "17",
         "Açaí",
         "3",
         "6"
        ],
        [
         "18",
         "Mouse melon",
         "9",
         "6"
        ],
        [
         "19",
         "Rose apple",
         "14",
         "14"
        ],
        [
         "20",
         "Mamey apple",
         "18",
         "1"
        ],
        [
         "21",
         "Cempedak",
         "12",
         "2"
        ],
        [
         "22",
         "Chico fruit",
         "7",
         "1"
        ],
        [
         "23",
         "Tomato",
         "23",
         "11"
        ],
        [
         "24",
         "Strawberry",
         "2",
         "4"
        ],
        [
         "25",
         "Peach",
         "4",
         "1"
        ],
        [
         "26",
         "Banana",
         "18",
         "3"
        ],
        [
         "27",
         "Tangerine",
         "9",
         "2"
        ],
        [
         "28",
         "Star fruit",
         "13",
         "1"
        ],
        [
         "29",
         "Pineberry",
         "6",
         "4"
        ],
        [
         "30",
         "Mulberry",
         "20",
         "14"
        ],
        [
         "31",
         "Akebi",
         "15",
         "5"
        ],
        [
         "32",
         "Olive",
         "18",
         "4"
        ],
        [
         "33",
         "Loganberry",
         "4",
         "1"
        ],
        [
         "34",
         "Grapefruit",
         "6",
         "4"
        ],
        [
         "35",
         "Mango",
         "15",
         "1"
        ],
        [
         "36",
         "Lychee",
         "0",
         "3"
        ],
        [
         "37",
         "Açaí",
         "3",
         "6"
        ],
        [
         "38",
         "Tamarillo",
         "20",
         "11"
        ],
        [
         "39",
         "Soursop",
         "23",
         "14"
        ],
        [
         "40",
         "Medlar",
         "6",
         "6"
        ],
        [
         "41",
         "Santol",
         "12",
         "4"
        ],
        [
         "42",
         "Strawberry",
         "2",
         "4"
        ],
        [
         "43",
         "Jabuticaba (Plinia)",
         "14",
         "14"
        ],
        [
         "44",
         "Eggplant",
         "7",
         "11"
        ],
        [
         "45",
         "Santol",
         "12",
         "4"
        ],
        [
         "46",
         "Araza",
         "3",
         "2"
        ],
        [
         "47",
         "Tamarind",
         "2",
         "14"
        ],
        [
         "48",
         "Salak",
         "18",
         "11"
        ],
        [
         "49",
         "Redcurrant",
         "3",
         "5"
        ]
       ],
       "shape": {
        "columns": 3,
        "rows": 200
       }
      },
      "text/html": [
       "<div>\n",
       "<style scoped>\n",
       "    .dataframe tbody tr th:only-of-type {\n",
       "        vertical-align: middle;\n",
       "    }\n",
       "\n",
       "    .dataframe tbody tr th {\n",
       "        vertical-align: top;\n",
       "    }\n",
       "\n",
       "    .dataframe thead th {\n",
       "        text-align: right;\n",
       "    }\n",
       "</style>\n",
       "<table border=\"1\" class=\"dataframe\">\n",
       "  <thead>\n",
       "    <tr style=\"text-align: right;\">\n",
       "      <th></th>\n",
       "      <th>Name</th>\n",
       "      <th>x</th>\n",
       "      <th>y</th>\n",
       "    </tr>\n",
       "  </thead>\n",
       "  <tbody>\n",
       "    <tr>\n",
       "      <th>0</th>\n",
       "      <td>Clementine</td>\n",
       "      <td>11</td>\n",
       "      <td>1</td>\n",
       "    </tr>\n",
       "    <tr>\n",
       "      <th>1</th>\n",
       "      <td>Cucumber</td>\n",
       "      <td>15</td>\n",
       "      <td>3</td>\n",
       "    </tr>\n",
       "    <tr>\n",
       "      <th>2</th>\n",
       "      <td>Star apple</td>\n",
       "      <td>7</td>\n",
       "      <td>1</td>\n",
       "    </tr>\n",
       "    <tr>\n",
       "      <th>3</th>\n",
       "      <td>Sloe</td>\n",
       "      <td>11</td>\n",
       "      <td>14</td>\n",
       "    </tr>\n",
       "    <tr>\n",
       "      <th>4</th>\n",
       "      <td>Clementine</td>\n",
       "      <td>11</td>\n",
       "      <td>1</td>\n",
       "    </tr>\n",
       "    <tr>\n",
       "      <th>...</th>\n",
       "      <td>...</td>\n",
       "      <td>...</td>\n",
       "      <td>...</td>\n",
       "    </tr>\n",
       "    <tr>\n",
       "      <th>195</th>\n",
       "      <td>Sugar apple</td>\n",
       "      <td>5</td>\n",
       "      <td>11</td>\n",
       "    </tr>\n",
       "    <tr>\n",
       "      <th>196</th>\n",
       "      <td>Jalapeño</td>\n",
       "      <td>15</td>\n",
       "      <td>3</td>\n",
       "    </tr>\n",
       "    <tr>\n",
       "      <th>197</th>\n",
       "      <td>Finger Lime (Caviar Lime)</td>\n",
       "      <td>15</td>\n",
       "      <td>11</td>\n",
       "    </tr>\n",
       "    <tr>\n",
       "      <th>198</th>\n",
       "      <td>Mouse melon</td>\n",
       "      <td>9</td>\n",
       "      <td>6</td>\n",
       "    </tr>\n",
       "    <tr>\n",
       "      <th>199</th>\n",
       "      <td>Pomegranate</td>\n",
       "      <td>15</td>\n",
       "      <td>1</td>\n",
       "    </tr>\n",
       "  </tbody>\n",
       "</table>\n",
       "<p>200 rows × 3 columns</p>\n",
       "</div>"
      ],
      "text/plain": [
       "                          Name   x   y\n",
       "0                   Clementine  11   1\n",
       "1                     Cucumber  15   3\n",
       "2                   Star apple   7   1\n",
       "3                         Sloe  11  14\n",
       "4                   Clementine  11   1\n",
       "..                         ...  ..  ..\n",
       "195                Sugar apple   5  11\n",
       "196                   Jalapeño  15   3\n",
       "197  Finger Lime (Caviar Lime)  15  11\n",
       "198                Mouse melon   9   6\n",
       "199                Pomegranate  15   1\n",
       "\n",
       "[200 rows x 3 columns]"
      ]
     },
     "execution_count": 34,
     "metadata": {},
     "output_type": "execute_result"
    }
   ],
   "source": [
    "df_wo2.drop(columns=[\"bin\", \"cluster\", \"Category\"])"
   ]
  }
 ],
 "metadata": {
  "kernelspec": {
   "display_name": "warehouse",
   "language": "python",
   "name": "python3"
  },
  "language_info": {
   "codemirror_mode": {
    "name": "ipython",
    "version": 3
   },
   "file_extension": ".py",
   "mimetype": "text/x-python",
   "name": "python",
   "nbconvert_exporter": "python",
   "pygments_lexer": "ipython3",
   "version": "3.10.12"
  }
 },
 "nbformat": 4,
 "nbformat_minor": 2
}
