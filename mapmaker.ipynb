{
 "cells": [
  {
   "cell_type": "markdown",
   "metadata": {},
   "source": [
    "# Map Maker"
   ]
  },
  {
   "cell_type": "code",
   "execution_count": 1,
   "metadata": {},
   "outputs": [],
   "source": [
    "import numpy as np\n",
    "import matplotlib.pyplot as plt\n",
    "import ipywidgets as widgets\n",
    "from IPython.display import display\n",
    "\n",
    "# Grid dimensions\n",
    "m, n = 16, 24  # Modify as needed\n",
    "\n",
    "# Initialize grid as all white (0)\n",
    "grid = np.zeros((m, n), dtype=int)\n",
    "\n",
    "# Enable interactive plotting\n",
    "%matplotlib qt\n",
    "\n",
    "\n",
    "def plot_grid():\n",
    "    \"\"\"Function to plot the grid.\"\"\"\n",
    "    plt.imshow(grid, cmap=\"gray_r\", vmin=0, vmax=1)  # gray_r makes 0 white and 1 black\n",
    "    plt.xticks(range(n))\n",
    "    plt.yticks(range(m))\n",
    "    plt.grid(which=\"both\", color=\"gray\", linestyle=\"-\", linewidth=0.5)\n",
    "    plt.gca().set_xticks(np.arange(-0.5, n, 1), minor=True)\n",
    "    plt.gca().set_yticks(np.arange(-0.5, m, 1), minor=True)\n",
    "    plt.gca().grid(which=\"minor\", color=\"black\", linestyle=\"-\", linewidth=1.5)\n",
    "    plt.gca().tick_params(which=\"both\", size=0)\n",
    "    plt.draw()  # Ensure the figure updates\n",
    "\n",
    "\n",
    "def on_click(event):\n",
    "    \"\"\"Toggle grid cells on mouse click.\"\"\"\n",
    "    if event.inaxes:\n",
    "        col = int(event.xdata + 0.5)\n",
    "        row = int(event.ydata + 0.5)\n",
    "        if 0 <= row < m and 0 <= col < n:\n",
    "            grid[row, col] = 1 - grid[row, col]  # Toggle between 0 and 1\n",
    "            plt.clf()\n",
    "            plot_grid()\n",
    "\n",
    "\n",
    "# Create the figure\n",
    "fig, ax = plt.subplots()\n",
    "plot_grid()\n",
    "\n",
    "# Connect the event handler\n",
    "fig.canvas.mpl_connect(\"button_press_event\", on_click)\n",
    "\n",
    "plt.show()"
   ]
  },
  {
   "cell_type": "code",
   "execution_count": 3,
   "metadata": {},
   "outputs": [
    {
     "data": {
      "application/vnd.jupyter.widget-view+json": {
       "model_id": "54dd71470e81410487980278e78a7725",
       "version_major": 2,
       "version_minor": 0
      },
      "text/plain": [
       "Button(description='Save Grid to CSV', style=ButtonStyle())"
      ]
     },
     "metadata": {},
     "output_type": "display_data"
    },
    {
     "name": "stdout",
     "output_type": "stream",
     "text": [
      "Grid saved to grid_state.csv\n",
      "Grid saved to grid_state.csv\n"
     ]
    }
   ],
   "source": [
    "# Function to save the grid state to CSV\n",
    "def save_grid_to_csv(_):\n",
    "    file_path = \"grid_state.csv\"\n",
    "    np.savetxt(file_path, grid, delimiter=\",\", fmt=\"%d\")\n",
    "    print(f\"Grid saved to {file_path}\")\n",
    "\n",
    "\n",
    "# Create and display the save button\n",
    "save_button = widgets.Button(description=\"Save Grid to CSV\")\n",
    "save_button.on_click(save_grid_to_csv)\n",
    "display(save_button)"
   ]
  },
  {
   "cell_type": "code",
   "execution_count": 5,
   "metadata": {},
   "outputs": [
    {
     "data": {
      "text/plain": [
       "array([[1, 0, 0, 0, 0, 0, 0, 0, 0, 0, 0, 0, 0, 0, 0, 0, 0, 0, 1, 1, 1, 1,\n",
       "        1, 1],\n",
       "       [1, 1, 1, 1, 1, 1, 1, 1, 1, 1, 1, 1, 1, 1, 1, 1, 1, 1, 1, 1, 1, 1,\n",
       "        1, 1],\n",
       "       [1, 0, 0, 1, 0, 0, 1, 0, 0, 1, 0, 0, 1, 0, 0, 1, 0, 0, 1, 1, 1, 1,\n",
       "        1, 1],\n",
       "       [1, 0, 0, 1, 0, 0, 1, 0, 0, 1, 0, 0, 1, 0, 0, 1, 0, 0, 1, 1, 1, 1,\n",
       "        1, 1],\n",
       "       [1, 1, 1, 1, 0, 0, 1, 0, 0, 1, 0, 0, 1, 0, 0, 1, 0, 0, 1, 1, 1, 1,\n",
       "        1, 1],\n",
       "       [1, 0, 0, 1, 0, 0, 1, 0, 0, 1, 0, 0, 1, 0, 0, 1, 0, 0, 1, 1, 1, 1,\n",
       "        1, 1],\n",
       "       [1, 0, 0, 1, 0, 0, 1, 0, 0, 1, 0, 0, 1, 0, 0, 1, 0, 0, 1, 1, 1, 1,\n",
       "        1, 1],\n",
       "       [1, 1, 1, 1, 1, 1, 1, 1, 1, 1, 1, 1, 1, 1, 1, 1, 1, 1, 1, 1, 1, 1,\n",
       "        1, 1],\n",
       "       [1, 1, 1, 1, 1, 1, 1, 1, 1, 1, 1, 1, 1, 1, 1, 1, 1, 1, 1, 1, 1, 1,\n",
       "        1, 1],\n",
       "       [0, 1, 0, 0, 0, 0, 0, 0, 0, 1, 0, 0, 0, 0, 0, 0, 0, 1, 0, 0, 0, 0,\n",
       "        0, 0],\n",
       "       [0, 1, 0, 0, 0, 0, 0, 0, 0, 1, 0, 0, 0, 0, 0, 0, 0, 1, 0, 0, 0, 0,\n",
       "        0, 0],\n",
       "       [0, 1, 1, 1, 1, 1, 1, 1, 0, 1, 1, 1, 1, 1, 1, 1, 0, 1, 1, 1, 1, 1,\n",
       "        1, 1],\n",
       "       [0, 1, 0, 0, 0, 0, 0, 0, 0, 1, 0, 0, 0, 0, 0, 0, 0, 1, 0, 0, 0, 0,\n",
       "        0, 0],\n",
       "       [0, 1, 0, 0, 0, 0, 0, 0, 0, 1, 0, 0, 0, 0, 0, 0, 0, 1, 0, 0, 0, 0,\n",
       "        0, 0],\n",
       "       [0, 1, 1, 1, 1, 1, 1, 1, 0, 1, 1, 1, 1, 1, 1, 1, 0, 1, 1, 1, 1, 1,\n",
       "        1, 1],\n",
       "       [0, 0, 0, 0, 0, 0, 0, 0, 0, 0, 0, 0, 0, 0, 0, 0, 0, 0, 0, 0, 0, 0,\n",
       "        0, 0]])"
      ]
     },
     "execution_count": 5,
     "metadata": {},
     "output_type": "execute_result"
    }
   ],
   "source": [
    "# convert CSV to np array\n",
    "np.loadtxt(\"grid_state.csv\", delimiter=\",\", dtype=int)"
   ]
  }
 ],
 "metadata": {
  "kernelspec": {
   "display_name": "Python 3",
   "language": "python",
   "name": "python3"
  },
  "language_info": {
   "codemirror_mode": {
    "name": "ipython",
    "version": 3
   },
   "file_extension": ".py",
   "mimetype": "text/x-python",
   "name": "python",
   "nbconvert_exporter": "python",
   "pygments_lexer": "ipython3",
   "version": "3.10.12"
  }
 },
 "nbformat": 4,
 "nbformat_minor": 2
}
